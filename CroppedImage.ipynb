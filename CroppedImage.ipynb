{
  "nbformat": 4,
  "nbformat_minor": 0,
  "metadata": {
    "colab": {
      "provenance": [],
      "authorship_tag": "ABX9TyMGeVVwRUUIbc1joqfJTZdf",
      "include_colab_link": true
    },
    "kernelspec": {
      "name": "python3",
      "display_name": "Python 3"
    },
    "language_info": {
      "name": "python"
    }
  },
  "cells": [
    {
      "cell_type": "markdown",
      "metadata": {
        "id": "view-in-github",
        "colab_type": "text"
      },
      "source": [
        "<a href=\"https://colab.research.google.com/github/Aniket1492/PdfML/blob/main/CroppedImage.ipynb\" target=\"_parent\"><img src=\"https://colab.research.google.com/assets/colab-badge.svg\" alt=\"Open In Colab\"/></a>"
      ]
    },
    {
      "cell_type": "code",
      "source": [
        "! apt install tesseract-ocr\n",
        "! apt install libtesseract-dev"
      ],
      "metadata": {
        "id": "tyMQsNtrEF2U",
        "outputId": "308c4c04-9cb9-4d49-839e-f29b48a65dd3",
        "colab": {
          "base_uri": "https://localhost:8080/"
        }
      },
      "execution_count": 14,
      "outputs": [
        {
          "output_type": "stream",
          "name": "stdout",
          "text": [
            "Reading package lists... Done\n",
            "Building dependency tree... Done\n",
            "Reading state information... Done\n",
            "The following additional packages will be installed:\n",
            "  tesseract-ocr-eng tesseract-ocr-osd\n",
            "The following NEW packages will be installed:\n",
            "  tesseract-ocr tesseract-ocr-eng tesseract-ocr-osd\n",
            "0 upgraded, 3 newly installed, 0 to remove and 39 not upgraded.\n",
            "Need to get 4,816 kB of archives.\n",
            "After this operation, 15.6 MB of additional disk space will be used.\n",
            "Get:1 http://archive.ubuntu.com/ubuntu jammy/universe amd64 tesseract-ocr-eng all 1:4.00~git30-7274cfa-1.1 [1,591 kB]\n",
            "Get:2 http://archive.ubuntu.com/ubuntu jammy/universe amd64 tesseract-ocr-osd all 1:4.00~git30-7274cfa-1.1 [2,990 kB]\n",
            "Get:3 http://archive.ubuntu.com/ubuntu jammy/universe amd64 tesseract-ocr amd64 4.1.1-2.1build1 [236 kB]\n",
            "Fetched 4,816 kB in 1s (4,753 kB/s)\n",
            "Selecting previously unselected package tesseract-ocr-eng.\n",
            "(Reading database ... 121753 files and directories currently installed.)\n",
            "Preparing to unpack .../tesseract-ocr-eng_1%3a4.00~git30-7274cfa-1.1_all.deb ...\n",
            "Unpacking tesseract-ocr-eng (1:4.00~git30-7274cfa-1.1) ...\n",
            "Selecting previously unselected package tesseract-ocr-osd.\n",
            "Preparing to unpack .../tesseract-ocr-osd_1%3a4.00~git30-7274cfa-1.1_all.deb ...\n",
            "Unpacking tesseract-ocr-osd (1:4.00~git30-7274cfa-1.1) ...\n",
            "Selecting previously unselected package tesseract-ocr.\n",
            "Preparing to unpack .../tesseract-ocr_4.1.1-2.1build1_amd64.deb ...\n",
            "Unpacking tesseract-ocr (4.1.1-2.1build1) ...\n",
            "Setting up tesseract-ocr-eng (1:4.00~git30-7274cfa-1.1) ...\n",
            "Setting up tesseract-ocr-osd (1:4.00~git30-7274cfa-1.1) ...\n",
            "Setting up tesseract-ocr (4.1.1-2.1build1) ...\n",
            "Processing triggers for man-db (2.10.2-1) ...\n",
            "Reading package lists... Done\n",
            "Building dependency tree... Done\n",
            "Reading state information... Done\n",
            "The following additional packages will be installed:\n",
            "  libarchive-dev libleptonica-dev\n",
            "The following NEW packages will be installed:\n",
            "  libarchive-dev libleptonica-dev libtesseract-dev\n",
            "0 upgraded, 3 newly installed, 0 to remove and 39 not upgraded.\n",
            "Need to get 3,743 kB of archives.\n",
            "After this operation, 16.0 MB of additional disk space will be used.\n",
            "Get:1 http://archive.ubuntu.com/ubuntu jammy/main amd64 libarchive-dev amd64 3.6.0-1ubuntu1 [581 kB]\n",
            "Get:2 http://archive.ubuntu.com/ubuntu jammy/universe amd64 libleptonica-dev amd64 1.82.0-3build1 [1,562 kB]\n",
            "Get:3 http://archive.ubuntu.com/ubuntu jammy/universe amd64 libtesseract-dev amd64 4.1.1-2.1build1 [1,600 kB]\n",
            "Fetched 3,743 kB in 1s (4,460 kB/s)\n",
            "Selecting previously unselected package libarchive-dev:amd64.\n",
            "(Reading database ... 121800 files and directories currently installed.)\n",
            "Preparing to unpack .../libarchive-dev_3.6.0-1ubuntu1_amd64.deb ...\n",
            "Unpacking libarchive-dev:amd64 (3.6.0-1ubuntu1) ...\n",
            "Selecting previously unselected package libleptonica-dev.\n",
            "Preparing to unpack .../libleptonica-dev_1.82.0-3build1_amd64.deb ...\n",
            "Unpacking libleptonica-dev (1.82.0-3build1) ...\n",
            "Selecting previously unselected package libtesseract-dev:amd64.\n",
            "Preparing to unpack .../libtesseract-dev_4.1.1-2.1build1_amd64.deb ...\n",
            "Unpacking libtesseract-dev:amd64 (4.1.1-2.1build1) ...\n",
            "Setting up libleptonica-dev (1.82.0-3build1) ...\n",
            "Setting up libarchive-dev:amd64 (3.6.0-1ubuntu1) ...\n",
            "Setting up libtesseract-dev:amd64 (4.1.1-2.1build1) ...\n",
            "Processing triggers for man-db (2.10.2-1) ...\n"
          ]
        }
      ]
    },
    {
      "cell_type": "code",
      "source": [
        "! pip install Pillow\n",
        "! pip install pytesseract"
      ],
      "metadata": {
        "id": "mlC2_CKdFA3m",
        "outputId": "8ed81cc7-da57-45fb-89a0-5ae9e2e8089e",
        "colab": {
          "base_uri": "https://localhost:8080/"
        }
      },
      "execution_count": 15,
      "outputs": [
        {
          "output_type": "stream",
          "name": "stdout",
          "text": [
            "Requirement already satisfied: Pillow in /usr/local/lib/python3.10/dist-packages (9.4.0)\n",
            "Requirement already satisfied: pytesseract in /usr/local/lib/python3.10/dist-packages (0.3.10)\n",
            "Requirement already satisfied: packaging>=21.3 in /usr/local/lib/python3.10/dist-packages (from pytesseract) (24.0)\n",
            "Requirement already satisfied: Pillow>=8.0.0 in /usr/local/lib/python3.10/dist-packages (from pytesseract) (9.4.0)\n"
          ]
        }
      ]
    },
    {
      "cell_type": "code",
      "source": [
        "from PIL import Image, ImageDraw, ImageFont\n",
        "import pytesseract\n",
        "import cv2 as cv\n",
        "\n",
        "\n",
        "image_cropped=Image.open(\"/content/test1.png\")\n",
        "crop1 = image_cropped.crop((160, 145,210, 159))\n",
        "\n",
        "\n",
        "crop1 = crop1.save(\"croppedimage.jpg\")"
      ],
      "metadata": {
        "id": "yhg0n2L1DkDh"
      },
      "execution_count": 72,
      "outputs": []
    },
    {
      "cell_type": "code",
      "execution_count": 78,
      "metadata": {
        "id": "IeP2mTeX2Yfn"
      },
      "outputs": [],
      "source": [
        "import cv2 as cv\n",
        "\n",
        "img = cv.imread(\"/content/croppedimage.jpg\")\n",
        "img = cv.cvtColor(img, cv.COLOR_BGR2GRAY)\n",
        "\n",
        "\n",
        "_,result = cv.threshold(img,125,255,cv.THRESH_BINARY)\n",
        "\n",
        "cv.imwrite('croppedgrey.jpg', img)\n",
        "# r,result = cv.threshold(img,35)\n",
        "\n",
        "# cv.imshow('image',img)\n",
        "\n",
        "cv.destroyAllWindows()"
      ]
    },
    {
      "cell_type": "code",
      "source": [
        "final_img = cv.imread(\"/content/croppedgrey.jpg\")\n",
        "# ResizedImage = cv.resize(final_img, (80,20))\n",
        "# cv.imwrite('final.jpg', ResizedImage)"
      ],
      "metadata": {
        "id": "3iG98tkmHk4r"
      },
      "execution_count": 79,
      "outputs": []
    },
    {
      "cell_type": "code",
      "source": [
        "text = pytesseract.image_to_string(\"/content/croppedgrey.jpg\")\n",
        "print(text)\n"
      ],
      "metadata": {
        "id": "e_fC7DpvD5Ar",
        "outputId": "f3382e1f-042a-45af-9e4f-30e6ffdc7609",
        "colab": {
          "base_uri": "https://localhost:8080/"
        }
      },
      "execution_count": 80,
      "outputs": [
        {
          "output_type": "stream",
          "name": "stdout",
          "text": [
            "P-28572\n",
            "\f\n"
          ]
        }
      ]
    },
    {
      "cell_type": "code",
      "source": [
        "file = open(\"/content/image cordinates.txt\", \"r\")\n",
        "content = file.read()\n",
        "# print(content)\n",
        "file.close()\n",
        "list_label=content.split('\\n')\n",
        "list_label.remove('BOX')\n",
        "print(list_label)\n"
      ],
      "metadata": {
        "id": "XYtxYq8-i1nW",
        "outputId": "8904dbb8-83dc-4731-e0e4-15a856cb44f4",
        "colab": {
          "base_uri": "https://localhost:8080/"
        }
      },
      "execution_count": 109,
      "outputs": [
        {
          "output_type": "stream",
          "name": "stdout",
          "text": [
            "['[tensor(152.5400), tensor(121.5900), tensor(220.9800), tensor(130.4100)]', 'S-INVOICE DATE', 'BOX', '[tensor(152.5400), tensor(121.5900), tensor(220.9800), tensor(130.4100)]', 'S-INVOICE DATE', 'BOX', '[tensor(152.5400), tensor(121.5900), tensor(220.9800), tensor(130.4100)]', 'S-INVOICE DATE', 'BOX', '[tensor(152.5400), tensor(121.5900), tensor(220.9800), tensor(130.4100)]', 'S-INVOICE DATE', 'BOX', '[tensor(152.5400), tensor(121.5900), tensor(220.9800), tensor(130.4100)]', 'S-INVOICE DATE', 'BOX', '[tensor(152.5400), tensor(121.5900), tensor(220.9800), tensor(130.4100)]', 'S-INVOICE DATE', 'BOX', '[tensor(156.6000), tensor(145.5300), tensor(210.5400), tensor(154.9800)]', 'S-INVOICE NUMBER', 'BOX', '[tensor(156.6000), tensor(145.5300), tensor(210.5400), tensor(154.9800)]', 'S-PONUMBER', 'BOX', '[tensor(156.6000), tensor(145.5300), tensor(210.5400), tensor(154.9800)]', 'S-INVOICE NUMBER', 'BOX', '[tensor(156.6000), tensor(145.5300), tensor(210.5400), tensor(154.9800)]', 'S-INVOICE NUMBER', 'BOX', '[tensor(311.4600), tensor(248.8500), tensor(387.4400), tensor(270.9000)]', 'B-SHIP TO NAME', 'BOX', '[tensor(311.4600), tensor(248.8500), tensor(387.4400), tensor(270.9000)]', 'B-SHIP TO NAME', 'BOX', '[tensor(311.4600), tensor(248.8500), tensor(387.4400), tensor(270.9000)]', 'B-SHIP TO NAME', 'BOX', '[tensor(311.4600), tensor(248.8500), tensor(387.4400), tensor(270.9000)]', 'I-SHIP TO NAME', 'BOX', '[tensor(388.6000), tensor(248.8500), tensor(418.7600), tensor(270.9000)]', 'I-SHIP TO NAME', 'BOX', '[tensor(388.6000), tensor(248.8500), tensor(418.7600), tensor(270.9000)]', 'I-SHIP TO NAME', 'BOX', '[tensor(429.7800), tensor(258.9300), tensor(433.8400), tensor(260.8200)]', 'I-SHIP TO NAME', 'BOX', '[tensor(432.6800), tensor(252.6300), tensor(544.6200), tensor(263.9700)]', 'E-SHIP TO NAME', 'BOX', '[tensor(432.6800), tensor(252.6300), tensor(544.6200), tensor(263.9700)]', 'E-SHIP TO NAME', 'BOX', '[tensor(432.6800), tensor(252.6300), tensor(544.6200), tensor(263.9700)]', 'E-SHIP TO NAME', 'BOX', '[tensor(432.6800), tensor(252.6300), tensor(544.6200), tensor(263.9700)]', 'E-SHIP TO NAME', 'BOX', '[tensor(432.6800), tensor(252.6300), tensor(544.6200), tensor(263.9700)]', 'E-SHIP TO NAME', 'BOX', '[tensor(302.7600), tensor(249.4800), tensor(392.6600), tensor(302.4000)]', 'B-SHIP TO ADDRESS', 'BOX', '[tensor(396.7200), tensor(270.9000), tensor(418.7600), tensor(280.9800)]', 'I-SHIP TO ADDRESS', 'BOX', '[tensor(69.6000), tensor(289.8000), tensor(72.5000), tensor(292.9500)]', 'B-SOLD TO ADDRESS', 'BOX', '[tensor(312.6200), tensor(283.5000), tensor(355.5400), tensor(305.5500)]', 'B-SHIP TO NAME', 'BOX', '[tensor(312.6200), tensor(283.5000), tensor(355.5400), tensor(305.5500)]', 'B-SHIP TO NAME', 'BOX', '[tensor(411.8000), tensor(287.9100), tensor(421.6600), tensor(297.9900)]', 'E-SHIP TO ADDRESS', 'BOX', '[tensor(411.8000), tensor(287.9100), tensor(421.6600), tensor(297.9900)]', 'E-SOLD TO ADDRESS', 'BOX', '[tensor(320.7400), tensor(287.9100), tensor(433.8400), tensor(315.6300)]', 'E-ITEM', 'BOX', '[tensor(320.7400), tensor(287.9100), tensor(433.8400), tensor(315.6300)]', 'E-ITEM', 'BOX', '[tensor(24.9400), tensor(311.8500), tensor(139.7800), tensor(348.3900)]', 'B-SOLD TO ADDRESS', 'BOX', '[tensor(146.7400), tensor(315.6300), tensor(165.8800), tensor(328.8600)]', 'I-SOLD TO ADDRESS', 'BOX', '[tensor(146.7400), tensor(315.6300), tensor(165.8800), tensor(328.8600)]', 'I-SOLD TO ADDRESS', 'BOX', '[tensor(320.7400), tensor(322.5600), tensor(397.8800), tensor(334.5300)]', 'B-SHIP TO ADDRESS', 'BOX', '[tensor(320.7400), tensor(322.5600), tensor(397.8800), tensor(334.5300)]', 'B-SHIP TO ADDRESS', 'BOX', '[tensor(320.7400), tensor(322.5600), tensor(397.8800), tensor(334.5300)]', 'B-SHIP TO ADDRESS', 'BOX', '[tensor(320.7400), tensor(322.5600), tensor(397.8800), tensor(334.5300)]', 'I-SHIP TO ADDRESS', 'BOX', '[tensor(401.9400), tensor(322.5600), tensor(418.7600), tensor(332.6400)]', 'I-SHIP TO ADDRESS', 'BOX', '[tensor(422.8200), tensor(328.8600), tensor(427.4600), tensor(329.4900)]', 'I-SHIP TO ADDRESS', 'BOX', '[tensor(431.5200), tensor(321.9300), tensor(471.5400), tensor(332.6400)]', 'I-SHIP TO ADDRESS', 'BOX', '[tensor(431.5200), tensor(321.9300), tensor(471.5400), tensor(332.6400)]', 'I-SHIP TO ADDRESS', 'BOX', '[tensor(431.5200), tensor(321.9300), tensor(471.5400), tensor(332.6400)]', 'I-SHIP TO ADDRESS', 'BOX', '[tensor(476.7600), tensor(328.8600), tensor(480.8200), tensor(329.4900)]', 'I-SHIP TO ADDRESS', 'BOX', '[tensor(483.7200), tensor(322.5600), tensor(511.5600), tensor(332.6400)]', 'E-SHIP TO ADDRESS', 'BOX', '[tensor(24.9400), tensor(349.6500), tensor(80.6200), tensor(362.8800)]', 'B-SOLD TO ADDRESS', 'BOX', '[tensor(24.9400), tensor(349.6500), tensor(80.6200), tensor(362.8800)]', 'I-SOLD TO ADDRESS', 'BOX', '[tensor(84.6800), tensor(349.6500), tensor(95.7000), tensor(359.7300)]', 'I-SOLD TO ADDRESS', 'BOX', '[tensor(99.7600), tensor(355.9500), tensor(103.8200), tensor(356.5800)]', 'I-SOLD TO ADDRESS', 'BOX', '[tensor(107.8800), tensor(349.6500), tensor(149.6400), tensor(359.7300)]', 'I-SOLD TO ADDRESS', 'BOX', '[tensor(107.8800), tensor(349.6500), tensor(149.6400), tensor(359.7300)]', 'E-SOLD TO ADDRESS', 'BOX', '[tensor(107.8800), tensor(349.6500), tensor(149.6400), tensor(359.7300)]', 'E-SOLD TO ADDRESS', 'BOX', '[tensor(153.7000), tensor(349.6500), tensor(181.5400), tensor(359.7300)]', 'E-SOLD TO ADDRESS', 'BOX', '[tensor(43.5000), tensor(391.8600), tensor(99.7600), tensor(403.8300)]', 'B-ITEM', 'BOX', '[tensor(43.5000), tensor(391.8600), tensor(99.7600), tensor(403.8300)]', 'I-ITEM', 'BOX', '[tensor(98.6000), tensor(382.4100), tensor(122.9600), tensor(413.9100)]', 'I-ITEM', 'BOX', '[tensor(98.6000), tensor(382.4100), tensor(122.9600), tensor(413.9100)]', 'I-ITEM', 'BOX', '[tensor(124.7000), tensor(382.4100), tensor(148.4800), tensor(413.9100)]', 'E-ITEM', 'BOX', '[tensor(124.7000), tensor(382.4100), tensor(148.4800), tensor(413.9100)]', 'E-ITEM', 'BOX', '[tensor(31.9000), tensor(423.9900), tensor(60.9000), tensor(432.8100)]', 'B-ITEM', 'BOX', '[tensor(31.9000), tensor(423.9900), tensor(60.9000), tensor(432.8100)]', 'B-ITEM', 'BOX', '[tensor(65.5400), tensor(427.7700), tensor(68.4400), tensor(429.6600)]', 'I-ITEM', 'BOX', '[tensor(73.6600), tensor(423.9900), tensor(120.6400), tensor(434.7000)]', 'I-ITEM', 'BOX', '[tensor(73.6600), tensor(423.9900), tensor(120.6400), tensor(434.7000)]', 'I-ITEM', 'BOX', '[tensor(73.6600), tensor(423.9900), tensor(120.6400), tensor(434.7000)]', 'I-ITEM', 'BOX', '[tensor(124.7000), tensor(423.9900), tensor(147.9000), tensor(435.9600)]', 'E-ITEM', 'BOX', '[tensor(310.8800), tensor(412.6500), tensor(334.6600), tensor(443.5200)]', 'S-QUANTITY', 'BOX', '[tensor(485.4600), tensor(421.4700), tensor(525.4800), tensor(432.8100)]', 'S-LINETOTAL', 'BOX', '[tensor(485.4600), tensor(421.4700), tensor(525.4800), tensor(432.8100)]', 'S-LINETOTAL', 'BOX', '[tensor(485.4600), tensor(421.4700), tensor(525.4800), tensor(432.8100)]', 'S-LINETOTAL', 'BOX', '[tensor(32.4800), tensor(457.3800), tensor(62.6400), tensor(466.8300)]', 'B-ITEM', 'BOX', '[tensor(32.4800), tensor(457.3800), tensor(62.6400), tensor(466.8300)]', 'B-ITEM', 'BOX', '[tensor(61.4800), tensor(445.4100), tensor(67.8600), tensor(476.9100)]', 'I-ITEM', 'BOX', '[tensor(75.9800), tensor(457.3800), tensor(119.4800), tensor(469.9800)]', 'E-ITEM', 'BOX', '[tensor(75.9800), tensor(457.3800), tensor(119.4800), tensor(469.9800)]', 'E-ITEM', 'BOX', '[tensor(75.9800), tensor(457.3800), tensor(119.4800), tensor(469.9800)]', 'E-ITEM', 'BOX', '[tensor(314.9400), tensor(445.4100), tensor(335.8200), tensor(476.9100)]', 'S-QUANTITY', 'BOX', '[tensor(477.9200), tensor(457.3800), tensor(525.4800), tensor(467.4600)]', 'S-LINETOTAL', 'BOX', '[tensor(477.9200), tensor(457.3800), tensor(525.4800), tensor(467.4600)]', 'S-LINETOTAL', 'BOX', '[tensor(477.9200), tensor(457.3800), tensor(525.4800), tensor(467.4600)]', 'S-LINETOTAL', 'BOX', '[tensor(477.9200), tensor(457.3800), tensor(525.4800), tensor(467.4600)]', 'S-LINETOTAL', 'BOX', '[tensor(32.4800), tensor(496.4400), tensor(61.4800), tensor(505.8900)]', 'B-ITEM', 'BOX', '[tensor(66.7000), tensor(500.8500), tensor(69.6000), tensor(502.7400)]', 'I-ITEM', 'BOX', '[tensor(75.9800), tensor(496.4400), tensor(99.7600), tensor(505.8900)]', 'I-ITEM', 'BOX', '[tensor(103.8200), tensor(496.4400), tensor(162.9800), tensor(508.4100)]', 'I-ITEM', 'BOX', '[tensor(103.8200), tensor(496.4400), tensor(162.9800), tensor(508.4100)]', 'I-ITEM', 'BOX', '[tensor(166.4600), tensor(496.4400), tensor(183.8600), tensor(505.8900)]', 'E-ITEM', 'BOX', '[tensor(304.5000), tensor(484.4700), tensor(331.7600), tensor(515.9700)]', 'S-QUANTITY', 'BOX', '[tensor(476.7600), tensor(496.4400), tensor(523.7400), tensor(507.7800)]', 'S-LINETOTAL', 'BOX', '[tensor(476.7600), tensor(496.4400), tensor(523.7400), tensor(507.7800)]', 'S-LINETOTAL', 'BOX', '[tensor(476.7600), tensor(496.4400), tensor(523.7400), tensor(507.7800)]', 'S-LINETOTAL', 'BOX', '[tensor(480.8200), tensor(595.9800), tensor(532.4400), tensor(606.6900)]', 'S-TOTAL AMOUNT', 'BOX', '[tensor(480.8200), tensor(595.9800), tensor(532.4400), tensor(606.6900)]', 'S-TOTAL AMOUNT', 'BOX', '[tensor(480.8200), tensor(595.9800), tensor(532.4400), tensor(606.6900)]', 'S-TOTAL AMOUNT', 'BOX', '[tensor(480.8200), tensor(595.9800), tensor(532.4400), tensor(606.6900)]', 'S-TOTAL AMOUNT']\n"
          ]
        }
      ]
    },
    {
      "cell_type": "code",
      "source": [],
      "metadata": {
        "id": "zpBwybgrrnuu",
        "outputId": "60a4ee9b-8fb6-435d-d0c2-ee8ef2fe241f",
        "colab": {
          "base_uri": "https://localhost:8080/",
          "height": 176
        }
      },
      "execution_count": 111,
      "outputs": [
        {
          "output_type": "error",
          "ename": "TypeError",
          "evalue": "list.remove() takes exactly one argument (0 given)",
          "traceback": [
            "\u001b[0;31m---------------------------------------------------------------------------\u001b[0m",
            "\u001b[0;31mTypeError\u001b[0m                                 Traceback (most recent call last)",
            "\u001b[0;32m<ipython-input-111-47bd57de6813>\u001b[0m in \u001b[0;36m<cell line: 2>\u001b[0;34m()\u001b[0m\n\u001b[1;32m      4\u001b[0m     \u001b[0;32mpass\u001b[0m\u001b[0;34m\u001b[0m\u001b[0;34m\u001b[0m\u001b[0m\n\u001b[1;32m      5\u001b[0m   \u001b[0;32melse\u001b[0m\u001b[0;34m:\u001b[0m\u001b[0;34m\u001b[0m\u001b[0;34m\u001b[0m\u001b[0m\n\u001b[0;32m----> 6\u001b[0;31m     \u001b[0mlabel\u001b[0m \u001b[0;34m=\u001b[0m \u001b[0mlist_label\u001b[0m\u001b[0;34m.\u001b[0m\u001b[0mremove\u001b[0m\u001b[0;34m(\u001b[0m\u001b[0;34m)\u001b[0m\u001b[0;34m\u001b[0m\u001b[0;34m\u001b[0m\u001b[0m\n\u001b[0m",
            "\u001b[0;31mTypeError\u001b[0m: list.remove() takes exactly one argument (0 given)"
          ]
        }
      ]
    }
  ]
}