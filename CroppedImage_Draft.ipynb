{
  "nbformat": 4,
  "nbformat_minor": 0,
  "metadata": {
    "colab": {
      "provenance": [],
      "authorship_tag": "ABX9TyOvSK/w7BdICmFjMcFEBrg0",
      "include_colab_link": true
    },
    "kernelspec": {
      "name": "python3",
      "display_name": "Python 3"
    },
    "language_info": {
      "name": "python"
    }
  },
  "cells": [
    {
      "cell_type": "markdown",
      "metadata": {
        "id": "view-in-github",
        "colab_type": "text"
      },
      "source": [
        "<a href=\"https://colab.research.google.com/github/Aniket1492/PdfML/blob/main/CroppedImage_Draft.ipynb\" target=\"_parent\"><img src=\"https://colab.research.google.com/assets/colab-badge.svg\" alt=\"Open In Colab\"/></a>"
      ]
    },
    {
      "cell_type": "code",
      "source": [
        "! apt install tesseract-ocr\n",
        "! apt install libtesseract-dev"
      ],
      "metadata": {
        "id": "tyMQsNtrEF2U",
        "outputId": "9ee8f85f-421c-4dcf-e7f0-17adc43b64f4",
        "colab": {
          "base_uri": "https://localhost:8080/"
        }
      },
      "execution_count": 1,
      "outputs": [
        {
          "output_type": "stream",
          "name": "stdout",
          "text": [
            "Reading package lists... Done\n",
            "Building dependency tree... Done\n",
            "Reading state information... Done\n",
            "The following additional packages will be installed:\n",
            "  tesseract-ocr-eng tesseract-ocr-osd\n",
            "The following NEW packages will be installed:\n",
            "  tesseract-ocr tesseract-ocr-eng tesseract-ocr-osd\n",
            "0 upgraded, 3 newly installed, 0 to remove and 39 not upgraded.\n",
            "Need to get 4,816 kB of archives.\n",
            "After this operation, 15.6 MB of additional disk space will be used.\n",
            "Get:1 http://archive.ubuntu.com/ubuntu jammy/universe amd64 tesseract-ocr-eng all 1:4.00~git30-7274cfa-1.1 [1,591 kB]\n",
            "Get:2 http://archive.ubuntu.com/ubuntu jammy/universe amd64 tesseract-ocr-osd all 1:4.00~git30-7274cfa-1.1 [2,990 kB]\n",
            "Get:3 http://archive.ubuntu.com/ubuntu jammy/universe amd64 tesseract-ocr amd64 4.1.1-2.1build1 [236 kB]\n",
            "Fetched 4,816 kB in 1s (4,284 kB/s)\n",
            "Selecting previously unselected package tesseract-ocr-eng.\n",
            "(Reading database ... 121753 files and directories currently installed.)\n",
            "Preparing to unpack .../tesseract-ocr-eng_1%3a4.00~git30-7274cfa-1.1_all.deb ...\n",
            "Unpacking tesseract-ocr-eng (1:4.00~git30-7274cfa-1.1) ...\n",
            "Selecting previously unselected package tesseract-ocr-osd.\n",
            "Preparing to unpack .../tesseract-ocr-osd_1%3a4.00~git30-7274cfa-1.1_all.deb ...\n",
            "Unpacking tesseract-ocr-osd (1:4.00~git30-7274cfa-1.1) ...\n",
            "Selecting previously unselected package tesseract-ocr.\n",
            "Preparing to unpack .../tesseract-ocr_4.1.1-2.1build1_amd64.deb ...\n",
            "Unpacking tesseract-ocr (4.1.1-2.1build1) ...\n",
            "Setting up tesseract-ocr-eng (1:4.00~git30-7274cfa-1.1) ...\n",
            "Setting up tesseract-ocr-osd (1:4.00~git30-7274cfa-1.1) ...\n",
            "Setting up tesseract-ocr (4.1.1-2.1build1) ...\n",
            "Processing triggers for man-db (2.10.2-1) ...\n",
            "Reading package lists... Done\n",
            "Building dependency tree... Done\n",
            "Reading state information... Done\n",
            "The following additional packages will be installed:\n",
            "  libarchive-dev libleptonica-dev\n",
            "The following NEW packages will be installed:\n",
            "  libarchive-dev libleptonica-dev libtesseract-dev\n",
            "0 upgraded, 3 newly installed, 0 to remove and 39 not upgraded.\n",
            "Need to get 3,743 kB of archives.\n",
            "After this operation, 16.0 MB of additional disk space will be used.\n",
            "Get:1 http://archive.ubuntu.com/ubuntu jammy/main amd64 libarchive-dev amd64 3.6.0-1ubuntu1 [581 kB]\n",
            "Get:2 http://archive.ubuntu.com/ubuntu jammy/universe amd64 libleptonica-dev amd64 1.82.0-3build1 [1,562 kB]\n",
            "Get:3 http://archive.ubuntu.com/ubuntu jammy/universe amd64 libtesseract-dev amd64 4.1.1-2.1build1 [1,600 kB]\n",
            "Fetched 3,743 kB in 1s (3,352 kB/s)\n",
            "Selecting previously unselected package libarchive-dev:amd64.\n",
            "(Reading database ... 121800 files and directories currently installed.)\n",
            "Preparing to unpack .../libarchive-dev_3.6.0-1ubuntu1_amd64.deb ...\n",
            "Unpacking libarchive-dev:amd64 (3.6.0-1ubuntu1) ...\n",
            "Selecting previously unselected package libleptonica-dev.\n",
            "Preparing to unpack .../libleptonica-dev_1.82.0-3build1_amd64.deb ...\n",
            "Unpacking libleptonica-dev (1.82.0-3build1) ...\n",
            "Selecting previously unselected package libtesseract-dev:amd64.\n",
            "Preparing to unpack .../libtesseract-dev_4.1.1-2.1build1_amd64.deb ...\n",
            "Unpacking libtesseract-dev:amd64 (4.1.1-2.1build1) ...\n",
            "Setting up libleptonica-dev (1.82.0-3build1) ...\n",
            "Setting up libarchive-dev:amd64 (3.6.0-1ubuntu1) ...\n",
            "Setting up libtesseract-dev:amd64 (4.1.1-2.1build1) ...\n",
            "Processing triggers for man-db (2.10.2-1) ...\n"
          ]
        }
      ]
    },
    {
      "cell_type": "code",
      "source": [
        "! pip install Pillow\n",
        "! pip install pytesseract"
      ],
      "metadata": {
        "id": "mlC2_CKdFA3m",
        "outputId": "404bc2bd-5154-4b22-bab0-fda6fcf5e42d",
        "colab": {
          "base_uri": "https://localhost:8080/"
        }
      },
      "execution_count": 2,
      "outputs": [
        {
          "output_type": "stream",
          "name": "stdout",
          "text": [
            "Requirement already satisfied: Pillow in /usr/local/lib/python3.10/dist-packages (9.4.0)\n",
            "Collecting pytesseract\n",
            "  Downloading pytesseract-0.3.10-py3-none-any.whl (14 kB)\n",
            "Requirement already satisfied: packaging>=21.3 in /usr/local/lib/python3.10/dist-packages (from pytesseract) (24.0)\n",
            "Requirement already satisfied: Pillow>=8.0.0 in /usr/local/lib/python3.10/dist-packages (from pytesseract) (9.4.0)\n",
            "Installing collected packages: pytesseract\n",
            "Successfully installed pytesseract-0.3.10\n"
          ]
        }
      ]
    },
    {
      "cell_type": "code",
      "source": [
        "from PIL import Image, ImageDraw, ImageFont\n",
        "import pytesseract\n",
        "import cv2 as cv\n",
        "import os\n",
        "\n",
        "\n",
        "# image_cropped=Image.open(\"/content/test1.png\")\n",
        "# crop1 = image_cropped.crop((160, 145,210, 159))\n",
        "\n",
        "\n",
        "# crop1 = crop1.save(\"croppedimage.jpg\")"
      ],
      "metadata": {
        "id": "yhg0n2L1DkDh"
      },
      "execution_count": 67,
      "outputs": []
    },
    {
      "cell_type": "code",
      "execution_count": null,
      "metadata": {
        "id": "IeP2mTeX2Yfn"
      },
      "outputs": [],
      "source": [
        "# import cv2 as cv\n",
        "\n",
        "# img = cv.imread(\"/content/croppedimage.jpg\")\n",
        "# img = cv.cvtColor(img, cv.COLOR_BGR2GRAY)\n",
        "\n",
        "\n",
        "# _,result = cv.threshold(img,125,255,cv.THRESH_BINARY)\n",
        "\n",
        "# cv.imwrite('croppedgrey.jpg', img)\n",
        "# # r,result = cv.threshold(img,35)\n",
        "\n",
        "# # cv.imshow('image',img)\n",
        "\n",
        "# cv.destroyAllWindows()"
      ]
    },
    {
      "cell_type": "code",
      "source": [
        "# final_img = cv.imread(\"/content/croppedgrey.jpg\")\n",
        "# # ResizedImage = cv.resize(final_img, (80,20))\n",
        "# cv.imwrite('final.jpg', ResizedImage)"
      ],
      "metadata": {
        "id": "3iG98tkmHk4r"
      },
      "execution_count": null,
      "outputs": []
    },
    {
      "cell_type": "code",
      "source": [
        "# text = pytesseract.image_to_string(\"/content/croppedgrey.jpg\")\n",
        "# print(text)\n"
      ],
      "metadata": {
        "id": "e_fC7DpvD5Ar",
        "outputId": "3dc1138c-61dd-4c0c-c012-425c7c4c99cf",
        "colab": {
          "base_uri": "https://localhost:8080/"
        }
      },
      "execution_count": null,
      "outputs": [
        {
          "output_type": "stream",
          "name": "stdout",
          "text": [
            "P-28572\n",
            "\f\n"
          ]
        }
      ]
    },
    {
      "cell_type": "code",
      "source": [
        "file = open(\"/content/image cordinates.txt\", \"r\")\n",
        "content = file.read()\n",
        "# print(content)\n",
        "file.close()\n",
        "list_label=content.split('\\n')\n",
        "print(list_label)\n"
      ],
      "metadata": {
        "id": "XYtxYq8-i1nW",
        "outputId": "d36441e1-e506-4617-dfbc-d76ea52e40a3",
        "colab": {
          "base_uri": "https://localhost:8080/"
        }
      },
      "execution_count": 68,
      "outputs": [
        {
          "output_type": "stream",
          "name": "stdout",
          "text": [
            "['BOX', '[tensor(152.5400), tensor(121.5900), tensor(220.9800), tensor(130.4100)]', 'S-INVOICE DATE', 'BOX', '[tensor(152.5400), tensor(121.5900), tensor(220.9800), tensor(130.4100)]', 'S-INVOICE DATE', 'BOX', '[tensor(152.5400), tensor(121.5900), tensor(220.9800), tensor(130.4100)]', 'S-INVOICE DATE', 'BOX', '[tensor(152.5400), tensor(121.5900), tensor(220.9800), tensor(130.4100)]', 'S-INVOICE DATE', 'BOX', '[tensor(152.5400), tensor(121.5900), tensor(220.9800), tensor(130.4100)]', 'S-INVOICE DATE', 'BOX', '[tensor(152.5400), tensor(121.5900), tensor(220.9800), tensor(130.4100)]', 'S-INVOICE DATE', 'BOX', '[tensor(156.6000), tensor(145.5300), tensor(210.5400), tensor(154.9800)]', 'S-INVOICE NUMBER', 'BOX', '[tensor(156.6000), tensor(145.5300), tensor(210.5400), tensor(154.9800)]', 'S-PONUMBER', 'BOX', '[tensor(156.6000), tensor(145.5300), tensor(210.5400), tensor(154.9800)]', 'S-INVOICE NUMBER', 'BOX', '[tensor(156.6000), tensor(145.5300), tensor(210.5400), tensor(154.9800)]', 'S-INVOICE NUMBER', 'BOX', '[tensor(311.4600), tensor(248.8500), tensor(387.4400), tensor(270.9000)]', 'B-SHIP TO NAME', 'BOX', '[tensor(311.4600), tensor(248.8500), tensor(387.4400), tensor(270.9000)]', 'B-SHIP TO NAME', 'BOX', '[tensor(311.4600), tensor(248.8500), tensor(387.4400), tensor(270.9000)]', 'B-SHIP TO NAME', 'BOX', '[tensor(311.4600), tensor(248.8500), tensor(387.4400), tensor(270.9000)]', 'I-SHIP TO NAME', 'BOX', '[tensor(388.6000), tensor(248.8500), tensor(418.7600), tensor(270.9000)]', 'I-SHIP TO NAME', 'BOX', '[tensor(388.6000), tensor(248.8500), tensor(418.7600), tensor(270.9000)]', 'I-SHIP TO NAME', 'BOX', '[tensor(429.7800), tensor(258.9300), tensor(433.8400), tensor(260.8200)]', 'I-SHIP TO NAME', 'BOX', '[tensor(432.6800), tensor(252.6300), tensor(544.6200), tensor(263.9700)]', 'E-SHIP TO NAME', 'BOX', '[tensor(432.6800), tensor(252.6300), tensor(544.6200), tensor(263.9700)]', 'E-SHIP TO NAME', 'BOX', '[tensor(432.6800), tensor(252.6300), tensor(544.6200), tensor(263.9700)]', 'E-SHIP TO NAME', 'BOX', '[tensor(432.6800), tensor(252.6300), tensor(544.6200), tensor(263.9700)]', 'E-SHIP TO NAME', 'BOX', '[tensor(432.6800), tensor(252.6300), tensor(544.6200), tensor(263.9700)]', 'E-SHIP TO NAME', 'BOX', '[tensor(302.7600), tensor(249.4800), tensor(392.6600), tensor(302.4000)]', 'B-SHIP TO ADDRESS', 'BOX', '[tensor(396.7200), tensor(270.9000), tensor(418.7600), tensor(280.9800)]', 'I-SHIP TO ADDRESS', 'BOX', '[tensor(69.6000), tensor(289.8000), tensor(72.5000), tensor(292.9500)]', 'B-SOLD TO ADDRESS', 'BOX', '[tensor(312.6200), tensor(283.5000), tensor(355.5400), tensor(305.5500)]', 'B-SHIP TO NAME', 'BOX', '[tensor(312.6200), tensor(283.5000), tensor(355.5400), tensor(305.5500)]', 'B-SHIP TO NAME', 'BOX', '[tensor(411.8000), tensor(287.9100), tensor(421.6600), tensor(297.9900)]', 'E-SHIP TO ADDRESS', 'BOX', '[tensor(411.8000), tensor(287.9100), tensor(421.6600), tensor(297.9900)]', 'E-SOLD TO ADDRESS', 'BOX', '[tensor(320.7400), tensor(287.9100), tensor(433.8400), tensor(315.6300)]', 'E-ITEM', 'BOX', '[tensor(320.7400), tensor(287.9100), tensor(433.8400), tensor(315.6300)]', 'E-ITEM', 'BOX', '[tensor(24.9400), tensor(311.8500), tensor(139.7800), tensor(348.3900)]', 'B-SOLD TO ADDRESS', 'BOX', '[tensor(146.7400), tensor(315.6300), tensor(165.8800), tensor(328.8600)]', 'I-SOLD TO ADDRESS', 'BOX', '[tensor(146.7400), tensor(315.6300), tensor(165.8800), tensor(328.8600)]', 'I-SOLD TO ADDRESS', 'BOX', '[tensor(320.7400), tensor(322.5600), tensor(397.8800), tensor(334.5300)]', 'B-SHIP TO ADDRESS', 'BOX', '[tensor(320.7400), tensor(322.5600), tensor(397.8800), tensor(334.5300)]', 'B-SHIP TO ADDRESS', 'BOX', '[tensor(320.7400), tensor(322.5600), tensor(397.8800), tensor(334.5300)]', 'B-SHIP TO ADDRESS', 'BOX', '[tensor(320.7400), tensor(322.5600), tensor(397.8800), tensor(334.5300)]', 'I-SHIP TO ADDRESS', 'BOX', '[tensor(401.9400), tensor(322.5600), tensor(418.7600), tensor(332.6400)]', 'I-SHIP TO ADDRESS', 'BOX', '[tensor(422.8200), tensor(328.8600), tensor(427.4600), tensor(329.4900)]', 'I-SHIP TO ADDRESS', 'BOX', '[tensor(431.5200), tensor(321.9300), tensor(471.5400), tensor(332.6400)]', 'I-SHIP TO ADDRESS', 'BOX', '[tensor(431.5200), tensor(321.9300), tensor(471.5400), tensor(332.6400)]', 'I-SHIP TO ADDRESS', 'BOX', '[tensor(431.5200), tensor(321.9300), tensor(471.5400), tensor(332.6400)]', 'I-SHIP TO ADDRESS', 'BOX', '[tensor(476.7600), tensor(328.8600), tensor(480.8200), tensor(329.4900)]', 'I-SHIP TO ADDRESS', 'BOX', '[tensor(483.7200), tensor(322.5600), tensor(511.5600), tensor(332.6400)]', 'E-SHIP TO ADDRESS', 'BOX', '[tensor(24.9400), tensor(349.6500), tensor(80.6200), tensor(362.8800)]', 'B-SOLD TO ADDRESS', 'BOX', '[tensor(24.9400), tensor(349.6500), tensor(80.6200), tensor(362.8800)]', 'I-SOLD TO ADDRESS', 'BOX', '[tensor(84.6800), tensor(349.6500), tensor(95.7000), tensor(359.7300)]', 'I-SOLD TO ADDRESS', 'BOX', '[tensor(99.7600), tensor(355.9500), tensor(103.8200), tensor(356.5800)]', 'I-SOLD TO ADDRESS', 'BOX', '[tensor(107.8800), tensor(349.6500), tensor(149.6400), tensor(359.7300)]', 'I-SOLD TO ADDRESS', 'BOX', '[tensor(107.8800), tensor(349.6500), tensor(149.6400), tensor(359.7300)]', 'E-SOLD TO ADDRESS', 'BOX', '[tensor(107.8800), tensor(349.6500), tensor(149.6400), tensor(359.7300)]', 'E-SOLD TO ADDRESS', 'BOX', '[tensor(153.7000), tensor(349.6500), tensor(181.5400), tensor(359.7300)]', 'E-SOLD TO ADDRESS', 'BOX', '[tensor(43.5000), tensor(391.8600), tensor(99.7600), tensor(403.8300)]', 'B-ITEM', 'BOX', '[tensor(43.5000), tensor(391.8600), tensor(99.7600), tensor(403.8300)]', 'I-ITEM', 'BOX', '[tensor(98.6000), tensor(382.4100), tensor(122.9600), tensor(413.9100)]', 'I-ITEM', 'BOX', '[tensor(98.6000), tensor(382.4100), tensor(122.9600), tensor(413.9100)]', 'I-ITEM', 'BOX', '[tensor(124.7000), tensor(382.4100), tensor(148.4800), tensor(413.9100)]', 'E-ITEM', 'BOX', '[tensor(124.7000), tensor(382.4100), tensor(148.4800), tensor(413.9100)]', 'E-ITEM', 'BOX', '[tensor(31.9000), tensor(423.9900), tensor(60.9000), tensor(432.8100)]', 'B-ITEM', 'BOX', '[tensor(31.9000), tensor(423.9900), tensor(60.9000), tensor(432.8100)]', 'B-ITEM', 'BOX', '[tensor(65.5400), tensor(427.7700), tensor(68.4400), tensor(429.6600)]', 'I-ITEM', 'BOX', '[tensor(73.6600), tensor(423.9900), tensor(120.6400), tensor(434.7000)]', 'I-ITEM', 'BOX', '[tensor(73.6600), tensor(423.9900), tensor(120.6400), tensor(434.7000)]', 'I-ITEM', 'BOX', '[tensor(73.6600), tensor(423.9900), tensor(120.6400), tensor(434.7000)]', 'I-ITEM', 'BOX', '[tensor(124.7000), tensor(423.9900), tensor(147.9000), tensor(435.9600)]', 'E-ITEM', 'BOX', '[tensor(310.8800), tensor(412.6500), tensor(334.6600), tensor(443.5200)]', 'S-QUANTITY', 'BOX', '[tensor(485.4600), tensor(421.4700), tensor(525.4800), tensor(432.8100)]', 'S-LINETOTAL', 'BOX', '[tensor(485.4600), tensor(421.4700), tensor(525.4800), tensor(432.8100)]', 'S-LINETOTAL', 'BOX', '[tensor(485.4600), tensor(421.4700), tensor(525.4800), tensor(432.8100)]', 'S-LINETOTAL', 'BOX', '[tensor(32.4800), tensor(457.3800), tensor(62.6400), tensor(466.8300)]', 'B-ITEM', 'BOX', '[tensor(32.4800), tensor(457.3800), tensor(62.6400), tensor(466.8300)]', 'B-ITEM', 'BOX', '[tensor(61.4800), tensor(445.4100), tensor(67.8600), tensor(476.9100)]', 'I-ITEM', 'BOX', '[tensor(75.9800), tensor(457.3800), tensor(119.4800), tensor(469.9800)]', 'E-ITEM', 'BOX', '[tensor(75.9800), tensor(457.3800), tensor(119.4800), tensor(469.9800)]', 'E-ITEM', 'BOX', '[tensor(75.9800), tensor(457.3800), tensor(119.4800), tensor(469.9800)]', 'E-ITEM', 'BOX', '[tensor(314.9400), tensor(445.4100), tensor(335.8200), tensor(476.9100)]', 'S-QUANTITY', 'BOX', '[tensor(477.9200), tensor(457.3800), tensor(525.4800), tensor(467.4600)]', 'S-LINETOTAL', 'BOX', '[tensor(477.9200), tensor(457.3800), tensor(525.4800), tensor(467.4600)]', 'S-LINETOTAL', 'BOX', '[tensor(477.9200), tensor(457.3800), tensor(525.4800), tensor(467.4600)]', 'S-LINETOTAL', 'BOX', '[tensor(477.9200), tensor(457.3800), tensor(525.4800), tensor(467.4600)]', 'S-LINETOTAL', 'BOX', '[tensor(32.4800), tensor(496.4400), tensor(61.4800), tensor(505.8900)]', 'B-ITEM', 'BOX', '[tensor(66.7000), tensor(500.8500), tensor(69.6000), tensor(502.7400)]', 'I-ITEM', 'BOX', '[tensor(75.9800), tensor(496.4400), tensor(99.7600), tensor(505.8900)]', 'I-ITEM', 'BOX', '[tensor(103.8200), tensor(496.4400), tensor(162.9800), tensor(508.4100)]', 'I-ITEM', 'BOX', '[tensor(103.8200), tensor(496.4400), tensor(162.9800), tensor(508.4100)]', 'I-ITEM', 'BOX', '[tensor(166.4600), tensor(496.4400), tensor(183.8600), tensor(505.8900)]', 'E-ITEM', 'BOX', '[tensor(304.5000), tensor(484.4700), tensor(331.7600), tensor(515.9700)]', 'S-QUANTITY', 'BOX', '[tensor(476.7600), tensor(496.4400), tensor(523.7400), tensor(507.7800)]', 'S-LINETOTAL', 'BOX', '[tensor(476.7600), tensor(496.4400), tensor(523.7400), tensor(507.7800)]', 'S-LINETOTAL', 'BOX', '[tensor(476.7600), tensor(496.4400), tensor(523.7400), tensor(507.7800)]', 'S-LINETOTAL', 'BOX', '[tensor(480.8200), tensor(595.9800), tensor(532.4400), tensor(606.6900)]', 'S-TOTAL AMOUNT', 'BOX', '[tensor(480.8200), tensor(595.9800), tensor(532.4400), tensor(606.6900)]', 'S-TOTAL AMOUNT', 'BOX', '[tensor(480.8200), tensor(595.9800), tensor(532.4400), tensor(606.6900)]', 'S-TOTAL AMOUNT', 'BOX', '[tensor(480.8200), tensor(595.9800), tensor(532.4400), tensor(606.6900)]', 'S-TOTAL AMOUNT']\n"
          ]
        }
      ]
    },
    {
      "cell_type": "code",
      "source": [
        "def remove_items(test_list, item):\n",
        "    # remove the item for all its occurrences\n",
        "    c = test_list.count(item)\n",
        "    for i in range(c):\n",
        "        test_list.remove(item)\n",
        "    return test_list\n",
        "\n",
        "res = remove_items(list_label, 'BOX')\n",
        "print(res)"
      ],
      "metadata": {
        "id": "iAHyzQ47DMOQ",
        "outputId": "f9fd6f27-5af3-4c3f-cf76-139a847e0b17",
        "colab": {
          "base_uri": "https://localhost:8080/"
        }
      },
      "execution_count": 69,
      "outputs": [
        {
          "output_type": "stream",
          "name": "stdout",
          "text": [
            "['[tensor(152.5400), tensor(121.5900), tensor(220.9800), tensor(130.4100)]', 'S-INVOICE DATE', '[tensor(152.5400), tensor(121.5900), tensor(220.9800), tensor(130.4100)]', 'S-INVOICE DATE', '[tensor(152.5400), tensor(121.5900), tensor(220.9800), tensor(130.4100)]', 'S-INVOICE DATE', '[tensor(152.5400), tensor(121.5900), tensor(220.9800), tensor(130.4100)]', 'S-INVOICE DATE', '[tensor(152.5400), tensor(121.5900), tensor(220.9800), tensor(130.4100)]', 'S-INVOICE DATE', '[tensor(152.5400), tensor(121.5900), tensor(220.9800), tensor(130.4100)]', 'S-INVOICE DATE', '[tensor(156.6000), tensor(145.5300), tensor(210.5400), tensor(154.9800)]', 'S-INVOICE NUMBER', '[tensor(156.6000), tensor(145.5300), tensor(210.5400), tensor(154.9800)]', 'S-PONUMBER', '[tensor(156.6000), tensor(145.5300), tensor(210.5400), tensor(154.9800)]', 'S-INVOICE NUMBER', '[tensor(156.6000), tensor(145.5300), tensor(210.5400), tensor(154.9800)]', 'S-INVOICE NUMBER', '[tensor(311.4600), tensor(248.8500), tensor(387.4400), tensor(270.9000)]', 'B-SHIP TO NAME', '[tensor(311.4600), tensor(248.8500), tensor(387.4400), tensor(270.9000)]', 'B-SHIP TO NAME', '[tensor(311.4600), tensor(248.8500), tensor(387.4400), tensor(270.9000)]', 'B-SHIP TO NAME', '[tensor(311.4600), tensor(248.8500), tensor(387.4400), tensor(270.9000)]', 'I-SHIP TO NAME', '[tensor(388.6000), tensor(248.8500), tensor(418.7600), tensor(270.9000)]', 'I-SHIP TO NAME', '[tensor(388.6000), tensor(248.8500), tensor(418.7600), tensor(270.9000)]', 'I-SHIP TO NAME', '[tensor(429.7800), tensor(258.9300), tensor(433.8400), tensor(260.8200)]', 'I-SHIP TO NAME', '[tensor(432.6800), tensor(252.6300), tensor(544.6200), tensor(263.9700)]', 'E-SHIP TO NAME', '[tensor(432.6800), tensor(252.6300), tensor(544.6200), tensor(263.9700)]', 'E-SHIP TO NAME', '[tensor(432.6800), tensor(252.6300), tensor(544.6200), tensor(263.9700)]', 'E-SHIP TO NAME', '[tensor(432.6800), tensor(252.6300), tensor(544.6200), tensor(263.9700)]', 'E-SHIP TO NAME', '[tensor(432.6800), tensor(252.6300), tensor(544.6200), tensor(263.9700)]', 'E-SHIP TO NAME', '[tensor(302.7600), tensor(249.4800), tensor(392.6600), tensor(302.4000)]', 'B-SHIP TO ADDRESS', '[tensor(396.7200), tensor(270.9000), tensor(418.7600), tensor(280.9800)]', 'I-SHIP TO ADDRESS', '[tensor(69.6000), tensor(289.8000), tensor(72.5000), tensor(292.9500)]', 'B-SOLD TO ADDRESS', '[tensor(312.6200), tensor(283.5000), tensor(355.5400), tensor(305.5500)]', 'B-SHIP TO NAME', '[tensor(312.6200), tensor(283.5000), tensor(355.5400), tensor(305.5500)]', 'B-SHIP TO NAME', '[tensor(411.8000), tensor(287.9100), tensor(421.6600), tensor(297.9900)]', 'E-SHIP TO ADDRESS', '[tensor(411.8000), tensor(287.9100), tensor(421.6600), tensor(297.9900)]', 'E-SOLD TO ADDRESS', '[tensor(320.7400), tensor(287.9100), tensor(433.8400), tensor(315.6300)]', 'E-ITEM', '[tensor(320.7400), tensor(287.9100), tensor(433.8400), tensor(315.6300)]', 'E-ITEM', '[tensor(24.9400), tensor(311.8500), tensor(139.7800), tensor(348.3900)]', 'B-SOLD TO ADDRESS', '[tensor(146.7400), tensor(315.6300), tensor(165.8800), tensor(328.8600)]', 'I-SOLD TO ADDRESS', '[tensor(146.7400), tensor(315.6300), tensor(165.8800), tensor(328.8600)]', 'I-SOLD TO ADDRESS', '[tensor(320.7400), tensor(322.5600), tensor(397.8800), tensor(334.5300)]', 'B-SHIP TO ADDRESS', '[tensor(320.7400), tensor(322.5600), tensor(397.8800), tensor(334.5300)]', 'B-SHIP TO ADDRESS', '[tensor(320.7400), tensor(322.5600), tensor(397.8800), tensor(334.5300)]', 'B-SHIP TO ADDRESS', '[tensor(320.7400), tensor(322.5600), tensor(397.8800), tensor(334.5300)]', 'I-SHIP TO ADDRESS', '[tensor(401.9400), tensor(322.5600), tensor(418.7600), tensor(332.6400)]', 'I-SHIP TO ADDRESS', '[tensor(422.8200), tensor(328.8600), tensor(427.4600), tensor(329.4900)]', 'I-SHIP TO ADDRESS', '[tensor(431.5200), tensor(321.9300), tensor(471.5400), tensor(332.6400)]', 'I-SHIP TO ADDRESS', '[tensor(431.5200), tensor(321.9300), tensor(471.5400), tensor(332.6400)]', 'I-SHIP TO ADDRESS', '[tensor(431.5200), tensor(321.9300), tensor(471.5400), tensor(332.6400)]', 'I-SHIP TO ADDRESS', '[tensor(476.7600), tensor(328.8600), tensor(480.8200), tensor(329.4900)]', 'I-SHIP TO ADDRESS', '[tensor(483.7200), tensor(322.5600), tensor(511.5600), tensor(332.6400)]', 'E-SHIP TO ADDRESS', '[tensor(24.9400), tensor(349.6500), tensor(80.6200), tensor(362.8800)]', 'B-SOLD TO ADDRESS', '[tensor(24.9400), tensor(349.6500), tensor(80.6200), tensor(362.8800)]', 'I-SOLD TO ADDRESS', '[tensor(84.6800), tensor(349.6500), tensor(95.7000), tensor(359.7300)]', 'I-SOLD TO ADDRESS', '[tensor(99.7600), tensor(355.9500), tensor(103.8200), tensor(356.5800)]', 'I-SOLD TO ADDRESS', '[tensor(107.8800), tensor(349.6500), tensor(149.6400), tensor(359.7300)]', 'I-SOLD TO ADDRESS', '[tensor(107.8800), tensor(349.6500), tensor(149.6400), tensor(359.7300)]', 'E-SOLD TO ADDRESS', '[tensor(107.8800), tensor(349.6500), tensor(149.6400), tensor(359.7300)]', 'E-SOLD TO ADDRESS', '[tensor(153.7000), tensor(349.6500), tensor(181.5400), tensor(359.7300)]', 'E-SOLD TO ADDRESS', '[tensor(43.5000), tensor(391.8600), tensor(99.7600), tensor(403.8300)]', 'B-ITEM', '[tensor(43.5000), tensor(391.8600), tensor(99.7600), tensor(403.8300)]', 'I-ITEM', '[tensor(98.6000), tensor(382.4100), tensor(122.9600), tensor(413.9100)]', 'I-ITEM', '[tensor(98.6000), tensor(382.4100), tensor(122.9600), tensor(413.9100)]', 'I-ITEM', '[tensor(124.7000), tensor(382.4100), tensor(148.4800), tensor(413.9100)]', 'E-ITEM', '[tensor(124.7000), tensor(382.4100), tensor(148.4800), tensor(413.9100)]', 'E-ITEM', '[tensor(31.9000), tensor(423.9900), tensor(60.9000), tensor(432.8100)]', 'B-ITEM', '[tensor(31.9000), tensor(423.9900), tensor(60.9000), tensor(432.8100)]', 'B-ITEM', '[tensor(65.5400), tensor(427.7700), tensor(68.4400), tensor(429.6600)]', 'I-ITEM', '[tensor(73.6600), tensor(423.9900), tensor(120.6400), tensor(434.7000)]', 'I-ITEM', '[tensor(73.6600), tensor(423.9900), tensor(120.6400), tensor(434.7000)]', 'I-ITEM', '[tensor(73.6600), tensor(423.9900), tensor(120.6400), tensor(434.7000)]', 'I-ITEM', '[tensor(124.7000), tensor(423.9900), tensor(147.9000), tensor(435.9600)]', 'E-ITEM', '[tensor(310.8800), tensor(412.6500), tensor(334.6600), tensor(443.5200)]', 'S-QUANTITY', '[tensor(485.4600), tensor(421.4700), tensor(525.4800), tensor(432.8100)]', 'S-LINETOTAL', '[tensor(485.4600), tensor(421.4700), tensor(525.4800), tensor(432.8100)]', 'S-LINETOTAL', '[tensor(485.4600), tensor(421.4700), tensor(525.4800), tensor(432.8100)]', 'S-LINETOTAL', '[tensor(32.4800), tensor(457.3800), tensor(62.6400), tensor(466.8300)]', 'B-ITEM', '[tensor(32.4800), tensor(457.3800), tensor(62.6400), tensor(466.8300)]', 'B-ITEM', '[tensor(61.4800), tensor(445.4100), tensor(67.8600), tensor(476.9100)]', 'I-ITEM', '[tensor(75.9800), tensor(457.3800), tensor(119.4800), tensor(469.9800)]', 'E-ITEM', '[tensor(75.9800), tensor(457.3800), tensor(119.4800), tensor(469.9800)]', 'E-ITEM', '[tensor(75.9800), tensor(457.3800), tensor(119.4800), tensor(469.9800)]', 'E-ITEM', '[tensor(314.9400), tensor(445.4100), tensor(335.8200), tensor(476.9100)]', 'S-QUANTITY', '[tensor(477.9200), tensor(457.3800), tensor(525.4800), tensor(467.4600)]', 'S-LINETOTAL', '[tensor(477.9200), tensor(457.3800), tensor(525.4800), tensor(467.4600)]', 'S-LINETOTAL', '[tensor(477.9200), tensor(457.3800), tensor(525.4800), tensor(467.4600)]', 'S-LINETOTAL', '[tensor(477.9200), tensor(457.3800), tensor(525.4800), tensor(467.4600)]', 'S-LINETOTAL', '[tensor(32.4800), tensor(496.4400), tensor(61.4800), tensor(505.8900)]', 'B-ITEM', '[tensor(66.7000), tensor(500.8500), tensor(69.6000), tensor(502.7400)]', 'I-ITEM', '[tensor(75.9800), tensor(496.4400), tensor(99.7600), tensor(505.8900)]', 'I-ITEM', '[tensor(103.8200), tensor(496.4400), tensor(162.9800), tensor(508.4100)]', 'I-ITEM', '[tensor(103.8200), tensor(496.4400), tensor(162.9800), tensor(508.4100)]', 'I-ITEM', '[tensor(166.4600), tensor(496.4400), tensor(183.8600), tensor(505.8900)]', 'E-ITEM', '[tensor(304.5000), tensor(484.4700), tensor(331.7600), tensor(515.9700)]', 'S-QUANTITY', '[tensor(476.7600), tensor(496.4400), tensor(523.7400), tensor(507.7800)]', 'S-LINETOTAL', '[tensor(476.7600), tensor(496.4400), tensor(523.7400), tensor(507.7800)]', 'S-LINETOTAL', '[tensor(476.7600), tensor(496.4400), tensor(523.7400), tensor(507.7800)]', 'S-LINETOTAL', '[tensor(480.8200), tensor(595.9800), tensor(532.4400), tensor(606.6900)]', 'S-TOTAL AMOUNT', '[tensor(480.8200), tensor(595.9800), tensor(532.4400), tensor(606.6900)]', 'S-TOTAL AMOUNT', '[tensor(480.8200), tensor(595.9800), tensor(532.4400), tensor(606.6900)]', 'S-TOTAL AMOUNT', '[tensor(480.8200), tensor(595.9800), tensor(532.4400), tensor(606.6900)]', 'S-TOTAL AMOUNT']\n"
          ]
        }
      ]
    },
    {
      "cell_type": "code",
      "source": [
        "res[0]"
      ],
      "metadata": {
        "id": "hPyFcd0GDdJA",
        "outputId": "b91eab62-63a2-49fd-cfea-37190abcb953",
        "colab": {
          "base_uri": "https://localhost:8080/",
          "height": 35
        }
      },
      "execution_count": 70,
      "outputs": [
        {
          "output_type": "execute_result",
          "data": {
            "text/plain": [
              "'[tensor(152.5400), tensor(121.5900), tensor(220.9800), tensor(130.4100)]'"
            ],
            "application/vnd.google.colaboratory.intrinsic+json": {
              "type": "string"
            }
          },
          "metadata": {},
          "execution_count": 70
        }
      ]
    },
    {
      "cell_type": "code",
      "source": [
        "cordinate_list = res\n",
        "counter1=0\n",
        "counter2=1\n",
        "loopcounter=0\n",
        "final_cordinate_list=[]\n",
        "final_label_list=[]\n",
        "for i in cordinate_list:\n",
        "  x = i.replace(\"[tensor(\", \"\")\n",
        "  y = x.replace(\")]\", \"\")\n",
        "  z = y.replace(\")\", \"\")\n",
        "  a = z.replace(\"tensor(\", \"\")\n",
        "  if loopcounter==counter1:\n",
        "    final_cordinate_list.append(a)\n",
        "    counter1=counter1+2\n",
        "  if loopcounter==counter2:\n",
        "    final_label_list.append(a)\n",
        "    counter2=counter2+2\n",
        "  loopcounter=loopcounter+1\n",
        "\n",
        "print(final_cordinate_list)\n",
        "print(final_label_list)"
      ],
      "metadata": {
        "id": "8pzrPnOTIA8X",
        "outputId": "45060f16-e465-4f9e-b610-042365653382",
        "colab": {
          "base_uri": "https://localhost:8080/"
        }
      },
      "execution_count": 71,
      "outputs": [
        {
          "output_type": "stream",
          "name": "stdout",
          "text": [
            "['152.5400, 121.5900, 220.9800, 130.4100', '152.5400, 121.5900, 220.9800, 130.4100', '152.5400, 121.5900, 220.9800, 130.4100', '152.5400, 121.5900, 220.9800, 130.4100', '152.5400, 121.5900, 220.9800, 130.4100', '152.5400, 121.5900, 220.9800, 130.4100', '156.6000, 145.5300, 210.5400, 154.9800', '156.6000, 145.5300, 210.5400, 154.9800', '156.6000, 145.5300, 210.5400, 154.9800', '156.6000, 145.5300, 210.5400, 154.9800', '311.4600, 248.8500, 387.4400, 270.9000', '311.4600, 248.8500, 387.4400, 270.9000', '311.4600, 248.8500, 387.4400, 270.9000', '311.4600, 248.8500, 387.4400, 270.9000', '388.6000, 248.8500, 418.7600, 270.9000', '388.6000, 248.8500, 418.7600, 270.9000', '429.7800, 258.9300, 433.8400, 260.8200', '432.6800, 252.6300, 544.6200, 263.9700', '432.6800, 252.6300, 544.6200, 263.9700', '432.6800, 252.6300, 544.6200, 263.9700', '432.6800, 252.6300, 544.6200, 263.9700', '432.6800, 252.6300, 544.6200, 263.9700', '302.7600, 249.4800, 392.6600, 302.4000', '396.7200, 270.9000, 418.7600, 280.9800', '69.6000, 289.8000, 72.5000, 292.9500', '312.6200, 283.5000, 355.5400, 305.5500', '312.6200, 283.5000, 355.5400, 305.5500', '411.8000, 287.9100, 421.6600, 297.9900', '411.8000, 287.9100, 421.6600, 297.9900', '320.7400, 287.9100, 433.8400, 315.6300', '320.7400, 287.9100, 433.8400, 315.6300', '24.9400, 311.8500, 139.7800, 348.3900', '146.7400, 315.6300, 165.8800, 328.8600', '146.7400, 315.6300, 165.8800, 328.8600', '320.7400, 322.5600, 397.8800, 334.5300', '320.7400, 322.5600, 397.8800, 334.5300', '320.7400, 322.5600, 397.8800, 334.5300', '320.7400, 322.5600, 397.8800, 334.5300', '401.9400, 322.5600, 418.7600, 332.6400', '422.8200, 328.8600, 427.4600, 329.4900', '431.5200, 321.9300, 471.5400, 332.6400', '431.5200, 321.9300, 471.5400, 332.6400', '431.5200, 321.9300, 471.5400, 332.6400', '476.7600, 328.8600, 480.8200, 329.4900', '483.7200, 322.5600, 511.5600, 332.6400', '24.9400, 349.6500, 80.6200, 362.8800', '24.9400, 349.6500, 80.6200, 362.8800', '84.6800, 349.6500, 95.7000, 359.7300', '99.7600, 355.9500, 103.8200, 356.5800', '107.8800, 349.6500, 149.6400, 359.7300', '107.8800, 349.6500, 149.6400, 359.7300', '107.8800, 349.6500, 149.6400, 359.7300', '153.7000, 349.6500, 181.5400, 359.7300', '43.5000, 391.8600, 99.7600, 403.8300', '43.5000, 391.8600, 99.7600, 403.8300', '98.6000, 382.4100, 122.9600, 413.9100', '98.6000, 382.4100, 122.9600, 413.9100', '124.7000, 382.4100, 148.4800, 413.9100', '124.7000, 382.4100, 148.4800, 413.9100', '31.9000, 423.9900, 60.9000, 432.8100', '31.9000, 423.9900, 60.9000, 432.8100', '65.5400, 427.7700, 68.4400, 429.6600', '73.6600, 423.9900, 120.6400, 434.7000', '73.6600, 423.9900, 120.6400, 434.7000', '73.6600, 423.9900, 120.6400, 434.7000', '124.7000, 423.9900, 147.9000, 435.9600', '310.8800, 412.6500, 334.6600, 443.5200', '485.4600, 421.4700, 525.4800, 432.8100', '485.4600, 421.4700, 525.4800, 432.8100', '485.4600, 421.4700, 525.4800, 432.8100', '32.4800, 457.3800, 62.6400, 466.8300', '32.4800, 457.3800, 62.6400, 466.8300', '61.4800, 445.4100, 67.8600, 476.9100', '75.9800, 457.3800, 119.4800, 469.9800', '75.9800, 457.3800, 119.4800, 469.9800', '75.9800, 457.3800, 119.4800, 469.9800', '314.9400, 445.4100, 335.8200, 476.9100', '477.9200, 457.3800, 525.4800, 467.4600', '477.9200, 457.3800, 525.4800, 467.4600', '477.9200, 457.3800, 525.4800, 467.4600', '477.9200, 457.3800, 525.4800, 467.4600', '32.4800, 496.4400, 61.4800, 505.8900', '66.7000, 500.8500, 69.6000, 502.7400', '75.9800, 496.4400, 99.7600, 505.8900', '103.8200, 496.4400, 162.9800, 508.4100', '103.8200, 496.4400, 162.9800, 508.4100', '166.4600, 496.4400, 183.8600, 505.8900', '304.5000, 484.4700, 331.7600, 515.9700', '476.7600, 496.4400, 523.7400, 507.7800', '476.7600, 496.4400, 523.7400, 507.7800', '476.7600, 496.4400, 523.7400, 507.7800', '480.8200, 595.9800, 532.4400, 606.6900', '480.8200, 595.9800, 532.4400, 606.6900', '480.8200, 595.9800, 532.4400, 606.6900', '480.8200, 595.9800, 532.4400, 606.6900']\n",
            "['S-INVOICE DATE', 'S-INVOICE DATE', 'S-INVOICE DATE', 'S-INVOICE DATE', 'S-INVOICE DATE', 'S-INVOICE DATE', 'S-INVOICE NUMBER', 'S-PONUMBER', 'S-INVOICE NUMBER', 'S-INVOICE NUMBER', 'B-SHIP TO NAME', 'B-SHIP TO NAME', 'B-SHIP TO NAME', 'I-SHIP TO NAME', 'I-SHIP TO NAME', 'I-SHIP TO NAME', 'I-SHIP TO NAME', 'E-SHIP TO NAME', 'E-SHIP TO NAME', 'E-SHIP TO NAME', 'E-SHIP TO NAME', 'E-SHIP TO NAME', 'B-SHIP TO ADDRESS', 'I-SHIP TO ADDRESS', 'B-SOLD TO ADDRESS', 'B-SHIP TO NAME', 'B-SHIP TO NAME', 'E-SHIP TO ADDRESS', 'E-SOLD TO ADDRESS', 'E-ITEM', 'E-ITEM', 'B-SOLD TO ADDRESS', 'I-SOLD TO ADDRESS', 'I-SOLD TO ADDRESS', 'B-SHIP TO ADDRESS', 'B-SHIP TO ADDRESS', 'B-SHIP TO ADDRESS', 'I-SHIP TO ADDRESS', 'I-SHIP TO ADDRESS', 'I-SHIP TO ADDRESS', 'I-SHIP TO ADDRESS', 'I-SHIP TO ADDRESS', 'I-SHIP TO ADDRESS', 'I-SHIP TO ADDRESS', 'E-SHIP TO ADDRESS', 'B-SOLD TO ADDRESS', 'I-SOLD TO ADDRESS', 'I-SOLD TO ADDRESS', 'I-SOLD TO ADDRESS', 'I-SOLD TO ADDRESS', 'E-SOLD TO ADDRESS', 'E-SOLD TO ADDRESS', 'E-SOLD TO ADDRESS', 'B-ITEM', 'I-ITEM', 'I-ITEM', 'I-ITEM', 'E-ITEM', 'E-ITEM', 'B-ITEM', 'B-ITEM', 'I-ITEM', 'I-ITEM', 'I-ITEM', 'I-ITEM', 'E-ITEM', 'S-QUANTITY', 'S-LINETOTAL', 'S-LINETOTAL', 'S-LINETOTAL', 'B-ITEM', 'B-ITEM', 'I-ITEM', 'E-ITEM', 'E-ITEM', 'E-ITEM', 'S-QUANTITY', 'S-LINETOTAL', 'S-LINETOTAL', 'S-LINETOTAL', 'S-LINETOTAL', 'B-ITEM', 'I-ITEM', 'I-ITEM', 'I-ITEM', 'I-ITEM', 'E-ITEM', 'S-QUANTITY', 'S-LINETOTAL', 'S-LINETOTAL', 'S-LINETOTAL', 'S-TOTAL AMOUNT', 'S-TOTAL AMOUNT', 'S-TOTAL AMOUNT', 'S-TOTAL AMOUNT']\n"
          ]
        }
      ]
    },
    {
      "cell_type": "code",
      "source": [
        "counter1=0\n",
        "c_list=[]\n",
        "for i in final_cordinate_list:\n",
        "    x0 = i.split(',')[0]\n",
        "    x0 = float(x0) + 5\n",
        "    x1 = float(i.split(',')[1])\n",
        "    y0 = float(i.split(',')[2])\n",
        "    y1 = i.split(',')[3]\n",
        "    y1 = float(y1) + 5\n",
        "    l = final_label_list[counter1]\n",
        "    c_list.append([x0,x1,y0,y1,l])\n",
        "    counter1=counter1+1\n",
        "result = []\n",
        "for i in c_list:\n",
        "  if i not in result:\n",
        "    result.append(i)\n",
        "\n",
        "print(result)\n"
      ],
      "metadata": {
        "id": "wVaBR7bEMnqn",
        "outputId": "ea520362-8413-4ec6-f27f-36b0796c5a23",
        "colab": {
          "base_uri": "https://localhost:8080/"
        }
      },
      "execution_count": 72,
      "outputs": [
        {
          "output_type": "stream",
          "name": "stdout",
          "text": [
            "[[157.54, 121.59, 220.98, 135.41, 'S-INVOICE DATE'], [161.6, 145.53, 210.54, 159.98, 'S-INVOICE NUMBER'], [161.6, 145.53, 210.54, 159.98, 'S-PONUMBER'], [316.46, 248.85, 387.44, 275.9, 'B-SHIP TO NAME'], [316.46, 248.85, 387.44, 275.9, 'I-SHIP TO NAME'], [393.6, 248.85, 418.76, 275.9, 'I-SHIP TO NAME'], [434.78, 258.93, 433.84, 265.82, 'I-SHIP TO NAME'], [437.68, 252.63, 544.62, 268.97, 'E-SHIP TO NAME'], [307.76, 249.48, 392.66, 307.4, 'B-SHIP TO ADDRESS'], [401.72, 270.9, 418.76, 285.98, 'I-SHIP TO ADDRESS'], [74.6, 289.8, 72.5, 297.95, 'B-SOLD TO ADDRESS'], [317.62, 283.5, 355.54, 310.55, 'B-SHIP TO NAME'], [416.8, 287.91, 421.66, 302.99, 'E-SHIP TO ADDRESS'], [416.8, 287.91, 421.66, 302.99, 'E-SOLD TO ADDRESS'], [325.74, 287.91, 433.84, 320.63, 'E-ITEM'], [29.94, 311.85, 139.78, 353.39, 'B-SOLD TO ADDRESS'], [151.74, 315.63, 165.88, 333.86, 'I-SOLD TO ADDRESS'], [325.74, 322.56, 397.88, 339.53, 'B-SHIP TO ADDRESS'], [325.74, 322.56, 397.88, 339.53, 'I-SHIP TO ADDRESS'], [406.94, 322.56, 418.76, 337.64, 'I-SHIP TO ADDRESS'], [427.82, 328.86, 427.46, 334.49, 'I-SHIP TO ADDRESS'], [436.52, 321.93, 471.54, 337.64, 'I-SHIP TO ADDRESS'], [481.76, 328.86, 480.82, 334.49, 'I-SHIP TO ADDRESS'], [488.72, 322.56, 511.56, 337.64, 'E-SHIP TO ADDRESS'], [29.94, 349.65, 80.62, 367.88, 'B-SOLD TO ADDRESS'], [29.94, 349.65, 80.62, 367.88, 'I-SOLD TO ADDRESS'], [89.68, 349.65, 95.7, 364.73, 'I-SOLD TO ADDRESS'], [104.76, 355.95, 103.82, 361.58, 'I-SOLD TO ADDRESS'], [112.88, 349.65, 149.64, 364.73, 'I-SOLD TO ADDRESS'], [112.88, 349.65, 149.64, 364.73, 'E-SOLD TO ADDRESS'], [158.7, 349.65, 181.54, 364.73, 'E-SOLD TO ADDRESS'], [48.5, 391.86, 99.76, 408.83, 'B-ITEM'], [48.5, 391.86, 99.76, 408.83, 'I-ITEM'], [103.6, 382.41, 122.96, 418.91, 'I-ITEM'], [129.7, 382.41, 148.48, 418.91, 'E-ITEM'], [36.9, 423.99, 60.9, 437.81, 'B-ITEM'], [70.54, 427.77, 68.44, 434.66, 'I-ITEM'], [78.66, 423.99, 120.64, 439.7, 'I-ITEM'], [129.7, 423.99, 147.9, 440.96, 'E-ITEM'], [315.88, 412.65, 334.66, 448.52, 'S-QUANTITY'], [490.46, 421.47, 525.48, 437.81, 'S-LINETOTAL'], [37.48, 457.38, 62.64, 471.83, 'B-ITEM'], [66.47999999999999, 445.41, 67.86, 481.91, 'I-ITEM'], [80.98, 457.38, 119.48, 474.98, 'E-ITEM'], [319.94, 445.41, 335.82, 481.91, 'S-QUANTITY'], [482.92, 457.38, 525.48, 472.46, 'S-LINETOTAL'], [37.48, 496.44, 61.48, 510.89, 'B-ITEM'], [71.7, 500.85, 69.6, 507.74, 'I-ITEM'], [80.98, 496.44, 99.76, 510.89, 'I-ITEM'], [108.82, 496.44, 162.98, 513.4100000000001, 'I-ITEM'], [171.46, 496.44, 183.86, 510.89, 'E-ITEM'], [309.5, 484.47, 331.76, 520.97, 'S-QUANTITY'], [481.76, 496.44, 523.74, 512.78, 'S-LINETOTAL'], [485.82, 595.98, 532.44, 611.69, 'S-TOTAL AMOUNT']]\n"
          ]
        }
      ]
    },
    {
      "cell_type": "code",
      "source": [
        "b_shiptoname = ' '"
      ],
      "metadata": {
        "id": "z5PbUoXKpwZ9"
      },
      "execution_count": 107,
      "outputs": []
    },
    {
      "cell_type": "code",
      "source": [
        "image_cropped=Image.open(\"/content/test1.png\")\n",
        "counter1 =0\n",
        "\n",
        "for i in result:\n",
        "\n",
        "\n",
        "    x0 = i[0]\n",
        "    x1 = i[1]\n",
        "    y0 = i[2]\n",
        "    y1 = i[3]\n",
        "    lab = i[4]\n",
        "\n",
        "    # print(x0)\n",
        "    # print(x1)\n",
        "    # print(y0)\n",
        "    # print(y1)\n",
        "    # print(lab)\n",
        "  #print(counter1)\n",
        "    if lab == 'S-INVOICE DATE' :\n",
        "      crop1 = image_cropped.crop((x0,x1,y0,y1))\n",
        "      crop1 = crop1.save(\"croppedimage_.jpg\")\n",
        "      img = cv.imread(\"/content/croppedimage_.jpg\")\n",
        "      img = cv.cvtColor(img, cv.COLOR_BGR2GRAY)\n",
        "      _,res = cv.threshold(img,125,255,cv.THRESH_BINARY)\n",
        "      cv.imwrite('croppedgrey.jpg', img)\n",
        "      cv.destroyAllWindows()\n",
        "      final_img = cv.imread(\"/content/croppedgrey.jpg\")\n",
        "      text = pytesseract.image_to_string(\"/content/croppedgrey.jpg\")\n",
        "      invoice_date = text\n",
        "      os.remove(\"/content/croppedgrey.jpg\")\n",
        "      os.remove(\"/content/croppedimage_.jpg\")\n",
        "\n",
        "    if lab == 'S-INVOICE NUMBER' :\n",
        "      crop1 = image_cropped.crop((x0,x1,y0,y1))\n",
        "      crop1 = crop1.save(\"croppedimage_.jpg\")\n",
        "      img = cv.imread(\"/content/croppedimage_.jpg\")\n",
        "      img = cv.cvtColor(img, cv.COLOR_BGR2GRAY)\n",
        "      _,res = cv.threshold(img,125,255,cv.THRESH_BINARY)\n",
        "      cv.imwrite('croppedgrey.jpg', img)\n",
        "      cv.destroyAllWindows()\n",
        "      final_img = cv.imread(\"/content/croppedgrey.jpg\")\n",
        "      text = pytesseract.image_to_string(\"/content/croppedgrey.jpg\")\n",
        "      invoice_number = text\n",
        "      os.remove(\"/content/croppedgrey.jpg\")\n",
        "      os.remove(\"/content/croppedimage_.jpg\")\n",
        "\n",
        "    if lab == 'S-PONUMBER' :\n",
        "      crop1 = image_cropped.crop((x0,x1,y0,y1))\n",
        "      crop1 = crop1.save(\"croppedimage_.jpg\")\n",
        "      img = cv.imread(\"/content/croppedimage_.jpg\")\n",
        "      img = cv.cvtColor(img, cv.COLOR_BGR2GRAY)\n",
        "      _,res = cv.threshold(img,125,255,cv.THRESH_BINARY)\n",
        "      cv.imwrite('croppedgrey.jpg', img)\n",
        "      cv.destroyAllWindows()\n",
        "      final_img = cv.imread(\"/content/croppedgrey.jpg\")\n",
        "      text = pytesseract.image_to_string(\"/content/croppedgrey.jpg\")\n",
        "      po_number = text\n",
        "      os.remove(\"/content/croppedgrey.jpg\")\n",
        "      os.remove(\"/content/croppedimage_.jpg\")\n",
        "\n",
        "\n",
        "    if lab == 'I-SHIP TO NAME':\n",
        "      print(i)\n",
        "      crop1 = image_cropped.crop((x0,x1,y0,y1))\n",
        "      crop1 = crop1.save(\"croppedimage_.jpg\")\n",
        "      img = cv.imread(\"/content/croppedimage_.jpg\")\n",
        "      img = cv.cvtColor(img, cv.COLOR_BGR2GRAY)\n",
        "      _,res = cv.threshold(img,125,255,cv.THRESH_BINARY)\n",
        "      cv.imwrite('croppedgrey.jpg', img)\n",
        "      cv.destroyAllWindows()\n",
        "      final_img = cv.imread(\"/content/croppedgrey.jpg\")\n",
        "      text = pytesseract.image_to_string(\"/content/croppedgrey.jpg\")\n",
        "      b_shiptoname =b_shiptoname + ' '+ text\n",
        "      os.remove(\"/content/croppedgrey.jpg\")\n",
        "      os.remove(\"/content/croppedimage_.jpg\")\n",
        "  # if lab == 'S-INVOICE NUMBER':\n",
        "  # if lab == 'S-INVOICE NUMBER':\n",
        "  #     text = pytesseract.image_to_string(\"/content/croppedgrey.jpg\")\n",
        "  #     invoice_number = text\n",
        "\n",
        "\n",
        "\n",
        "\n"
      ],
      "metadata": {
        "id": "J9VlUfY4VnMa",
        "outputId": "88afcc9a-4cef-4ad0-a0fc-b56bede39e4b",
        "colab": {
          "base_uri": "https://localhost:8080/",
          "height": 384
        }
      },
      "execution_count": 111,
      "outputs": [
        {
          "output_type": "stream",
          "name": "stdout",
          "text": [
            "[316.46, 248.85, 387.44, 275.9, 'I-SHIP TO NAME']\n",
            "[393.6, 248.85, 418.76, 275.9, 'I-SHIP TO NAME']\n",
            "[434.78, 258.93, 433.84, 265.82, 'I-SHIP TO NAME']\n"
          ]
        },
        {
          "output_type": "error",
          "ename": "ValueError",
          "evalue": "Coordinate 'right' is less than 'left'",
          "traceback": [
            "\u001b[0;31m---------------------------------------------------------------------------\u001b[0m",
            "\u001b[0;31mValueError\u001b[0m                                Traceback (most recent call last)",
            "\u001b[0;32m<ipython-input-111-7ca3353c02cf>\u001b[0m in \u001b[0;36m<cell line: 4>\u001b[0;34m()\u001b[0m\n\u001b[1;32m     62\u001b[0m     \u001b[0;32mif\u001b[0m \u001b[0mlab\u001b[0m \u001b[0;34m==\u001b[0m \u001b[0;34m'I-SHIP TO NAME'\u001b[0m\u001b[0;34m:\u001b[0m\u001b[0;34m\u001b[0m\u001b[0;34m\u001b[0m\u001b[0m\n\u001b[1;32m     63\u001b[0m       \u001b[0mprint\u001b[0m\u001b[0;34m(\u001b[0m\u001b[0mi\u001b[0m\u001b[0;34m)\u001b[0m\u001b[0;34m\u001b[0m\u001b[0;34m\u001b[0m\u001b[0m\n\u001b[0;32m---> 64\u001b[0;31m       \u001b[0mcrop1\u001b[0m \u001b[0;34m=\u001b[0m \u001b[0mimage_cropped\u001b[0m\u001b[0;34m.\u001b[0m\u001b[0mcrop\u001b[0m\u001b[0;34m(\u001b[0m\u001b[0;34m(\u001b[0m\u001b[0mx0\u001b[0m\u001b[0;34m,\u001b[0m\u001b[0mx1\u001b[0m\u001b[0;34m,\u001b[0m\u001b[0my0\u001b[0m\u001b[0;34m,\u001b[0m\u001b[0my1\u001b[0m\u001b[0;34m)\u001b[0m\u001b[0;34m)\u001b[0m\u001b[0;34m\u001b[0m\u001b[0;34m\u001b[0m\u001b[0m\n\u001b[0m\u001b[1;32m     65\u001b[0m       \u001b[0mcrop1\u001b[0m \u001b[0;34m=\u001b[0m \u001b[0mcrop1\u001b[0m\u001b[0;34m.\u001b[0m\u001b[0msave\u001b[0m\u001b[0;34m(\u001b[0m\u001b[0;34m\"croppedimage_.jpg\"\u001b[0m\u001b[0;34m)\u001b[0m\u001b[0;34m\u001b[0m\u001b[0;34m\u001b[0m\u001b[0m\n\u001b[1;32m     66\u001b[0m       \u001b[0mimg\u001b[0m \u001b[0;34m=\u001b[0m \u001b[0mcv\u001b[0m\u001b[0;34m.\u001b[0m\u001b[0mimread\u001b[0m\u001b[0;34m(\u001b[0m\u001b[0;34m\"/content/croppedimage_.jpg\"\u001b[0m\u001b[0;34m)\u001b[0m\u001b[0;34m\u001b[0m\u001b[0;34m\u001b[0m\u001b[0m\n",
            "\u001b[0;32m/usr/local/lib/python3.10/dist-packages/PIL/Image.py\u001b[0m in \u001b[0;36mcrop\u001b[0;34m(self, box)\u001b[0m\n\u001b[1;32m   1226\u001b[0m         \u001b[0;32mif\u001b[0m \u001b[0mbox\u001b[0m\u001b[0;34m[\u001b[0m\u001b[0;36m2\u001b[0m\u001b[0;34m]\u001b[0m \u001b[0;34m<\u001b[0m \u001b[0mbox\u001b[0m\u001b[0;34m[\u001b[0m\u001b[0;36m0\u001b[0m\u001b[0;34m]\u001b[0m\u001b[0;34m:\u001b[0m\u001b[0;34m\u001b[0m\u001b[0;34m\u001b[0m\u001b[0m\n\u001b[1;32m   1227\u001b[0m             \u001b[0mmsg\u001b[0m \u001b[0;34m=\u001b[0m \u001b[0;34m\"Coordinate 'right' is less than 'left'\"\u001b[0m\u001b[0;34m\u001b[0m\u001b[0;34m\u001b[0m\u001b[0m\n\u001b[0;32m-> 1228\u001b[0;31m             \u001b[0;32mraise\u001b[0m \u001b[0mValueError\u001b[0m\u001b[0;34m(\u001b[0m\u001b[0mmsg\u001b[0m\u001b[0;34m)\u001b[0m\u001b[0;34m\u001b[0m\u001b[0;34m\u001b[0m\u001b[0m\n\u001b[0m\u001b[1;32m   1229\u001b[0m         \u001b[0;32melif\u001b[0m \u001b[0mbox\u001b[0m\u001b[0;34m[\u001b[0m\u001b[0;36m3\u001b[0m\u001b[0;34m]\u001b[0m \u001b[0;34m<\u001b[0m \u001b[0mbox\u001b[0m\u001b[0;34m[\u001b[0m\u001b[0;36m1\u001b[0m\u001b[0;34m]\u001b[0m\u001b[0;34m:\u001b[0m\u001b[0;34m\u001b[0m\u001b[0;34m\u001b[0m\u001b[0m\n\u001b[1;32m   1230\u001b[0m             \u001b[0mmsg\u001b[0m \u001b[0;34m=\u001b[0m \u001b[0;34m\"Coordinate 'lower' is less than 'upper'\"\u001b[0m\u001b[0;34m\u001b[0m\u001b[0;34m\u001b[0m\u001b[0m\n",
            "\u001b[0;31mValueError\u001b[0m: Coordinate 'right' is less than 'left'"
          ]
        }
      ]
    },
    {
      "cell_type": "code",
      "source": [
        "print(invoice_date)\n",
        "print(invoice_number)\n",
        "print(po_number)\n",
        "print(b_shiptoname)"
      ],
      "metadata": {
        "id": "hXzay6EKMoyO",
        "outputId": "eb12dac1-1f47-4da3-e9b2-b40f04467c5c",
        "colab": {
          "base_uri": "https://localhost:8080/"
        }
      },
      "execution_count": 109,
      "outputs": [
        {
          "output_type": "stream",
          "name": "stdout",
          "text": [
            "NL/15/2024\n",
            "\f\n",
            "WP 28542\n",
            "\f\n",
            "WP 28542\n",
            "\f\n",
            "  BERNHARL\n",
            "\f bernh\n",
            "\f\n"
          ]
        }
      ]
    },
    {
      "cell_type": "code",
      "source": [],
      "metadata": {
        "id": "99AmMKeKaVve"
      },
      "execution_count": null,
      "outputs": []
    }
  ]
}