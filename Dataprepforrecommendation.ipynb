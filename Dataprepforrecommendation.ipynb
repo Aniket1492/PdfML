{
  "nbformat": 4,
  "nbformat_minor": 0,
  "metadata": {
    "colab": {
      "provenance": [],
      "include_colab_link": true
    },
    "kernelspec": {
      "name": "python3",
      "display_name": "Python 3"
    },
    "language_info": {
      "name": "python"
    }
  },
  "cells": [
    {
      "cell_type": "markdown",
      "metadata": {
        "id": "view-in-github",
        "colab_type": "text"
      },
      "source": [
        "<a href=\"https://colab.research.google.com/github/Aniket1492/PdfML/blob/main/Dataprepforrecommendation.ipynb\" target=\"_parent\"><img src=\"https://colab.research.google.com/assets/colab-badge.svg\" alt=\"Open In Colab\"/></a>"
      ]
    },
    {
      "cell_type": "code",
      "execution_count": 50,
      "metadata": {
        "id": "IeP2mTeX2Yfn",
        "outputId": "d88e81ff-35fc-4912-d834-7e2402e5b4e0",
        "colab": {
          "base_uri": "https://localhost:8080/"
        }
      },
      "outputs": [
        {
          "output_type": "stream",
          "name": "stdout",
          "text": [
            "<class 'list'>\n"
          ]
        }
      ],
      "source": [
        "import pandas as pd\n",
        "dataframe_list = [ ]\n",
        "\n",
        "Customerdata = pd.read_excel('/content/prdCustomer.transaction-penny-01-01-2024.xlsx')\n",
        "#print(Customerdata.columns)\n",
        "for i in range(8):\n",
        "  df1 = pd.DataFrame()\n",
        "  si = str(i)\n",
        "  columnlist = ['bill_detail['+si+'].product_category_name','bill_detail['+si+'].product_name','bill_detail['+si+'].qty','member_id']\n",
        "  # print(columnlist)\n",
        "  df1 = Customerdata.filter(columnlist, axis=1)\n",
        "  member_Quantity= df1.groupby([\"member_id\",\"bill_detail[\"+si+\"].product_name\"])['bill_detail['+si+'].qty'].sum()\n",
        "  # print(i)\n",
        "  dataframe_list.append(member_Quantity)\n",
        "  #pd.concat([final_data, member_Quantity],ignore_index=True)\n",
        "pd.concat(dataframe_list, ignore_index=True)\n",
        "print(type(dataframe_list))\n",
        "\n"
      ]
    },
    {
      "cell_type": "code",
      "source": [
        "final_data = pd.DataFrame(dataframe_list)\n",
        "print(type(final_data))\n",
        "final_data.to_excel(\"final_data_test.xlsx\")"
      ],
      "metadata": {
        "id": "f2FPjI2oOuDS",
        "outputId": "16f1558c-c613-485e-917c-4ad0f9eb139d",
        "colab": {
          "base_uri": "https://localhost:8080/"
        }
      },
      "execution_count": 51,
      "outputs": [
        {
          "output_type": "stream",
          "name": "stdout",
          "text": [
            "<class 'pandas.core.frame.DataFrame'>\n"
          ]
        }
      ]
    },
    {
      "cell_type": "code",
      "source": [
        "from openpyxl.workbook import Workbook\n",
        "from openpyxl import load_workbook\n",
        "from openpyxl.utils.cell import range_boundaries\n",
        "\n",
        "wb = load_workbook(filename = '/content/final_data_test.xlsx')\n",
        "\n",
        "for st_name in wb.sheetnames:\n",
        "    st = wb[st_name]\n",
        "    mcr_coord_list = [mcr.coord for mcr in st.merged_cells.ranges]\n",
        "\n",
        "    for mcr in mcr_coord_list:\n",
        "        min_col, min_row, max_col, max_row = range_boundaries(mcr)\n",
        "        top_left_cell_value = st.cell(row=min_row, column=min_col).value\n",
        "        st.unmerge_cells(mcr)\n",
        "        for row in st.iter_rows(min_col=min_col, min_row=min_row, max_col=max_col, max_row=max_row):\n",
        "            for cell in row:\n",
        "                cell.value = top_left_cell_value\n",
        "\n",
        "wb.save('unmerged_tmp.xlsx')"
      ],
      "metadata": {
        "id": "3yTgDsqVe213"
      },
      "execution_count": 52,
      "outputs": []
    },
    {
      "cell_type": "code",
      "source": [
        "#### calculate total in excel using python code , currenly its done manually\n",
        "## transpose the data\n"
      ],
      "metadata": {
        "id": "RtmTtor2iHC_"
      },
      "execution_count": null,
      "outputs": []
    },
    {
      "cell_type": "code",
      "source": [],
      "metadata": {
        "id": "BzOH-yGLjDOP"
      },
      "execution_count": 57,
      "outputs": []
    }
  ]
}