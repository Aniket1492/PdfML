{
  "nbformat": 4,
  "nbformat_minor": 0,
  "metadata": {
    "colab": {
      "provenance": [],
      "authorship_tag": "ABX9TyOInM1AE9paDwPo9Gyvou0T",
      "include_colab_link": true
    },
    "kernelspec": {
      "name": "python3",
      "display_name": "Python 3"
    },
    "language_info": {
      "name": "python"
    }
  },
  "cells": [
    {
      "cell_type": "markdown",
      "metadata": {
        "id": "view-in-github",
        "colab_type": "text"
      },
      "source": [
        "<a href=\"https://colab.research.google.com/github/Aniket1492/PdfML/blob/main/DemoRecommendationModel.ipynb\" target=\"_parent\"><img src=\"https://colab.research.google.com/assets/colab-badge.svg\" alt=\"Open In Colab\"/></a>"
      ]
    },
    {
      "cell_type": "code",
      "source": [
        "!pip install tensorflow"
      ],
      "metadata": {
        "id": "ubPylc7XXpjr",
        "outputId": "78f46af5-b047-4284-fad1-ef8b8768ca2a",
        "colab": {
          "base_uri": "https://localhost:8080/"
        }
      },
      "execution_count": 5,
      "outputs": [
        {
          "output_type": "stream",
          "name": "stdout",
          "text": [
            "Requirement already satisfied: tensorflow in /usr/local/lib/python3.10/dist-packages (2.15.0)\n",
            "Requirement already satisfied: absl-py>=1.0.0 in /usr/local/lib/python3.10/dist-packages (from tensorflow) (1.4.0)\n",
            "Requirement already satisfied: astunparse>=1.6.0 in /usr/local/lib/python3.10/dist-packages (from tensorflow) (1.6.3)\n",
            "Requirement already satisfied: flatbuffers>=23.5.26 in /usr/local/lib/python3.10/dist-packages (from tensorflow) (24.3.7)\n",
            "Requirement already satisfied: gast!=0.5.0,!=0.5.1,!=0.5.2,>=0.2.1 in /usr/local/lib/python3.10/dist-packages (from tensorflow) (0.5.4)\n",
            "Requirement already satisfied: google-pasta>=0.1.1 in /usr/local/lib/python3.10/dist-packages (from tensorflow) (0.2.0)\n",
            "Requirement already satisfied: h5py>=2.9.0 in /usr/local/lib/python3.10/dist-packages (from tensorflow) (3.9.0)\n",
            "Requirement already satisfied: libclang>=13.0.0 in /usr/local/lib/python3.10/dist-packages (from tensorflow) (18.1.1)\n",
            "Requirement already satisfied: ml-dtypes~=0.2.0 in /usr/local/lib/python3.10/dist-packages (from tensorflow) (0.2.0)\n",
            "Requirement already satisfied: numpy<2.0.0,>=1.23.5 in /usr/local/lib/python3.10/dist-packages (from tensorflow) (1.25.2)\n",
            "Requirement already satisfied: opt-einsum>=2.3.2 in /usr/local/lib/python3.10/dist-packages (from tensorflow) (3.3.0)\n",
            "Requirement already satisfied: packaging in /usr/local/lib/python3.10/dist-packages (from tensorflow) (24.0)\n",
            "Requirement already satisfied: protobuf!=4.21.0,!=4.21.1,!=4.21.2,!=4.21.3,!=4.21.4,!=4.21.5,<5.0.0dev,>=3.20.3 in /usr/local/lib/python3.10/dist-packages (from tensorflow) (3.20.3)\n",
            "Requirement already satisfied: setuptools in /usr/local/lib/python3.10/dist-packages (from tensorflow) (67.7.2)\n",
            "Requirement already satisfied: six>=1.12.0 in /usr/local/lib/python3.10/dist-packages (from tensorflow) (1.16.0)\n",
            "Requirement already satisfied: termcolor>=1.1.0 in /usr/local/lib/python3.10/dist-packages (from tensorflow) (2.4.0)\n",
            "Requirement already satisfied: typing-extensions>=3.6.6 in /usr/local/lib/python3.10/dist-packages (from tensorflow) (4.10.0)\n",
            "Requirement already satisfied: wrapt<1.15,>=1.11.0 in /usr/local/lib/python3.10/dist-packages (from tensorflow) (1.14.1)\n",
            "Requirement already satisfied: tensorflow-io-gcs-filesystem>=0.23.1 in /usr/local/lib/python3.10/dist-packages (from tensorflow) (0.36.0)\n",
            "Requirement already satisfied: grpcio<2.0,>=1.24.3 in /usr/local/lib/python3.10/dist-packages (from tensorflow) (1.62.1)\n",
            "Requirement already satisfied: tensorboard<2.16,>=2.15 in /usr/local/lib/python3.10/dist-packages (from tensorflow) (2.15.2)\n",
            "Requirement already satisfied: tensorflow-estimator<2.16,>=2.15.0 in /usr/local/lib/python3.10/dist-packages (from tensorflow) (2.15.0)\n",
            "Requirement already satisfied: keras<2.16,>=2.15.0 in /usr/local/lib/python3.10/dist-packages (from tensorflow) (2.15.0)\n",
            "Requirement already satisfied: wheel<1.0,>=0.23.0 in /usr/local/lib/python3.10/dist-packages (from astunparse>=1.6.0->tensorflow) (0.43.0)\n",
            "Requirement already satisfied: google-auth<3,>=1.6.3 in /usr/local/lib/python3.10/dist-packages (from tensorboard<2.16,>=2.15->tensorflow) (2.27.0)\n",
            "Requirement already satisfied: google-auth-oauthlib<2,>=0.5 in /usr/local/lib/python3.10/dist-packages (from tensorboard<2.16,>=2.15->tensorflow) (1.2.0)\n",
            "Requirement already satisfied: markdown>=2.6.8 in /usr/local/lib/python3.10/dist-packages (from tensorboard<2.16,>=2.15->tensorflow) (3.6)\n",
            "Requirement already satisfied: requests<3,>=2.21.0 in /usr/local/lib/python3.10/dist-packages (from tensorboard<2.16,>=2.15->tensorflow) (2.31.0)\n",
            "Requirement already satisfied: tensorboard-data-server<0.8.0,>=0.7.0 in /usr/local/lib/python3.10/dist-packages (from tensorboard<2.16,>=2.15->tensorflow) (0.7.2)\n",
            "Requirement already satisfied: werkzeug>=1.0.1 in /usr/local/lib/python3.10/dist-packages (from tensorboard<2.16,>=2.15->tensorflow) (3.0.1)\n",
            "Requirement already satisfied: cachetools<6.0,>=2.0.0 in /usr/local/lib/python3.10/dist-packages (from google-auth<3,>=1.6.3->tensorboard<2.16,>=2.15->tensorflow) (5.3.3)\n",
            "Requirement already satisfied: pyasn1-modules>=0.2.1 in /usr/local/lib/python3.10/dist-packages (from google-auth<3,>=1.6.3->tensorboard<2.16,>=2.15->tensorflow) (0.3.0)\n",
            "Requirement already satisfied: rsa<5,>=3.1.4 in /usr/local/lib/python3.10/dist-packages (from google-auth<3,>=1.6.3->tensorboard<2.16,>=2.15->tensorflow) (4.9)\n",
            "Requirement already satisfied: requests-oauthlib>=0.7.0 in /usr/local/lib/python3.10/dist-packages (from google-auth-oauthlib<2,>=0.5->tensorboard<2.16,>=2.15->tensorflow) (1.4.0)\n",
            "Requirement already satisfied: charset-normalizer<4,>=2 in /usr/local/lib/python3.10/dist-packages (from requests<3,>=2.21.0->tensorboard<2.16,>=2.15->tensorflow) (3.3.2)\n",
            "Requirement already satisfied: idna<4,>=2.5 in /usr/local/lib/python3.10/dist-packages (from requests<3,>=2.21.0->tensorboard<2.16,>=2.15->tensorflow) (3.6)\n",
            "Requirement already satisfied: urllib3<3,>=1.21.1 in /usr/local/lib/python3.10/dist-packages (from requests<3,>=2.21.0->tensorboard<2.16,>=2.15->tensorflow) (2.0.7)\n",
            "Requirement already satisfied: certifi>=2017.4.17 in /usr/local/lib/python3.10/dist-packages (from requests<3,>=2.21.0->tensorboard<2.16,>=2.15->tensorflow) (2024.2.2)\n",
            "Requirement already satisfied: MarkupSafe>=2.1.1 in /usr/local/lib/python3.10/dist-packages (from werkzeug>=1.0.1->tensorboard<2.16,>=2.15->tensorflow) (2.1.5)\n",
            "Requirement already satisfied: pyasn1<0.6.0,>=0.4.6 in /usr/local/lib/python3.10/dist-packages (from pyasn1-modules>=0.2.1->google-auth<3,>=1.6.3->tensorboard<2.16,>=2.15->tensorflow) (0.5.1)\n",
            "Requirement already satisfied: oauthlib>=3.0.0 in /usr/local/lib/python3.10/dist-packages (from requests-oauthlib>=0.7.0->google-auth-oauthlib<2,>=0.5->tensorboard<2.16,>=2.15->tensorflow) (3.2.2)\n"
          ]
        }
      ]
    },
    {
      "cell_type": "code",
      "execution_count": 7,
      "metadata": {
        "id": "IeP2mTeX2Yfn",
        "outputId": "e33a626f-a0d0-4898-c7d7-6258d8a20bc1",
        "colab": {
          "base_uri": "https://localhost:8080/"
        }
      },
      "outputs": [
        {
          "output_type": "stream",
          "name": "stdout",
          "text": [
            "2.15.0\n"
          ]
        }
      ],
      "source": [
        "import numpy as np\n",
        "import tensorflow as tf\n",
        "# tf.enable_eager_excecution()\n",
        "print(tf.__version__)\n"
      ]
    },
    {
      "cell_type": "code",
      "source": [
        "users = ['Ryan','Danielle','Vijay','Chris','Kajal','Navmi','Aniket']\n",
        "Product = ['Almond Croissant','Black Forest Cookies','Hazelnut Croissant','Marian plum Jam','Strawberry jam (L)','Spinach cake 1 pound 0704','Carrot Cake','Fruitcake Cookies',]\n",
        "features= ['jam','Croissant','Cookies','Cake']\n",
        "\n",
        "num_users = len(users)\n",
        "num_Product = len(Product)\n",
        "num_features = len(features)\n",
        "num_recommendations = 2\n",
        "print(num_users)\n",
        "print(num_Product)\n",
        "print(num_features)"
      ],
      "metadata": {
        "id": "0dHkmeYJMKqd",
        "outputId": "4e6a482f-42f8-477b-c8b9-a0959de65413",
        "colab": {
          "base_uri": "https://localhost:8080/"
        }
      },
      "execution_count": 11,
      "outputs": [
        {
          "output_type": "stream",
          "name": "stdout",
          "text": [
            "7\n",
            "8\n",
            "4\n"
          ]
        }
      ]
    },
    {
      "cell_type": "code",
      "source": [
        "user_product = tf.constant([\n",
        "                  [4,3,0,1,0,0,0,0],\n",
        "                  [0,5,1,3,0,0,0,2],\n",
        "                  [0,0,3,5,2,0,0,0],\n",
        "                  [0,0,0,4,3,2,0,0],\n",
        "                  [0,4,0,0,2,0,1,5],\n",
        "                  [0,4,0,2,3,0,5,4],\n",
        "                  [0,4,0,0,2,1,5,0]],dtype=tf.float32)"
      ],
      "metadata": {
        "id": "3Yf671M0adP-"
      },
      "execution_count": 23,
      "outputs": []
    },
    {
      "cell_type": "code",
      "source": [
        "Product_feature = tf.constant([\n",
        "                [0,1,0,0],\n",
        "                [0,0,1,0],\n",
        "                [0,1,0,0],\n",
        "                [1,0,0,0],\n",
        "                [1,0,0,0],\n",
        "                [0,0,0,1],\n",
        "                [0,0,0,1],\n",
        "                [0,0,1,0]],dtype=tf.float32)"
      ],
      "metadata": {
        "id": "HNr96IbheLPL"
      },
      "execution_count": 24,
      "outputs": []
    },
    {
      "cell_type": "code",
      "source": [
        "userfeature = tf.matmul(user_product,Product_feature)\n",
        "userfeature"
      ],
      "metadata": {
        "id": "0fKFCElifPL4",
        "outputId": "de29d40b-fc03-4cbb-9be0-1e20d4017d1e",
        "colab": {
          "base_uri": "https://localhost:8080/"
        }
      },
      "execution_count": 25,
      "outputs": [
        {
          "output_type": "execute_result",
          "data": {
            "text/plain": [
              "<tf.Tensor: shape=(7, 4), dtype=float32, numpy=\n",
              "array([[1., 4., 3., 0.],\n",
              "       [3., 1., 7., 0.],\n",
              "       [7., 3., 0., 0.],\n",
              "       [7., 0., 0., 2.],\n",
              "       [2., 0., 9., 1.],\n",
              "       [5., 0., 8., 5.],\n",
              "       [2., 0., 4., 6.]], dtype=float32)>"
            ]
          },
          "metadata": {},
          "execution_count": 25
        }
      ]
    },
    {
      "cell_type": "code",
      "source": [
        "userfeature = userfeature/tf.reduce_sum(userfeature,axis =1 ,keepdims = True)\n",
        "userfeature"
      ],
      "metadata": {
        "id": "rhSsSk4zf3aV",
        "outputId": "66d2903b-dfee-44dc-f064-558191502db0",
        "colab": {
          "base_uri": "https://localhost:8080/"
        }
      },
      "execution_count": 26,
      "outputs": [
        {
          "output_type": "execute_result",
          "data": {
            "text/plain": [
              "<tf.Tensor: shape=(7, 4), dtype=float32, numpy=\n",
              "array([[0.125     , 0.5       , 0.375     , 0.        ],\n",
              "       [0.27272728, 0.09090909, 0.6363636 , 0.        ],\n",
              "       [0.7       , 0.3       , 0.        , 0.        ],\n",
              "       [0.7777778 , 0.        , 0.        , 0.22222222],\n",
              "       [0.16666667, 0.        , 0.75      , 0.08333334],\n",
              "       [0.2777778 , 0.        , 0.44444445, 0.2777778 ],\n",
              "       [0.16666667, 0.        , 0.33333334, 0.5       ]], dtype=float32)>"
            ]
          },
          "metadata": {},
          "execution_count": 26
        }
      ]
    },
    {
      "cell_type": "code",
      "source": [
        "top_user_features =tf.nn.top_k(userfeature,num_features)[1]\n",
        "top_user_features"
      ],
      "metadata": {
        "id": "-vyp_rSagqfB",
        "outputId": "aa363ad9-88ed-4a20-c69f-81963e0bb904",
        "colab": {
          "base_uri": "https://localhost:8080/"
        }
      },
      "execution_count": 27,
      "outputs": [
        {
          "output_type": "execute_result",
          "data": {
            "text/plain": [
              "<tf.Tensor: shape=(7, 4), dtype=int32, numpy=\n",
              "array([[1, 2, 0, 3],\n",
              "       [2, 0, 1, 3],\n",
              "       [0, 1, 2, 3],\n",
              "       [0, 3, 1, 2],\n",
              "       [2, 0, 3, 1],\n",
              "       [2, 0, 3, 1],\n",
              "       [3, 2, 0, 1]], dtype=int32)>"
            ]
          },
          "metadata": {},
          "execution_count": 27
        }
      ]
    },
    {
      "cell_type": "code",
      "source": [
        "for i in range(num_users):\n",
        "  feature_names = [features[int(index)] for index in top_user_features[i]]\n",
        "  print('{}:{}'.format(users[i],feature_names))"
      ],
      "metadata": {
        "id": "vsfrmRHyhLci",
        "outputId": "b1432901-7b4e-4223-c69d-8ab9fa06265b",
        "colab": {
          "base_uri": "https://localhost:8080/"
        }
      },
      "execution_count": 28,
      "outputs": [
        {
          "output_type": "stream",
          "name": "stdout",
          "text": [
            "Ryan:['Croissant', 'Cookies', 'jam', 'Cake']\n",
            "Danielle:['Cookies', 'jam', 'Croissant', 'Cake']\n",
            "Vijay:['jam', 'Croissant', 'Cookies', 'Cake']\n",
            "Chris:['jam', 'Cake', 'Croissant', 'Cookies']\n",
            "Kajal:['Cookies', 'jam', 'Cake', 'Croissant']\n",
            "Navmi:['Cookies', 'jam', 'Cake', 'Croissant']\n",
            "Aniket:['Cake', 'Cookies', 'jam', 'Croissant']\n"
          ]
        }
      ]
    },
    {
      "cell_type": "code",
      "source": [
        "users_rating = tf.matmul(userfeature,tf.transpose(Product_feature))\n",
        "users_rating"
      ],
      "metadata": {
        "id": "JbpA6fCUidAO",
        "outputId": "01b0fb5e-0210-4f0c-fac0-521e6bb1442c",
        "colab": {
          "base_uri": "https://localhost:8080/"
        }
      },
      "execution_count": 29,
      "outputs": [
        {
          "output_type": "execute_result",
          "data": {
            "text/plain": [
              "<tf.Tensor: shape=(7, 8), dtype=float32, numpy=\n",
              "array([[0.5       , 0.375     , 0.5       , 0.125     , 0.125     ,\n",
              "        0.        , 0.        , 0.375     ],\n",
              "       [0.09090909, 0.6363636 , 0.09090909, 0.27272728, 0.27272728,\n",
              "        0.        , 0.        , 0.6363636 ],\n",
              "       [0.3       , 0.        , 0.3       , 0.7       , 0.7       ,\n",
              "        0.        , 0.        , 0.        ],\n",
              "       [0.        , 0.        , 0.        , 0.7777778 , 0.7777778 ,\n",
              "        0.22222222, 0.22222222, 0.        ],\n",
              "       [0.        , 0.75      , 0.        , 0.16666667, 0.16666667,\n",
              "        0.08333334, 0.08333334, 0.75      ],\n",
              "       [0.        , 0.44444445, 0.        , 0.2777778 , 0.2777778 ,\n",
              "        0.2777778 , 0.2777778 , 0.44444445],\n",
              "       [0.        , 0.33333334, 0.        , 0.16666667, 0.16666667,\n",
              "        0.5       , 0.5       , 0.33333334]], dtype=float32)>"
            ]
          },
          "metadata": {},
          "execution_count": 29
        }
      ]
    },
    {
      "cell_type": "code",
      "source": [
        "user_rating_new = tf.where(tf.equal(user_product,tf.zeros_like(user_product)),\n",
        "                           users_rating,\n",
        "                           tf.zeros_like(tf.cast(user_product,tf.float32)))\n",
        "user_rating_new"
      ],
      "metadata": {
        "id": "lBpvWYifja-l",
        "outputId": "5ee2223a-69b0-401d-fe37-f755ad9cd84e",
        "colab": {
          "base_uri": "https://localhost:8080/"
        }
      },
      "execution_count": 30,
      "outputs": [
        {
          "output_type": "execute_result",
          "data": {
            "text/plain": [
              "<tf.Tensor: shape=(7, 8), dtype=float32, numpy=\n",
              "array([[0.        , 0.        , 0.5       , 0.        , 0.125     ,\n",
              "        0.        , 0.        , 0.375     ],\n",
              "       [0.09090909, 0.        , 0.        , 0.        , 0.27272728,\n",
              "        0.        , 0.        , 0.        ],\n",
              "       [0.3       , 0.        , 0.        , 0.        , 0.        ,\n",
              "        0.        , 0.        , 0.        ],\n",
              "       [0.        , 0.        , 0.        , 0.        , 0.        ,\n",
              "        0.        , 0.22222222, 0.        ],\n",
              "       [0.        , 0.        , 0.        , 0.16666667, 0.        ,\n",
              "        0.08333334, 0.        , 0.        ],\n",
              "       [0.        , 0.        , 0.        , 0.        , 0.        ,\n",
              "        0.2777778 , 0.        , 0.        ],\n",
              "       [0.        , 0.        , 0.        , 0.16666667, 0.        ,\n",
              "        0.        , 0.        , 0.33333334]], dtype=float32)>"
            ]
          },
          "metadata": {},
          "execution_count": 30
        }
      ]
    },
    {
      "cell_type": "code",
      "source": [
        "top_product = tf.nn.top_k(user_rating_new,num_recommendations)[1]\n",
        "top_product"
      ],
      "metadata": {
        "id": "K2iGHA6cksrq",
        "outputId": "4ffb1729-0e0d-40e5-81c5-8e6096bc0e67",
        "colab": {
          "base_uri": "https://localhost:8080/"
        }
      },
      "execution_count": 31,
      "outputs": [
        {
          "output_type": "execute_result",
          "data": {
            "text/plain": [
              "<tf.Tensor: shape=(7, 2), dtype=int32, numpy=\n",
              "array([[2, 7],\n",
              "       [4, 0],\n",
              "       [0, 1],\n",
              "       [6, 0],\n",
              "       [3, 5],\n",
              "       [5, 0],\n",
              "       [7, 3]], dtype=int32)>"
            ]
          },
          "metadata": {},
          "execution_count": 31
        }
      ]
    },
    {
      "cell_type": "code",
      "source": [
        "for i in range(num_users):\n",
        "  product_names = [Product[int(index)] for index in top_product[i]]\n",
        "  print('{}:{}'.format(users[i],product_names))"
      ],
      "metadata": {
        "id": "e3WgJkcSlBDL",
        "outputId": "9e350552-d81a-4e6e-ec4d-b2b28e67cfca",
        "colab": {
          "base_uri": "https://localhost:8080/"
        }
      },
      "execution_count": 32,
      "outputs": [
        {
          "output_type": "stream",
          "name": "stdout",
          "text": [
            "Ryan:['Hazelnut Croissant', 'Fruitcake Cookies']\n",
            "Danielle:['Strawberry jam (L)', 'Almond Croissant']\n",
            "Vijay:['Almond Croissant', 'Black Forest Cookies']\n",
            "Chris:['Carrot Cake', 'Almond Croissant']\n",
            "Kajal:['Marian plum Jam', 'Spinach cake 1 pound 0704']\n",
            "Navmi:['Spinach cake 1 pound 0704', 'Almond Croissant']\n",
            "Aniket:['Fruitcake Cookies', 'Marian plum Jam']\n"
          ]
        }
      ]
    }
  ]
}