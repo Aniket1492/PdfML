{
  "nbformat": 4,
  "nbformat_minor": 0,
  "metadata": {
    "colab": {
      "provenance": [],
      "authorship_tag": "ABX9TyN5gc0/UOLhcwCncCAUoH8y",
      "include_colab_link": true
    },
    "kernelspec": {
      "name": "python3",
      "display_name": "Python 3"
    },
    "language_info": {
      "name": "python"
    }
  },
  "cells": [
    {
      "cell_type": "markdown",
      "metadata": {
        "id": "view-in-github",
        "colab_type": "text"
      },
      "source": [
        "<a href=\"https://colab.research.google.com/github/Aniket1492/PdfML/blob/main/UsingGeminiAI.ipynb\" target=\"_parent\"><img src=\"https://colab.research.google.com/assets/colab-badge.svg\" alt=\"Open In Colab\"/></a>"
      ]
    },
    {
      "cell_type": "code",
      "source": [
        "import google.generativeai as genai"
      ],
      "metadata": {
        "id": "HKhZWlR99PfW"
      },
      "execution_count": 23,
      "outputs": []
    },
    {
      "cell_type": "code",
      "source": [
        "# Used to securely store your API key\n",
        "from google.colab import userdata"
      ],
      "metadata": {
        "id": "m9L-IXNsDVo5"
      },
      "execution_count": 24,
      "outputs": []
    },
    {
      "cell_type": "code",
      "source": [
        "GOOGLE_API_KEY=userdata.get('GOOGLE_API_KEY')\n",
        "\n",
        "genai.configure(api_key=GOOGLE_API_KEY)\n"
      ],
      "metadata": {
        "id": "wlza4pmKDoUA"
      },
      "execution_count": 25,
      "outputs": []
    },
    {
      "cell_type": "code",
      "source": [
        "for m in genai.list_models():\n",
        "  if 'generateContent' in m.supported_generation_methods:\n",
        "    print(m.name)\n",
        "\n",
        ""
      ],
      "metadata": {
        "id": "77r7mnTJDvRe",
        "outputId": "26c3be3b-1368-4732-f67e-17532f9e182e",
        "colab": {
          "base_uri": "https://localhost:8080/",
          "height": 121
        }
      },
      "execution_count": 26,
      "outputs": [
        {
          "output_type": "stream",
          "name": "stdout",
          "text": [
            "models/gemini-1.0-pro\n",
            "models/gemini-1.0-pro-001\n",
            "models/gemini-1.0-pro-latest\n",
            "models/gemini-1.0-pro-vision-latest\n",
            "models/gemini-pro\n",
            "models/gemini-pro-vision\n"
          ]
        }
      ]
    },
    {
      "cell_type": "code",
      "source": [
        "# Model Configuration\n",
        "MODEL_CONFIG = {\n",
        "  \"temperature\": 0.1,\n",
        "  \"top_p\": 1,\n",
        "  \"top_k\": 32,\n",
        "  \"max_output_tokens\": 4096,\n",
        "}\n",
        "\n",
        "## Safety Settings of Model\n",
        "safety_settings = [\n",
        "  {\n",
        "    \"category\": \"HARM_CATEGORY_HARASSMENT\",\n",
        "    \"threshold\": \"BLOCK_MEDIUM_AND_ABOVE\"\n",
        "  },\n",
        "  {\n",
        "    \"category\": \"HARM_CATEGORY_HATE_SPEECH\",\n",
        "    \"threshold\": \"BLOCK_MEDIUM_AND_ABOVE\"\n",
        "  },\n",
        "  {\n",
        "    \"category\": \"HARM_CATEGORY_SEXUALLY_EXPLICIT\",\n",
        "    \"threshold\": \"BLOCK_MEDIUM_AND_ABOVE\"\n",
        "  },\n",
        "  {\n",
        "    \"category\": \"HARM_CATEGORY_DANGEROUS_CONTENT\",\n",
        "    \"threshold\": \"BLOCK_MEDIUM_AND_ABOVE\"\n",
        "  }\n",
        "]"
      ],
      "metadata": {
        "id": "JmN2tL-6D1Rd"
      },
      "execution_count": 27,
      "outputs": []
    },
    {
      "cell_type": "code",
      "source": [
        "model = genai.GenerativeModel(model_name = \"gemini-pro-vision\",\n",
        "                              generation_config = MODEL_CONFIG,\n",
        "                              safety_settings = safety_settings)"
      ],
      "metadata": {
        "id": "TKtbVeejD9iZ"
      },
      "execution_count": 28,
      "outputs": []
    },
    {
      "cell_type": "code",
      "source": [
        "from pathlib import Path\n",
        "\n",
        "def image_format(image_path):\n",
        "    img = Path(image_path)\n",
        "\n",
        "    if not img.exists():\n",
        "        raise FileNotFoundError(f\"Could not find image: {img}\")\n",
        "\n",
        "    image_parts = [\n",
        "        {\n",
        "            \"mime_type\": \"image/png\", ## Mime type are PNG - image/png. JPEG - image/jpeg. WEBP - image/webp\n",
        "            \"data\": img.read_bytes()\n",
        "        }\n",
        "    ]\n",
        "    return image_parts\n",
        "\n",
        ""
      ],
      "metadata": {
        "id": "XwLbI8DJEBnm"
      },
      "execution_count": 29,
      "outputs": []
    },
    {
      "cell_type": "code",
      "source": [
        "def gemini_output(image_path, system_prompt, user_prompt):\n",
        "\n",
        "    image_info = image_format(image_path)\n",
        "    input_prompt= [system_prompt, image_info[0], user_prompt]\n",
        "    response = model.generate_content(input_prompt)\n",
        "    return response.text"
      ],
      "metadata": {
        "id": "MimVk9mWEI1f"
      },
      "execution_count": 30,
      "outputs": []
    },
    {
      "cell_type": "code",
      "source": [
        "system_prompt = \"\"\"\n",
        "               You are a specialist in comprehending receipts.\n",
        "               Input images in the form of receipts will be provided to you,\n",
        "               and your task is to respond to questions based on the content of the input image.\n",
        "               \"\"\"\n",
        "\n",
        "image_path = \"/content/sample_data/AmazonTest1.PNG\"\n",
        "\n",
        "user_prompt = \"What is the Total in the image?\"\n",
        "\n",
        "gemini_output(image_path, system_prompt, user_prompt)"
      ],
      "metadata": {
        "id": "5qrlvERCENWx",
        "outputId": "c51844ab-c473-469f-d803-22b356ba9ee5",
        "colab": {
          "base_uri": "https://localhost:8080/",
          "height": 35
        }
      },
      "execution_count": 36,
      "outputs": [
        {
          "output_type": "execute_result",
          "data": {
            "text/plain": [
              "' The total is 175.'"
            ],
            "application/vnd.google.colaboratory.intrinsic+json": {
              "type": "string"
            }
          },
          "metadata": {},
          "execution_count": 36
        }
      ]
    },
    {
      "cell_type": "code",
      "source": [
        "system_prompt = \"\"\"\n",
        "               You are a specialist in comprehending receipts.\n",
        "               Input images in the form of receipts will be provided to you,\n",
        "               and your task is to respond to questions based on the content of the input image.\n",
        "               \"\"\"\n",
        "#system_prompt = \"Convert Invoice data into json format with appropriate json tags as required for the data in image \"\n",
        "image_path = \"/content/sample_data/AmazonTest1.PNG\"\n",
        "user_prompt = \"Convert Invoice data into json format with appropriate json tags as required for the data in image \"\n",
        ""
      ],
      "metadata": {
        "id": "RbyNrr1jFch4"
      },
      "execution_count": 38,
      "outputs": []
    },
    {
      "cell_type": "code",
      "source": [
        "output = gemini_output(image_path, system_prompt, user_prompt)"
      ],
      "metadata": {
        "id": "pNYUOMNxFlIs"
      },
      "execution_count": 39,
      "outputs": []
    },
    {
      "cell_type": "code",
      "source": [
        "from IPython.display import Markdown\n",
        "Markdown(output)"
      ],
      "metadata": {
        "id": "_4-ugRXUFuy4",
        "outputId": "e8a32229-f258-4eb3-a532-32261b483a92",
        "colab": {
          "base_uri": "https://localhost:8080/",
          "height": 957
        }
      },
      "execution_count": 40,
      "outputs": [
        {
          "output_type": "execute_result",
          "data": {
            "text/plain": [
              "<IPython.core.display.Markdown object>"
            ],
            "text/markdown": " ```json\n{\n  \"Invoice\": {\n    \"Supplier\": {\n      \"Name\": \"ETRADEMARKETING PRIVATE LIMITED\",\n      \"Address\": {\n        \"Line1\": \"Building No. 801, ESR Pune Estates Pvt Ltd,\",\n        \"Line2\": \"Village Ambethan, Tal. Khed, Dist. Pune, Pin\",\n        \"City\": \"CHAKAN\",\n        \"State\": \"MAHARASHTRA\",\n        \"Pin\": \"410501\",\n        \"Country\": \"IN\"\n      },\n      \"GSTIN\": \"27AADCV4254H1Z8\"\n    },\n    \"Recipient\": {\n      \"Name\": \"Aniket Chaudhari\",\n      \"Address\": {\n        \"Line1\": \"SR NO 282/3/1/1 Porwal Road, Kanekar Nagar,\",\n        \"Line2\": \"Lohgaon. Near Apple Chemist, PUNE\",\n        \"City\": \"Pune\",\n        \"State\": \"MAHARASHTRA\",\n        \"Pin\": \"411047\",\n        \"Country\": \"IN\"\n      }\n    },\n    \"InvoiceNumber\": \"MH-NPQ-1317922175-2324\",\n    \"InvoiceDate\": \"2023-04-02\",\n    \"PlaceOfSupply\": \"MAHARASHTRA\",\n    \"Items\": [\n      {\n        \"Description\": \"BLOOMBUDDY Organic Growth Booster Fertilizer Manure for Home Garden plants (1 KG), Granules, Pack of 1\",\n        \"HSNCode\": \"B072V2C572\",\n        \"UnitPrice\": 368.58,\n        \"Discount\": -18.45,\n        \"Quantity\": 1,\n        \"TaxRate\": 2.5,\n        \"TaxType\": \"CGST\",\n        \"Amount\": 8.75\n      },\n      {\n        \"Description\": \"200gm-50 Seeds Tomato Vegetable Seeds (Red Pack of 2) BLOOMBUDDY B09LM8PQR (B09LM8PRQT)\",\n        \"HSNCode\": \"120091\",\n        \"UnitPrice\": 100.00,\n        \"Discount\": -35.00,\n        \"Quantity\": 3,\n        \"TaxRate\": 0.00,\n        \"TaxType\": \"IGST\",\n        \"Amount\": 0.00\n      }\n    ],\n    \"TotalAmount\": 175.50\n  }\n}\n```"
          },
          "metadata": {},
          "execution_count": 40
        }
      ]
    }
  ]
}