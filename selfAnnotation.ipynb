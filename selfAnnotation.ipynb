{
  "nbformat": 4,
  "nbformat_minor": 0,
  "metadata": {
    "colab": {
      "provenance": [],
      "authorship_tag": "ABX9TyP5Q+nt2bRjUBOYnCB/k7VJ",
      "include_colab_link": true
    },
    "kernelspec": {
      "name": "python3",
      "display_name": "Python 3"
    },
    "language_info": {
      "name": "python"
    },
    "widgets": {
      "application/vnd.jupyter.widget-state+json": {
        "360bb3f7210a4618933215205c0c31cc": {
          "model_module": "@jupyter-widgets/controls",
          "model_name": "HBoxModel",
          "model_module_version": "1.5.0",
          "state": {
            "_dom_classes": [],
            "_model_module": "@jupyter-widgets/controls",
            "_model_module_version": "1.5.0",
            "_model_name": "HBoxModel",
            "_view_count": null,
            "_view_module": "@jupyter-widgets/controls",
            "_view_module_version": "1.5.0",
            "_view_name": "HBoxView",
            "box_style": "",
            "children": [
              "IPY_MODEL_f1d8795a47934c549ff6b978da5b8f78",
              "IPY_MODEL_ed0c3ba6674b49f798826db1963dbf6b",
              "IPY_MODEL_17e52771d4d145cd896f34d6bf343f17"
            ],
            "layout": "IPY_MODEL_915a2c3808cc462aadf14a87983b7305"
          }
        },
        "f1d8795a47934c549ff6b978da5b8f78": {
          "model_module": "@jupyter-widgets/controls",
          "model_name": "HTMLModel",
          "model_module_version": "1.5.0",
          "state": {
            "_dom_classes": [],
            "_model_module": "@jupyter-widgets/controls",
            "_model_module_version": "1.5.0",
            "_model_name": "HTMLModel",
            "_view_count": null,
            "_view_module": "@jupyter-widgets/controls",
            "_view_module_version": "1.5.0",
            "_view_name": "HTMLView",
            "description": "",
            "description_tooltip": null,
            "layout": "IPY_MODEL_51262b0a112543f38aa2df082eafa7cd",
            "placeholder": "​",
            "style": "IPY_MODEL_0e59e40c967c47f2ad54ec8e039a0305",
            "value": "config.json: 100%"
          }
        },
        "ed0c3ba6674b49f798826db1963dbf6b": {
          "model_module": "@jupyter-widgets/controls",
          "model_name": "FloatProgressModel",
          "model_module_version": "1.5.0",
          "state": {
            "_dom_classes": [],
            "_model_module": "@jupyter-widgets/controls",
            "_model_module_version": "1.5.0",
            "_model_name": "FloatProgressModel",
            "_view_count": null,
            "_view_module": "@jupyter-widgets/controls",
            "_view_module_version": "1.5.0",
            "_view_name": "ProgressView",
            "bar_style": "success",
            "description": "",
            "description_tooltip": null,
            "layout": "IPY_MODEL_5ee0d3bf62cd450590377b3264634a3d",
            "max": 697,
            "min": 0,
            "orientation": "horizontal",
            "style": "IPY_MODEL_ed7dcb5c100d47e59a0405672a1bfcb8",
            "value": 697
          }
        },
        "17e52771d4d145cd896f34d6bf343f17": {
          "model_module": "@jupyter-widgets/controls",
          "model_name": "HTMLModel",
          "model_module_version": "1.5.0",
          "state": {
            "_dom_classes": [],
            "_model_module": "@jupyter-widgets/controls",
            "_model_module_version": "1.5.0",
            "_model_name": "HTMLModel",
            "_view_count": null,
            "_view_module": "@jupyter-widgets/controls",
            "_view_module_version": "1.5.0",
            "_view_name": "HTMLView",
            "description": "",
            "description_tooltip": null,
            "layout": "IPY_MODEL_8150dffb294d4763a02236157b2518bd",
            "placeholder": "​",
            "style": "IPY_MODEL_f0889a73e54e45f5a895541059ff2e94",
            "value": " 697/697 [00:00&lt;00:00, 17.8kB/s]"
          }
        },
        "915a2c3808cc462aadf14a87983b7305": {
          "model_module": "@jupyter-widgets/base",
          "model_name": "LayoutModel",
          "model_module_version": "1.2.0",
          "state": {
            "_model_module": "@jupyter-widgets/base",
            "_model_module_version": "1.2.0",
            "_model_name": "LayoutModel",
            "_view_count": null,
            "_view_module": "@jupyter-widgets/base",
            "_view_module_version": "1.2.0",
            "_view_name": "LayoutView",
            "align_content": null,
            "align_items": null,
            "align_self": null,
            "border": null,
            "bottom": null,
            "display": null,
            "flex": null,
            "flex_flow": null,
            "grid_area": null,
            "grid_auto_columns": null,
            "grid_auto_flow": null,
            "grid_auto_rows": null,
            "grid_column": null,
            "grid_gap": null,
            "grid_row": null,
            "grid_template_areas": null,
            "grid_template_columns": null,
            "grid_template_rows": null,
            "height": null,
            "justify_content": null,
            "justify_items": null,
            "left": null,
            "margin": null,
            "max_height": null,
            "max_width": null,
            "min_height": null,
            "min_width": null,
            "object_fit": null,
            "object_position": null,
            "order": null,
            "overflow": null,
            "overflow_x": null,
            "overflow_y": null,
            "padding": null,
            "right": null,
            "top": null,
            "visibility": null,
            "width": null
          }
        },
        "51262b0a112543f38aa2df082eafa7cd": {
          "model_module": "@jupyter-widgets/base",
          "model_name": "LayoutModel",
          "model_module_version": "1.2.0",
          "state": {
            "_model_module": "@jupyter-widgets/base",
            "_model_module_version": "1.2.0",
            "_model_name": "LayoutModel",
            "_view_count": null,
            "_view_module": "@jupyter-widgets/base",
            "_view_module_version": "1.2.0",
            "_view_name": "LayoutView",
            "align_content": null,
            "align_items": null,
            "align_self": null,
            "border": null,
            "bottom": null,
            "display": null,
            "flex": null,
            "flex_flow": null,
            "grid_area": null,
            "grid_auto_columns": null,
            "grid_auto_flow": null,
            "grid_auto_rows": null,
            "grid_column": null,
            "grid_gap": null,
            "grid_row": null,
            "grid_template_areas": null,
            "grid_template_columns": null,
            "grid_template_rows": null,
            "height": null,
            "justify_content": null,
            "justify_items": null,
            "left": null,
            "margin": null,
            "max_height": null,
            "max_width": null,
            "min_height": null,
            "min_width": null,
            "object_fit": null,
            "object_position": null,
            "order": null,
            "overflow": null,
            "overflow_x": null,
            "overflow_y": null,
            "padding": null,
            "right": null,
            "top": null,
            "visibility": null,
            "width": null
          }
        },
        "0e59e40c967c47f2ad54ec8e039a0305": {
          "model_module": "@jupyter-widgets/controls",
          "model_name": "DescriptionStyleModel",
          "model_module_version": "1.5.0",
          "state": {
            "_model_module": "@jupyter-widgets/controls",
            "_model_module_version": "1.5.0",
            "_model_name": "DescriptionStyleModel",
            "_view_count": null,
            "_view_module": "@jupyter-widgets/base",
            "_view_module_version": "1.2.0",
            "_view_name": "StyleView",
            "description_width": ""
          }
        },
        "5ee0d3bf62cd450590377b3264634a3d": {
          "model_module": "@jupyter-widgets/base",
          "model_name": "LayoutModel",
          "model_module_version": "1.2.0",
          "state": {
            "_model_module": "@jupyter-widgets/base",
            "_model_module_version": "1.2.0",
            "_model_name": "LayoutModel",
            "_view_count": null,
            "_view_module": "@jupyter-widgets/base",
            "_view_module_version": "1.2.0",
            "_view_name": "LayoutView",
            "align_content": null,
            "align_items": null,
            "align_self": null,
            "border": null,
            "bottom": null,
            "display": null,
            "flex": null,
            "flex_flow": null,
            "grid_area": null,
            "grid_auto_columns": null,
            "grid_auto_flow": null,
            "grid_auto_rows": null,
            "grid_column": null,
            "grid_gap": null,
            "grid_row": null,
            "grid_template_areas": null,
            "grid_template_columns": null,
            "grid_template_rows": null,
            "height": null,
            "justify_content": null,
            "justify_items": null,
            "left": null,
            "margin": null,
            "max_height": null,
            "max_width": null,
            "min_height": null,
            "min_width": null,
            "object_fit": null,
            "object_position": null,
            "order": null,
            "overflow": null,
            "overflow_x": null,
            "overflow_y": null,
            "padding": null,
            "right": null,
            "top": null,
            "visibility": null,
            "width": null
          }
        },
        "ed7dcb5c100d47e59a0405672a1bfcb8": {
          "model_module": "@jupyter-widgets/controls",
          "model_name": "ProgressStyleModel",
          "model_module_version": "1.5.0",
          "state": {
            "_model_module": "@jupyter-widgets/controls",
            "_model_module_version": "1.5.0",
            "_model_name": "ProgressStyleModel",
            "_view_count": null,
            "_view_module": "@jupyter-widgets/base",
            "_view_module_version": "1.2.0",
            "_view_name": "StyleView",
            "bar_color": null,
            "description_width": ""
          }
        },
        "8150dffb294d4763a02236157b2518bd": {
          "model_module": "@jupyter-widgets/base",
          "model_name": "LayoutModel",
          "model_module_version": "1.2.0",
          "state": {
            "_model_module": "@jupyter-widgets/base",
            "_model_module_version": "1.2.0",
            "_model_name": "LayoutModel",
            "_view_count": null,
            "_view_module": "@jupyter-widgets/base",
            "_view_module_version": "1.2.0",
            "_view_name": "LayoutView",
            "align_content": null,
            "align_items": null,
            "align_self": null,
            "border": null,
            "bottom": null,
            "display": null,
            "flex": null,
            "flex_flow": null,
            "grid_area": null,
            "grid_auto_columns": null,
            "grid_auto_flow": null,
            "grid_auto_rows": null,
            "grid_column": null,
            "grid_gap": null,
            "grid_row": null,
            "grid_template_areas": null,
            "grid_template_columns": null,
            "grid_template_rows": null,
            "height": null,
            "justify_content": null,
            "justify_items": null,
            "left": null,
            "margin": null,
            "max_height": null,
            "max_width": null,
            "min_height": null,
            "min_width": null,
            "object_fit": null,
            "object_position": null,
            "order": null,
            "overflow": null,
            "overflow_x": null,
            "overflow_y": null,
            "padding": null,
            "right": null,
            "top": null,
            "visibility": null,
            "width": null
          }
        },
        "f0889a73e54e45f5a895541059ff2e94": {
          "model_module": "@jupyter-widgets/controls",
          "model_name": "DescriptionStyleModel",
          "model_module_version": "1.5.0",
          "state": {
            "_model_module": "@jupyter-widgets/controls",
            "_model_module_version": "1.5.0",
            "_model_name": "DescriptionStyleModel",
            "_view_count": null,
            "_view_module": "@jupyter-widgets/base",
            "_view_module_version": "1.2.0",
            "_view_name": "StyleView",
            "description_width": ""
          }
        },
        "04a40dd9685a403cb61f2fabe5d0dfa0": {
          "model_module": "@jupyter-widgets/controls",
          "model_name": "HBoxModel",
          "model_module_version": "1.5.0",
          "state": {
            "_dom_classes": [],
            "_model_module": "@jupyter-widgets/controls",
            "_model_module_version": "1.5.0",
            "_model_name": "HBoxModel",
            "_view_count": null,
            "_view_module": "@jupyter-widgets/controls",
            "_view_module_version": "1.5.0",
            "_view_name": "HBoxView",
            "box_style": "",
            "children": [
              "IPY_MODEL_e6047c406d974612ab1aaa8bd380c055",
              "IPY_MODEL_3cf5d4a0b3a7481581084bc2457baf9c",
              "IPY_MODEL_8196d3cba5d74200892c28b7ad1c0bd1"
            ],
            "layout": "IPY_MODEL_8703f02b71a344848b9154b596e8e115"
          }
        },
        "e6047c406d974612ab1aaa8bd380c055": {
          "model_module": "@jupyter-widgets/controls",
          "model_name": "HTMLModel",
          "model_module_version": "1.5.0",
          "state": {
            "_dom_classes": [],
            "_model_module": "@jupyter-widgets/controls",
            "_model_module_version": "1.5.0",
            "_model_name": "HTMLModel",
            "_view_count": null,
            "_view_module": "@jupyter-widgets/controls",
            "_view_module_version": "1.5.0",
            "_view_name": "HTMLView",
            "description": "",
            "description_tooltip": null,
            "layout": "IPY_MODEL_a6f68cc490334d98b90c5b4c4f72922a",
            "placeholder": "​",
            "style": "IPY_MODEL_3699ac53521f4b19953dd9757130f4fa",
            "value": "model.safetensors: 100%"
          }
        },
        "3cf5d4a0b3a7481581084bc2457baf9c": {
          "model_module": "@jupyter-widgets/controls",
          "model_name": "FloatProgressModel",
          "model_module_version": "1.5.0",
          "state": {
            "_dom_classes": [],
            "_model_module": "@jupyter-widgets/controls",
            "_model_module_version": "1.5.0",
            "_model_name": "FloatProgressModel",
            "_view_count": null,
            "_view_module": "@jupyter-widgets/controls",
            "_view_module_version": "1.5.0",
            "_view_name": "ProgressView",
            "bar_style": "success",
            "description": "",
            "description_tooltip": null,
            "layout": "IPY_MODEL_93bda1a4b52949be8bf2eec787891fd7",
            "max": 523070632,
            "min": 0,
            "orientation": "horizontal",
            "style": "IPY_MODEL_f5502f940dfa413e83ea4ac78bb025ae",
            "value": 523070632
          }
        },
        "8196d3cba5d74200892c28b7ad1c0bd1": {
          "model_module": "@jupyter-widgets/controls",
          "model_name": "HTMLModel",
          "model_module_version": "1.5.0",
          "state": {
            "_dom_classes": [],
            "_model_module": "@jupyter-widgets/controls",
            "_model_module_version": "1.5.0",
            "_model_name": "HTMLModel",
            "_view_count": null,
            "_view_module": "@jupyter-widgets/controls",
            "_view_module_version": "1.5.0",
            "_view_name": "HTMLView",
            "description": "",
            "description_tooltip": null,
            "layout": "IPY_MODEL_2ef03d203ffb404199164ac865428427",
            "placeholder": "​",
            "style": "IPY_MODEL_4a51a4b3b16c4a4ab1d61b729247f573",
            "value": " 523M/523M [00:06&lt;00:00, 79.7MB/s]"
          }
        },
        "8703f02b71a344848b9154b596e8e115": {
          "model_module": "@jupyter-widgets/base",
          "model_name": "LayoutModel",
          "model_module_version": "1.2.0",
          "state": {
            "_model_module": "@jupyter-widgets/base",
            "_model_module_version": "1.2.0",
            "_model_name": "LayoutModel",
            "_view_count": null,
            "_view_module": "@jupyter-widgets/base",
            "_view_module_version": "1.2.0",
            "_view_name": "LayoutView",
            "align_content": null,
            "align_items": null,
            "align_self": null,
            "border": null,
            "bottom": null,
            "display": null,
            "flex": null,
            "flex_flow": null,
            "grid_area": null,
            "grid_auto_columns": null,
            "grid_auto_flow": null,
            "grid_auto_rows": null,
            "grid_column": null,
            "grid_gap": null,
            "grid_row": null,
            "grid_template_areas": null,
            "grid_template_columns": null,
            "grid_template_rows": null,
            "height": null,
            "justify_content": null,
            "justify_items": null,
            "left": null,
            "margin": null,
            "max_height": null,
            "max_width": null,
            "min_height": null,
            "min_width": null,
            "object_fit": null,
            "object_position": null,
            "order": null,
            "overflow": null,
            "overflow_x": null,
            "overflow_y": null,
            "padding": null,
            "right": null,
            "top": null,
            "visibility": null,
            "width": null
          }
        },
        "a6f68cc490334d98b90c5b4c4f72922a": {
          "model_module": "@jupyter-widgets/base",
          "model_name": "LayoutModel",
          "model_module_version": "1.2.0",
          "state": {
            "_model_module": "@jupyter-widgets/base",
            "_model_module_version": "1.2.0",
            "_model_name": "LayoutModel",
            "_view_count": null,
            "_view_module": "@jupyter-widgets/base",
            "_view_module_version": "1.2.0",
            "_view_name": "LayoutView",
            "align_content": null,
            "align_items": null,
            "align_self": null,
            "border": null,
            "bottom": null,
            "display": null,
            "flex": null,
            "flex_flow": null,
            "grid_area": null,
            "grid_auto_columns": null,
            "grid_auto_flow": null,
            "grid_auto_rows": null,
            "grid_column": null,
            "grid_gap": null,
            "grid_row": null,
            "grid_template_areas": null,
            "grid_template_columns": null,
            "grid_template_rows": null,
            "height": null,
            "justify_content": null,
            "justify_items": null,
            "left": null,
            "margin": null,
            "max_height": null,
            "max_width": null,
            "min_height": null,
            "min_width": null,
            "object_fit": null,
            "object_position": null,
            "order": null,
            "overflow": null,
            "overflow_x": null,
            "overflow_y": null,
            "padding": null,
            "right": null,
            "top": null,
            "visibility": null,
            "width": null
          }
        },
        "3699ac53521f4b19953dd9757130f4fa": {
          "model_module": "@jupyter-widgets/controls",
          "model_name": "DescriptionStyleModel",
          "model_module_version": "1.5.0",
          "state": {
            "_model_module": "@jupyter-widgets/controls",
            "_model_module_version": "1.5.0",
            "_model_name": "DescriptionStyleModel",
            "_view_count": null,
            "_view_module": "@jupyter-widgets/base",
            "_view_module_version": "1.2.0",
            "_view_name": "StyleView",
            "description_width": ""
          }
        },
        "93bda1a4b52949be8bf2eec787891fd7": {
          "model_module": "@jupyter-widgets/base",
          "model_name": "LayoutModel",
          "model_module_version": "1.2.0",
          "state": {
            "_model_module": "@jupyter-widgets/base",
            "_model_module_version": "1.2.0",
            "_model_name": "LayoutModel",
            "_view_count": null,
            "_view_module": "@jupyter-widgets/base",
            "_view_module_version": "1.2.0",
            "_view_name": "LayoutView",
            "align_content": null,
            "align_items": null,
            "align_self": null,
            "border": null,
            "bottom": null,
            "display": null,
            "flex": null,
            "flex_flow": null,
            "grid_area": null,
            "grid_auto_columns": null,
            "grid_auto_flow": null,
            "grid_auto_rows": null,
            "grid_column": null,
            "grid_gap": null,
            "grid_row": null,
            "grid_template_areas": null,
            "grid_template_columns": null,
            "grid_template_rows": null,
            "height": null,
            "justify_content": null,
            "justify_items": null,
            "left": null,
            "margin": null,
            "max_height": null,
            "max_width": null,
            "min_height": null,
            "min_width": null,
            "object_fit": null,
            "object_position": null,
            "order": null,
            "overflow": null,
            "overflow_x": null,
            "overflow_y": null,
            "padding": null,
            "right": null,
            "top": null,
            "visibility": null,
            "width": null
          }
        },
        "f5502f940dfa413e83ea4ac78bb025ae": {
          "model_module": "@jupyter-widgets/controls",
          "model_name": "ProgressStyleModel",
          "model_module_version": "1.5.0",
          "state": {
            "_model_module": "@jupyter-widgets/controls",
            "_model_module_version": "1.5.0",
            "_model_name": "ProgressStyleModel",
            "_view_count": null,
            "_view_module": "@jupyter-widgets/base",
            "_view_module_version": "1.2.0",
            "_view_name": "StyleView",
            "bar_color": null,
            "description_width": ""
          }
        },
        "2ef03d203ffb404199164ac865428427": {
          "model_module": "@jupyter-widgets/base",
          "model_name": "LayoutModel",
          "model_module_version": "1.2.0",
          "state": {
            "_model_module": "@jupyter-widgets/base",
            "_model_module_version": "1.2.0",
            "_model_name": "LayoutModel",
            "_view_count": null,
            "_view_module": "@jupyter-widgets/base",
            "_view_module_version": "1.2.0",
            "_view_name": "LayoutView",
            "align_content": null,
            "align_items": null,
            "align_self": null,
            "border": null,
            "bottom": null,
            "display": null,
            "flex": null,
            "flex_flow": null,
            "grid_area": null,
            "grid_auto_columns": null,
            "grid_auto_flow": null,
            "grid_auto_rows": null,
            "grid_column": null,
            "grid_gap": null,
            "grid_row": null,
            "grid_template_areas": null,
            "grid_template_columns": null,
            "grid_template_rows": null,
            "height": null,
            "justify_content": null,
            "justify_items": null,
            "left": null,
            "margin": null,
            "max_height": null,
            "max_width": null,
            "min_height": null,
            "min_width": null,
            "object_fit": null,
            "object_position": null,
            "order": null,
            "overflow": null,
            "overflow_x": null,
            "overflow_y": null,
            "padding": null,
            "right": null,
            "top": null,
            "visibility": null,
            "width": null
          }
        },
        "4a51a4b3b16c4a4ab1d61b729247f573": {
          "model_module": "@jupyter-widgets/controls",
          "model_name": "DescriptionStyleModel",
          "model_module_version": "1.5.0",
          "state": {
            "_model_module": "@jupyter-widgets/controls",
            "_model_module_version": "1.5.0",
            "_model_name": "DescriptionStyleModel",
            "_view_count": null,
            "_view_module": "@jupyter-widgets/base",
            "_view_module_version": "1.2.0",
            "_view_name": "StyleView",
            "description_width": ""
          }
        },
        "75e75ed66dbf48fabd76f860f838c4c0": {
          "model_module": "@jupyter-widgets/controls",
          "model_name": "HBoxModel",
          "model_module_version": "1.5.0",
          "state": {
            "_dom_classes": [],
            "_model_module": "@jupyter-widgets/controls",
            "_model_module_version": "1.5.0",
            "_model_name": "HBoxModel",
            "_view_count": null,
            "_view_module": "@jupyter-widgets/controls",
            "_view_module_version": "1.5.0",
            "_view_name": "HBoxView",
            "box_style": "",
            "children": [
              "IPY_MODEL_b9f59a2a71fa43c9931848ed48710c49",
              "IPY_MODEL_01daa3da7bae4bc0b5af3c5db90e4d2f",
              "IPY_MODEL_dc843f8e5e55489fbe13c2fd409c13de"
            ],
            "layout": "IPY_MODEL_fac403c20ad549af8dc493b8b9904f55"
          }
        },
        "b9f59a2a71fa43c9931848ed48710c49": {
          "model_module": "@jupyter-widgets/controls",
          "model_name": "HTMLModel",
          "model_module_version": "1.5.0",
          "state": {
            "_dom_classes": [],
            "_model_module": "@jupyter-widgets/controls",
            "_model_module_version": "1.5.0",
            "_model_name": "HTMLModel",
            "_view_count": null,
            "_view_module": "@jupyter-widgets/controls",
            "_view_module_version": "1.5.0",
            "_view_name": "HTMLView",
            "description": "",
            "description_tooltip": null,
            "layout": "IPY_MODEL_84c70388862c4cbda8b8b7f81f2398b1",
            "placeholder": "​",
            "style": "IPY_MODEL_e0fb5cda5475466e8c105d0477300dfd",
            "value": "Downloading builder script: "
          }
        },
        "01daa3da7bae4bc0b5af3c5db90e4d2f": {
          "model_module": "@jupyter-widgets/controls",
          "model_name": "FloatProgressModel",
          "model_module_version": "1.5.0",
          "state": {
            "_dom_classes": [],
            "_model_module": "@jupyter-widgets/controls",
            "_model_module_version": "1.5.0",
            "_model_name": "FloatProgressModel",
            "_view_count": null,
            "_view_module": "@jupyter-widgets/controls",
            "_view_module_version": "1.5.0",
            "_view_name": "ProgressView",
            "bar_style": "success",
            "description": "",
            "description_tooltip": null,
            "layout": "IPY_MODEL_5833bb4408ca44f99dbed97ef590955f",
            "max": 2471,
            "min": 0,
            "orientation": "horizontal",
            "style": "IPY_MODEL_55fc45c679a44221b4bab9516625b78a",
            "value": 2471
          }
        },
        "dc843f8e5e55489fbe13c2fd409c13de": {
          "model_module": "@jupyter-widgets/controls",
          "model_name": "HTMLModel",
          "model_module_version": "1.5.0",
          "state": {
            "_dom_classes": [],
            "_model_module": "@jupyter-widgets/controls",
            "_model_module_version": "1.5.0",
            "_model_name": "HTMLModel",
            "_view_count": null,
            "_view_module": "@jupyter-widgets/controls",
            "_view_module_version": "1.5.0",
            "_view_name": "HTMLView",
            "description": "",
            "description_tooltip": null,
            "layout": "IPY_MODEL_d6f754f2cd904db28b7111dc94a23540",
            "placeholder": "​",
            "style": "IPY_MODEL_718d3b10a0934fb49ce4fa7f7eed4a2e",
            "value": " 6.33k/? [00:00&lt;00:00, 114kB/s]"
          }
        },
        "fac403c20ad549af8dc493b8b9904f55": {
          "model_module": "@jupyter-widgets/base",
          "model_name": "LayoutModel",
          "model_module_version": "1.2.0",
          "state": {
            "_model_module": "@jupyter-widgets/base",
            "_model_module_version": "1.2.0",
            "_model_name": "LayoutModel",
            "_view_count": null,
            "_view_module": "@jupyter-widgets/base",
            "_view_module_version": "1.2.0",
            "_view_name": "LayoutView",
            "align_content": null,
            "align_items": null,
            "align_self": null,
            "border": null,
            "bottom": null,
            "display": null,
            "flex": null,
            "flex_flow": null,
            "grid_area": null,
            "grid_auto_columns": null,
            "grid_auto_flow": null,
            "grid_auto_rows": null,
            "grid_column": null,
            "grid_gap": null,
            "grid_row": null,
            "grid_template_areas": null,
            "grid_template_columns": null,
            "grid_template_rows": null,
            "height": null,
            "justify_content": null,
            "justify_items": null,
            "left": null,
            "margin": null,
            "max_height": null,
            "max_width": null,
            "min_height": null,
            "min_width": null,
            "object_fit": null,
            "object_position": null,
            "order": null,
            "overflow": null,
            "overflow_x": null,
            "overflow_y": null,
            "padding": null,
            "right": null,
            "top": null,
            "visibility": null,
            "width": null
          }
        },
        "84c70388862c4cbda8b8b7f81f2398b1": {
          "model_module": "@jupyter-widgets/base",
          "model_name": "LayoutModel",
          "model_module_version": "1.2.0",
          "state": {
            "_model_module": "@jupyter-widgets/base",
            "_model_module_version": "1.2.0",
            "_model_name": "LayoutModel",
            "_view_count": null,
            "_view_module": "@jupyter-widgets/base",
            "_view_module_version": "1.2.0",
            "_view_name": "LayoutView",
            "align_content": null,
            "align_items": null,
            "align_self": null,
            "border": null,
            "bottom": null,
            "display": null,
            "flex": null,
            "flex_flow": null,
            "grid_area": null,
            "grid_auto_columns": null,
            "grid_auto_flow": null,
            "grid_auto_rows": null,
            "grid_column": null,
            "grid_gap": null,
            "grid_row": null,
            "grid_template_areas": null,
            "grid_template_columns": null,
            "grid_template_rows": null,
            "height": null,
            "justify_content": null,
            "justify_items": null,
            "left": null,
            "margin": null,
            "max_height": null,
            "max_width": null,
            "min_height": null,
            "min_width": null,
            "object_fit": null,
            "object_position": null,
            "order": null,
            "overflow": null,
            "overflow_x": null,
            "overflow_y": null,
            "padding": null,
            "right": null,
            "top": null,
            "visibility": null,
            "width": null
          }
        },
        "e0fb5cda5475466e8c105d0477300dfd": {
          "model_module": "@jupyter-widgets/controls",
          "model_name": "DescriptionStyleModel",
          "model_module_version": "1.5.0",
          "state": {
            "_model_module": "@jupyter-widgets/controls",
            "_model_module_version": "1.5.0",
            "_model_name": "DescriptionStyleModel",
            "_view_count": null,
            "_view_module": "@jupyter-widgets/base",
            "_view_module_version": "1.2.0",
            "_view_name": "StyleView",
            "description_width": ""
          }
        },
        "5833bb4408ca44f99dbed97ef590955f": {
          "model_module": "@jupyter-widgets/base",
          "model_name": "LayoutModel",
          "model_module_version": "1.2.0",
          "state": {
            "_model_module": "@jupyter-widgets/base",
            "_model_module_version": "1.2.0",
            "_model_name": "LayoutModel",
            "_view_count": null,
            "_view_module": "@jupyter-widgets/base",
            "_view_module_version": "1.2.0",
            "_view_name": "LayoutView",
            "align_content": null,
            "align_items": null,
            "align_self": null,
            "border": null,
            "bottom": null,
            "display": null,
            "flex": null,
            "flex_flow": null,
            "grid_area": null,
            "grid_auto_columns": null,
            "grid_auto_flow": null,
            "grid_auto_rows": null,
            "grid_column": null,
            "grid_gap": null,
            "grid_row": null,
            "grid_template_areas": null,
            "grid_template_columns": null,
            "grid_template_rows": null,
            "height": null,
            "justify_content": null,
            "justify_items": null,
            "left": null,
            "margin": null,
            "max_height": null,
            "max_width": null,
            "min_height": null,
            "min_width": null,
            "object_fit": null,
            "object_position": null,
            "order": null,
            "overflow": null,
            "overflow_x": null,
            "overflow_y": null,
            "padding": null,
            "right": null,
            "top": null,
            "visibility": null,
            "width": null
          }
        },
        "55fc45c679a44221b4bab9516625b78a": {
          "model_module": "@jupyter-widgets/controls",
          "model_name": "ProgressStyleModel",
          "model_module_version": "1.5.0",
          "state": {
            "_model_module": "@jupyter-widgets/controls",
            "_model_module_version": "1.5.0",
            "_model_name": "ProgressStyleModel",
            "_view_count": null,
            "_view_module": "@jupyter-widgets/base",
            "_view_module_version": "1.2.0",
            "_view_name": "StyleView",
            "bar_color": null,
            "description_width": ""
          }
        },
        "d6f754f2cd904db28b7111dc94a23540": {
          "model_module": "@jupyter-widgets/base",
          "model_name": "LayoutModel",
          "model_module_version": "1.2.0",
          "state": {
            "_model_module": "@jupyter-widgets/base",
            "_model_module_version": "1.2.0",
            "_model_name": "LayoutModel",
            "_view_count": null,
            "_view_module": "@jupyter-widgets/base",
            "_view_module_version": "1.2.0",
            "_view_name": "LayoutView",
            "align_content": null,
            "align_items": null,
            "align_self": null,
            "border": null,
            "bottom": null,
            "display": null,
            "flex": null,
            "flex_flow": null,
            "grid_area": null,
            "grid_auto_columns": null,
            "grid_auto_flow": null,
            "grid_auto_rows": null,
            "grid_column": null,
            "grid_gap": null,
            "grid_row": null,
            "grid_template_areas": null,
            "grid_template_columns": null,
            "grid_template_rows": null,
            "height": null,
            "justify_content": null,
            "justify_items": null,
            "left": null,
            "margin": null,
            "max_height": null,
            "max_width": null,
            "min_height": null,
            "min_width": null,
            "object_fit": null,
            "object_position": null,
            "order": null,
            "overflow": null,
            "overflow_x": null,
            "overflow_y": null,
            "padding": null,
            "right": null,
            "top": null,
            "visibility": null,
            "width": null
          }
        },
        "718d3b10a0934fb49ce4fa7f7eed4a2e": {
          "model_module": "@jupyter-widgets/controls",
          "model_name": "DescriptionStyleModel",
          "model_module_version": "1.5.0",
          "state": {
            "_model_module": "@jupyter-widgets/controls",
            "_model_module_version": "1.5.0",
            "_model_name": "DescriptionStyleModel",
            "_view_count": null,
            "_view_module": "@jupyter-widgets/base",
            "_view_module_version": "1.2.0",
            "_view_name": "StyleView",
            "description_width": ""
          }
        }
      }
    }
  },
  "cells": [
    {
      "cell_type": "markdown",
      "metadata": {
        "id": "view-in-github",
        "colab_type": "text"
      },
      "source": [
        "<a href=\"https://colab.research.google.com/github/Aniket1492/PdfML/blob/main/selfAnnotation.ipynb\" target=\"_parent\"><img src=\"https://colab.research.google.com/assets/colab-badge.svg\" alt=\"Open In Colab\"/></a>"
      ]
    },
    {
      "cell_type": "code",
      "source": [
        "from google.colab import drive\n",
        "drive.flush_and_unmount('/content/drive',force_remount=True)"
      ],
      "metadata": {
        "id": "zW6u9IxrQO__",
        "outputId": "f39a39fe-a11d-4782-b40e-f13bba79e029",
        "colab": {
          "base_uri": "https://localhost:8080/"
        }
      },
      "execution_count": 22,
      "outputs": [
        {
          "output_type": "stream",
          "name": "stdout",
          "text": [
            "Mounted at /content/drive\n"
          ]
        }
      ]
    },
    {
      "cell_type": "code",
      "source": [
        "from google.colab import drive\n",
        "drive.flush_and_unmount()"
      ],
      "metadata": {
        "id": "atNAQFveb0Vg"
      },
      "execution_count": 158,
      "outputs": []
    },
    {
      "cell_type": "code",
      "execution_count": 23,
      "metadata": {
        "id": "IeP2mTeX2Yfn",
        "outputId": "503e9518-7fe4-4785-eb5e-3d05cb12fed1",
        "colab": {
          "base_uri": "https://localhost:8080/"
        }
      },
      "outputs": [
        {
          "output_type": "stream",
          "name": "stdout",
          "text": [
            "Reading package lists... Done\n",
            "Building dependency tree... Done\n",
            "Reading state information... Done\n",
            "tesseract-ocr is already the newest version (4.1.1-2.1build1).\n",
            "0 upgraded, 0 newly installed, 0 to remove and 38 not upgraded.\n",
            "Requirement already satisfied: pytesseract in /usr/local/lib/python3.10/dist-packages (0.3.10)\n",
            "Requirement already satisfied: transformers in /usr/local/lib/python3.10/dist-packages (4.38.2)\n",
            "Requirement already satisfied: datasets in /usr/local/lib/python3.10/dist-packages (2.18.0)\n",
            "Requirement already satisfied: seqeval in /usr/local/lib/python3.10/dist-packages (1.2.2)\n",
            "Requirement already satisfied: tensorboard in /usr/local/lib/python3.10/dist-packages (2.16.2)\n",
            "Requirement already satisfied: evaluate in /usr/local/lib/python3.10/dist-packages (0.4.1)\n",
            "Requirement already satisfied: packaging>=21.3 in /usr/local/lib/python3.10/dist-packages (from pytesseract) (24.0)\n",
            "Requirement already satisfied: Pillow>=8.0.0 in /usr/local/lib/python3.10/dist-packages (from pytesseract) (9.4.0)\n",
            "Requirement already satisfied: filelock in /usr/local/lib/python3.10/dist-packages (from transformers) (3.13.1)\n",
            "Requirement already satisfied: huggingface-hub<1.0,>=0.19.3 in /usr/local/lib/python3.10/dist-packages (from transformers) (0.20.3)\n",
            "Requirement already satisfied: numpy>=1.17 in /usr/local/lib/python3.10/dist-packages (from transformers) (1.25.2)\n",
            "Requirement already satisfied: pyyaml>=5.1 in /usr/local/lib/python3.10/dist-packages (from transformers) (6.0.1)\n",
            "Requirement already satisfied: regex!=2019.12.17 in /usr/local/lib/python3.10/dist-packages (from transformers) (2023.12.25)\n",
            "Requirement already satisfied: requests in /usr/local/lib/python3.10/dist-packages (from transformers) (2.31.0)\n",
            "Requirement already satisfied: tokenizers<0.19,>=0.14 in /usr/local/lib/python3.10/dist-packages (from transformers) (0.15.2)\n",
            "Requirement already satisfied: safetensors>=0.4.1 in /usr/local/lib/python3.10/dist-packages (from transformers) (0.4.2)\n",
            "Requirement already satisfied: tqdm>=4.27 in /usr/local/lib/python3.10/dist-packages (from transformers) (4.66.2)\n",
            "Requirement already satisfied: pyarrow>=12.0.0 in /usr/local/lib/python3.10/dist-packages (from datasets) (14.0.2)\n",
            "Requirement already satisfied: pyarrow-hotfix in /usr/local/lib/python3.10/dist-packages (from datasets) (0.6)\n",
            "Requirement already satisfied: dill<0.3.9,>=0.3.0 in /usr/local/lib/python3.10/dist-packages (from datasets) (0.3.7)\n",
            "Requirement already satisfied: pandas in /usr/local/lib/python3.10/dist-packages (from datasets) (1.5.3)\n",
            "Requirement already satisfied: xxhash in /usr/local/lib/python3.10/dist-packages (from datasets) (3.4.1)\n",
            "Requirement already satisfied: multiprocess in /usr/local/lib/python3.10/dist-packages (from datasets) (0.70.15)\n",
            "Requirement already satisfied: fsspec<=2024.2.0,>=2023.1.0 in /usr/local/lib/python3.10/dist-packages (from fsspec[http]<=2024.2.0,>=2023.1.0->datasets) (2023.6.0)\n",
            "Requirement already satisfied: aiohttp in /usr/local/lib/python3.10/dist-packages (from datasets) (3.9.3)\n",
            "Requirement already satisfied: scikit-learn>=0.21.3 in /usr/local/lib/python3.10/dist-packages (from seqeval) (1.2.2)\n",
            "Requirement already satisfied: absl-py>=0.4 in /usr/local/lib/python3.10/dist-packages (from tensorboard) (1.4.0)\n",
            "Requirement already satisfied: grpcio>=1.48.2 in /usr/local/lib/python3.10/dist-packages (from tensorboard) (1.62.1)\n",
            "Requirement already satisfied: markdown>=2.6.8 in /usr/local/lib/python3.10/dist-packages (from tensorboard) (3.6)\n",
            "Requirement already satisfied: protobuf!=4.24.0,>=3.19.6 in /usr/local/lib/python3.10/dist-packages (from tensorboard) (3.20.3)\n",
            "Requirement already satisfied: setuptools>=41.0.0 in /usr/local/lib/python3.10/dist-packages (from tensorboard) (67.7.2)\n",
            "Requirement already satisfied: six>1.9 in /usr/local/lib/python3.10/dist-packages (from tensorboard) (1.16.0)\n",
            "Requirement already satisfied: tensorboard-data-server<0.8.0,>=0.7.0 in /usr/local/lib/python3.10/dist-packages (from tensorboard) (0.7.2)\n",
            "Requirement already satisfied: werkzeug>=1.0.1 in /usr/local/lib/python3.10/dist-packages (from tensorboard) (3.0.1)\n",
            "Requirement already satisfied: responses<0.19 in /usr/local/lib/python3.10/dist-packages (from evaluate) (0.18.0)\n",
            "Requirement already satisfied: aiosignal>=1.1.2 in /usr/local/lib/python3.10/dist-packages (from aiohttp->datasets) (1.3.1)\n",
            "Requirement already satisfied: attrs>=17.3.0 in /usr/local/lib/python3.10/dist-packages (from aiohttp->datasets) (23.2.0)\n",
            "Requirement already satisfied: frozenlist>=1.1.1 in /usr/local/lib/python3.10/dist-packages (from aiohttp->datasets) (1.4.1)\n",
            "Requirement already satisfied: multidict<7.0,>=4.5 in /usr/local/lib/python3.10/dist-packages (from aiohttp->datasets) (6.0.5)\n",
            "Requirement already satisfied: yarl<2.0,>=1.0 in /usr/local/lib/python3.10/dist-packages (from aiohttp->datasets) (1.9.4)\n",
            "Requirement already satisfied: async-timeout<5.0,>=4.0 in /usr/local/lib/python3.10/dist-packages (from aiohttp->datasets) (4.0.3)\n",
            "Requirement already satisfied: typing-extensions>=3.7.4.3 in /usr/local/lib/python3.10/dist-packages (from huggingface-hub<1.0,>=0.19.3->transformers) (4.10.0)\n",
            "Requirement already satisfied: charset-normalizer<4,>=2 in /usr/local/lib/python3.10/dist-packages (from requests->transformers) (3.3.2)\n",
            "Requirement already satisfied: idna<4,>=2.5 in /usr/local/lib/python3.10/dist-packages (from requests->transformers) (3.6)\n",
            "Requirement already satisfied: urllib3<3,>=1.21.1 in /usr/local/lib/python3.10/dist-packages (from requests->transformers) (2.0.7)\n",
            "Requirement already satisfied: certifi>=2017.4.17 in /usr/local/lib/python3.10/dist-packages (from requests->transformers) (2024.2.2)\n",
            "Requirement already satisfied: scipy>=1.3.2 in /usr/local/lib/python3.10/dist-packages (from scikit-learn>=0.21.3->seqeval) (1.11.4)\n",
            "Requirement already satisfied: joblib>=1.1.1 in /usr/local/lib/python3.10/dist-packages (from scikit-learn>=0.21.3->seqeval) (1.3.2)\n",
            "Requirement already satisfied: threadpoolctl>=2.0.0 in /usr/local/lib/python3.10/dist-packages (from scikit-learn>=0.21.3->seqeval) (3.3.0)\n",
            "Requirement already satisfied: MarkupSafe>=2.1.1 in /usr/local/lib/python3.10/dist-packages (from werkzeug>=1.0.1->tensorboard) (2.1.5)\n",
            "Requirement already satisfied: python-dateutil>=2.8.1 in /usr/local/lib/python3.10/dist-packages (from pandas->datasets) (2.8.2)\n",
            "Requirement already satisfied: pytz>=2020.1 in /usr/local/lib/python3.10/dist-packages (from pandas->datasets) (2023.4)\n",
            "\u001b[33mWARNING: Running pip as the 'root' user can result in broken permissions and conflicting behaviour with the system package manager. It is recommended to use a virtual environment instead: https://pip.pypa.io/warnings/venv\u001b[0m\u001b[33m\n",
            "\u001b[0m"
          ]
        }
      ],
      "source": [
        "!sudo apt install -y tesseract-ocr\n",
        "!pip install pytesseract transformers datasets seqeval tensorboard evaluate --upgrade"
      ]
    },
    {
      "cell_type": "code",
      "source": [
        "#!/bin/bash\n",
        "IOB_DATA_PATH = \"/content/drive/MyDrive/LayoutLM_Invoice_Extraction_R2gqRZR.zip\"\n",
        "!cd /content/\n"
      ],
      "metadata": {
        "id": "CDxKJXUCEgZX"
      },
      "execution_count": 27,
      "outputs": []
    },
    {
      "cell_type": "code",
      "source": [
        "!pwd"
      ],
      "metadata": {
        "id": "--L1uO_5SVnu",
        "outputId": "3b032a95-ac6b-435c-dc94-ca64a7f512f5",
        "colab": {
          "base_uri": "https://localhost:8080/"
        }
      },
      "execution_count": 28,
      "outputs": [
        {
          "output_type": "stream",
          "name": "stdout",
          "text": [
            "/content\n"
          ]
        }
      ]
    },
    {
      "cell_type": "code",
      "source": [
        "! rm -r data\n",
        "! mkdir data\n"
      ],
      "metadata": {
        "id": "82DS8fDlSQQM"
      },
      "execution_count": 29,
      "outputs": []
    },
    {
      "cell_type": "code",
      "source": [
        "! cp \"$IOB_DATA_PATH\" data/dataset.zip\n"
      ],
      "metadata": {
        "id": "rjfFrC-xSzEs"
      },
      "execution_count": 30,
      "outputs": []
    },
    {
      "cell_type": "code",
      "source": [
        "!pwd"
      ],
      "metadata": {
        "id": "lHcejKKtS0xi",
        "outputId": "75d4a0b1-478f-42e7-d201-147b086b7862",
        "colab": {
          "base_uri": "https://localhost:8080/"
        }
      },
      "execution_count": 31,
      "outputs": [
        {
          "output_type": "stream",
          "name": "stdout",
          "text": [
            "/content\n"
          ]
        }
      ]
    },
    {
      "cell_type": "code",
      "source": [
        "! cd data && unzip -q dataset && rm dataset.zip\n",
        "! cd .."
      ],
      "metadata": {
        "id": "GfOrVJ81S1V8",
        "outputId": "868b8fd2-e07e-4bc0-b5bd-6ff1ed96ec45",
        "colab": {
          "base_uri": "https://localhost:8080/"
        }
      },
      "execution_count": 36,
      "outputs": [
        {
          "output_type": "stream",
          "name": "stdout",
          "text": [
            "unzip:  cannot find or open dataset, dataset.zip or dataset.ZIP.\n"
          ]
        }
      ]
    },
    {
      "cell_type": "code",
      "source": [
        "!pwd"
      ],
      "metadata": {
        "id": "VXte8sHiUkn6",
        "outputId": "10a0bed6-016a-4475-a3ab-b63fa49562ec",
        "colab": {
          "base_uri": "https://localhost:8080/"
        }
      },
      "execution_count": 37,
      "outputs": [
        {
          "output_type": "stream",
          "name": "stdout",
          "text": [
            "/content\n"
          ]
        }
      ]
    },
    {
      "cell_type": "code",
      "source": [
        "#!/bin/bash\n",
        "#preprocessing args\n",
        "TEST_SIZE = 0.33\n",
        "DATA_OUTPUT_PATH = \"/content/\""
      ],
      "metadata": {
        "id": "ovDDHjNeEfek"
      },
      "execution_count": 33,
      "outputs": []
    },
    {
      "cell_type": "code",
      "source": [
        "%%writefile ./preprocess.py\n",
        "\n",
        "import pandas as pd\n",
        "import numpy as np\n",
        "import os\n",
        "import argparse\n",
        "from datasets.features import ClassLabel\n",
        "from transformers import AutoProcessor\n",
        "from sklearn.model_selection import train_test_split\n",
        "from datasets import Features, Sequence, ClassLabel, Value, Array2D, Array3D, Dataset\n",
        "from datasets import Image as Img\n",
        "from PIL import Image\n",
        "\n",
        "import warnings\n",
        "warnings.filterwarnings('ignore')\n",
        "\n",
        "\n",
        "def read_text_file(file_path):\n",
        "    with open(file_path, 'r') as f:\n",
        "        return (f.readlines())\n",
        "\n",
        "\n",
        "def prepare_examples(examples):\n",
        "  images = examples[image_column_name]\n",
        "  words = examples[text_column_name]\n",
        "  boxes = examples[boxes_column_name]\n",
        "  word_labels = examples[label_column_name]\n",
        "\n",
        "  encoding = processor(images, words, boxes=boxes, word_labels=word_labels,\n",
        "                       truncation=True, padding=\"max_length\")\n",
        "\n",
        "  return encoding\n",
        "\n",
        "def get_zip_dir_name():\n",
        "    try:\n",
        "        os.chdir('/content/data')\n",
        "        print(\"in zip function ===========================\")\n",
        "\n",
        "        dir_list = os.listdir()\n",
        "        print(dir_list)\n",
        "\n",
        "        any_file_name = dir_list[0]\n",
        "        print(any_file_name)\n",
        "\n",
        "        zip_dir_name = any_file_name[:any_file_name.find(\"\\\\\")]\n",
        "        print(\"in function =====================================\")\n",
        "\n",
        "        print(zip_dir_name)\n",
        "        print(\"in lamda =====================================\")\n",
        "        print(all(list(map(lambda x: 'A'+ x, dir_list))))\n",
        "\n",
        "        if all(list(map(lambda x: x.startswith(zip_dir_name), dir_list))):\n",
        "            return zip_dir_name\n",
        "        return False\n",
        "    finally:\n",
        "        os.chdir('./../')\n",
        "\n",
        "\n",
        "def filter_out_unannotated(example):\n",
        "    tags = example['ner_tags']\n",
        "    return not all([tag == label2id['O'] for tag in tags])\n",
        "\n",
        "\n",
        "\n",
        "if __name__ == '__main__':\n",
        "\n",
        "    parser = argparse.ArgumentParser()\n",
        "    parser.add_argument('--valid_size')\n",
        "    parser.add_argument('--output_path')\n",
        "    args = parser.parse_args()\n",
        "    TEST_SIZE = float(args.valid_size)\n",
        "    OUTPUT_PATH = args.output_path\n",
        "\n",
        "    os.makedirs(args.output_path, exist_ok=True)\n",
        "    files = {}\n",
        "    zip_dir_name = get_zip_dir_name()\n",
        "\n",
        "    print(zip_dir_name)\n",
        "    print(os.path.join( os.curdir, 'data', f'{zip_dir_name}\\\\{zip_dir_name}_box.txt'))\n",
        "    if zip_dir_name:\n",
        "        files['train_box'] = read_text_file(os.path.join(\n",
        "            os.curdir, 'data', f'{zip_dir_name}\\\\{zip_dir_name}_box.txt'))\n",
        "        files['train_image'] = read_text_file(os.path.join(\n",
        "            os.curdir, 'data', f'{zip_dir_name}\\\\{zip_dir_name}_image.txt'))\n",
        "        files['train'] = read_text_file(os.path.join(\n",
        "            os.curdir, 'data', f'{zip_dir_name}\\\\{zip_dir_name}.txt'))\n",
        "\n",
        "    else:\n",
        "        os.chdir('/content/data')\n",
        "        print(\"in else ==================================================\")\n",
        "        print(os.listdir())\n",
        "        for f in os.listdir():\n",
        "            print(f)\n",
        "            print(f.endswith('.txt'))\n",
        "            print(f.find('box'))\n",
        "            if f.endswith('.txt') and f.find('box') != -1:\n",
        "                files['train_box'] = read_text_file(os.path.join(os.curdir, f))\n",
        "            elif f.endswith('.txt') and f.find('image') != -1:\n",
        "                files['train_image'] = read_text_file(\n",
        "                    os.path.join(os.curdir, f))\n",
        "            elif f.endswith('.txt') and f.find('labels') == -1:\n",
        "                files['train'] = read_text_file(os.path.join(os.curdir, f))\n",
        "\n",
        "    assert(len(files['train']) == len(files['train_box']))\n",
        "    assert(len(files['train_box']) == len(files['train_image']))\n",
        "    assert(len(files['train_image']) == len(files['train']))\n",
        "\n",
        "    images = {}\n",
        "    for i, row in enumerate(files['train_image']):\n",
        "        if row != '\\n':\n",
        "            image_name = row.split('\\t')[-1]\n",
        "            images.setdefault(image_name.replace('\\n', ''), []).append(i)\n",
        "\n",
        "    words, bboxes, ner_tags, image_path = [], [], [], []\n",
        "    for image, rows in images.items():\n",
        "        words.append([row.split('\\t')[0].replace('\\n', '')\n",
        "                     for row in files['train'][rows[0]:rows[-1]+1]])\n",
        "        ner_tags.append([row.split('\\t')[1].replace('\\n', '')\n",
        "                        for row in files['train'][rows[0]:rows[-1]+1]])\n",
        "        bboxes.append([box.split('\\t')[1].replace('\\n', '')\n",
        "                      for box in files['train_box'][rows[0]:rows[-1]+1]])\n",
        "        if zip_dir_name:\n",
        "            image_path.append(f\"/content/data/{zip_dir_name}\\\\{image}\")\n",
        "        else:\n",
        "            image_path.append(f\"/content/data/{image}\")\n",
        "\n",
        "    labels = list(set([tag for doc_tag in ner_tags for tag in doc_tag]))\n",
        "    id2label = {v: k for v, k in enumerate(labels)}\n",
        "    label2id = {k: v for v, k in enumerate(labels)}\n",
        "\n",
        "    dataset_dict = {\n",
        "        'id': range(len(words)),\n",
        "        'tokens': words,\n",
        "        'bboxes': [[list(map(int, bbox.split())) for bbox in doc] for doc in bboxes],\n",
        "        'ner_tags': [[label2id[tag] for tag in ner_tag] for ner_tag in ner_tags],\n",
        "        'image': [Image.open(path).convert(\"RGB\") for path in image_path]\n",
        "    }\n",
        "\n",
        "    #raw features\n",
        "    features = Features({\n",
        "        'id': Value(dtype='string', id=None),\n",
        "        'tokens': Sequence(feature=Value(dtype='string', id=None), length=-1, id=None),\n",
        "        'bboxes': Sequence(feature=Sequence(feature=Value(dtype='int64', id=None), length=-1, id=None), length=-1, id=None),\n",
        "        'ner_tags': Sequence(feature=ClassLabel(num_classes=len(labels), names=labels, names_file=None, id=None), length=-1, id=None),\n",
        "        'image': Img(decode=True, id=None)\n",
        "    })\n",
        "\n",
        "    full_data_set = Dataset.from_dict(dataset_dict, features=features)\n",
        "    dataset = full_data_set.train_test_split(test_size=TEST_SIZE)\n",
        "    dataset[\"train\"] = dataset[\"train\"].filter(filter_out_unannotated)\n",
        "    processor = AutoProcessor.from_pretrained(\n",
        "        \"microsoft/layoutlmv3-base\", apply_ocr=False)\n",
        "\n",
        "    features = dataset[\"train\"].features\n",
        "    column_names = dataset[\"train\"].column_names\n",
        "    image_column_name = \"image\"\n",
        "    text_column_name = \"tokens\"\n",
        "    boxes_column_name = \"bboxes\"\n",
        "    label_column_name = \"ner_tags\"\n",
        "\n",
        "    features = Features({\n",
        "        'pixel_values': Array3D(dtype=\"float32\", shape=(3, 224, 224)),\n",
        "        'input_ids': Sequence(feature=Value(dtype='int64')),\n",
        "        'attention_mask': Sequence(Value(dtype='int64')),\n",
        "        'bbox': Array2D(dtype=\"int64\", shape=(512, 4)),\n",
        "        'labels': Sequence(ClassLabel(names=labels)),\n",
        "    })\n",
        "\n",
        "    train_dataset = dataset[\"train\"].map(\n",
        "        prepare_examples,\n",
        "        batched=True,\n",
        "        remove_columns=column_names,\n",
        "        features=features,\n",
        "    )\n",
        "    eval_dataset = dataset[\"test\"].map(\n",
        "        prepare_examples,\n",
        "        batched=True,\n",
        "        remove_columns=column_names,\n",
        "        features=features,\n",
        "    )\n",
        "    train_dataset.set_format(\"torch\")\n",
        "    if not OUTPUT_PATH.endswith('/'):\n",
        "        OUTPUT_PATH += '/'\n",
        "    train_dataset.save_to_disk(f'{OUTPUT_PATH}train_split')\n",
        "    eval_dataset.save_to_disk(f'{OUTPUT_PATH}eval_split')\n",
        "    dataset.save_to_disk(f'{OUTPUT_PATH}raw_data')"
      ],
      "metadata": {
        "id": "oscMBKxQFm4p",
        "outputId": "c51254c8-820c-43c4-f293-8ffd10636d25",
        "colab": {
          "base_uri": "https://localhost:8080/"
        }
      },
      "execution_count": 100,
      "outputs": [
        {
          "output_type": "stream",
          "name": "stdout",
          "text": [
            "Overwriting ./preprocess.py\n"
          ]
        }
      ]
    },
    {
      "cell_type": "code",
      "source": [
        "\n",
        "## Running Preprocessing script\n",
        "!python3 /content/preprocess.py --valid_size $TEST_SIZE --output_path $DATA_OUTPUT_PATH"
      ],
      "metadata": {
        "id": "A1YANoBLGbkZ",
        "outputId": "016dbe0a-16f2-47ab-f8cc-415dd9bb0ff6",
        "colab": {
          "base_uri": "https://localhost:8080/"
        }
      },
      "execution_count": 101,
      "outputs": [
        {
          "output_type": "stream",
          "name": "stdout",
          "text": [
            "2024-03-20 17:40:14.651810: E external/local_xla/xla/stream_executor/cuda/cuda_dnn.cc:9261] Unable to register cuDNN factory: Attempting to register factory for plugin cuDNN when one has already been registered\n",
            "2024-03-20 17:40:14.651884: E external/local_xla/xla/stream_executor/cuda/cuda_fft.cc:607] Unable to register cuFFT factory: Attempting to register factory for plugin cuFFT when one has already been registered\n",
            "2024-03-20 17:40:14.653666: E external/local_xla/xla/stream_executor/cuda/cuda_blas.cc:1515] Unable to register cuBLAS factory: Attempting to register factory for plugin cuBLAS when one has already been registered\n",
            "2024-03-20 17:40:16.593252: W tensorflow/compiler/tf2tensorrt/utils/py_utils.cc:38] TF-TRT Warning: Could not find TensorRT\n",
            "in zip function ===========================\n",
            "['Other_Sample2_image_0.jpg', '5fef0bfe-27c6-427d-adb4-f62182e030d2.txt', 'Amazon_sample_image_1.jpg', 'Amazon_sample_image_0.jpg', '5fef0bfe-27c6-427d-adb4-f62182e030d2_labels.txt', '5fef0bfe-27c6-427d-adb4-f62182e030d2_box.txt', '5fef0bfe-27c6-427d-adb4-f62182e030d2_image.txt']\n",
            "Other_Sample2_image_0.jpg\n",
            "in function =====================================\n",
            "Other_Sample2_image_0.jp\n",
            "in lamda =====================================\n",
            "True\n",
            "False\n",
            "./data/False\\False_box.txt\n",
            "in else ==================================================\n",
            "['Other_Sample2_image_0.jpg', '5fef0bfe-27c6-427d-adb4-f62182e030d2.txt', 'Amazon_sample_image_1.jpg', 'Amazon_sample_image_0.jpg', '5fef0bfe-27c6-427d-adb4-f62182e030d2_labels.txt', '5fef0bfe-27c6-427d-adb4-f62182e030d2_box.txt', '5fef0bfe-27c6-427d-adb4-f62182e030d2_image.txt']\n",
            "Other_Sample2_image_0.jpg\n",
            "False\n",
            "-1\n",
            "5fef0bfe-27c6-427d-adb4-f62182e030d2.txt\n",
            "True\n",
            "-1\n",
            "Amazon_sample_image_1.jpg\n",
            "False\n",
            "-1\n",
            "Amazon_sample_image_0.jpg\n",
            "False\n",
            "-1\n",
            "5fef0bfe-27c6-427d-adb4-f62182e030d2_labels.txt\n",
            "True\n",
            "-1\n",
            "5fef0bfe-27c6-427d-adb4-f62182e030d2_box.txt\n",
            "True\n",
            "37\n",
            "5fef0bfe-27c6-427d-adb4-f62182e030d2_image.txt\n",
            "True\n",
            "-1\n",
            "Filter: 100% 2/2 [00:00<00:00,  9.28 examples/s]\n",
            "preprocessor_config.json: 100% 275/275 [00:00<00:00, 895kB/s]\n",
            "tokenizer_config.json: 100% 1.14k/1.14k [00:00<00:00, 4.68MB/s]\n",
            "config.json: 100% 856/856 [00:00<00:00, 2.63MB/s]\n",
            "vocab.json: 100% 899k/899k [00:00<00:00, 3.64MB/s]\n",
            "merges.txt: 100% 456k/456k [00:00<00:00, 48.7MB/s]\n",
            "Map: 100% 2/2 [00:00<00:00,  4.71 examples/s]\n",
            "Map: 100% 1/1 [00:00<00:00,  5.20 examples/s]\n",
            "Saving the dataset (1/1 shards): 100% 2/2 [00:00<00:00, 163.96 examples/s]\n",
            "Saving the dataset (1/1 shards): 100% 1/1 [00:00<00:00, 107.68 examples/s]\n",
            "Saving the dataset (1/1 shards): 100% 2/2 [00:00<00:00, 183.86 examples/s]\n",
            "Saving the dataset (1/1 shards): 100% 1/1 [00:00<00:00, 126.70 examples/s]\n"
          ]
        }
      ]
    },
    {
      "cell_type": "code",
      "source": [
        "from datasets import load_metric\n",
        "from transformers import TrainingArguments, Trainer\n",
        "from transformers import LayoutLMv3ForTokenClassification,AutoProcessor\n",
        "from transformers.data.data_collator import default_data_collator\n",
        "import torch"
      ],
      "metadata": {
        "id": "EwCiDWFM9Ccm",
        "outputId": "4fcdf5b1-9b60-434e-9add-e308fa4a640d",
        "colab": {
          "base_uri": "https://localhost:8080/"
        }
      },
      "execution_count": 102,
      "outputs": [
        {
          "output_type": "stream",
          "name": "stderr",
          "text": [
            "/usr/local/lib/python3.10/dist-packages/bitsandbytes/cextension.py:34: UserWarning: The installed version of bitsandbytes was compiled without GPU support. 8-bit optimizers, 8-bit multiplication, and GPU quantization are unavailable.\n",
            "  warn(\"The installed version of bitsandbytes was compiled without GPU support. \"\n"
          ]
        },
        {
          "output_type": "stream",
          "name": "stdout",
          "text": [
            "/usr/local/lib/python3.10/dist-packages/bitsandbytes/libbitsandbytes_cpu.so: undefined symbol: cadam32bit_grad_fp32\n"
          ]
        }
      ]
    },
    {
      "cell_type": "code",
      "source": [
        "# load datasets\n",
        "from datasets import load_from_disk\n",
        "train_dataset = load_from_disk(f'/content/train_split')\n",
        "eval_dataset = load_from_disk(f'/content/eval_split')"
      ],
      "metadata": {
        "id": "GJpHTppd9KE4"
      },
      "execution_count": 103,
      "outputs": []
    },
    {
      "cell_type": "code",
      "source": [
        "## Loading raw dataset without Encoding or applying feature extractor\n",
        "train_raw_dataset = load_from_disk(f'/content/raw_data/train')\n",
        "eval_raw_dataset = load_from_disk(f'/content/raw_data/test')"
      ],
      "metadata": {
        "id": "BLcrKGhR9NrK"
      },
      "execution_count": 104,
      "outputs": []
    },
    {
      "cell_type": "code",
      "source": [
        "train_raw_dataset"
      ],
      "metadata": {
        "id": "CtK2b9Ex9SkA",
        "outputId": "cb1f36c5-7a82-436e-deaf-b7583a4092a5",
        "colab": {
          "base_uri": "https://localhost:8080/"
        }
      },
      "execution_count": 105,
      "outputs": [
        {
          "output_type": "execute_result",
          "data": {
            "text/plain": [
              "Dataset({\n",
              "    features: ['id', 'tokens', 'bboxes', 'ner_tags', 'image'],\n",
              "    num_rows: 2\n",
              "})"
            ]
          },
          "metadata": {},
          "execution_count": 105
        }
      ]
    },
    {
      "cell_type": "markdown",
      "source": [],
      "metadata": {
        "id": "CV8WCHpj9Zs0"
      }
    },
    {
      "cell_type": "code",
      "source": [
        "from PIL import Image, ImageDraw, ImageFont\n",
        "\n",
        "image = Image.open(\"/content/test_images/1_test.png\")\n",
        "image = image.convert(\"RGB\")\n",
        "image.resize((350,450))"
      ],
      "metadata": {
        "id": "v-NWH4kb9adz",
        "outputId": "6edc2fd1-ba62-445d-e281-fba57083dce1",
        "colab": {
          "base_uri": "https://localhost:8080/",
          "height": 467
        }
      },
      "execution_count": 107,
      "outputs": [
        {
          "output_type": "execute_result",
          "data": {
            "text/plain": [
              "<PIL.Image.Image image mode=RGB size=350x450>"
            ],
            "image/png": "[encoded data removed]"
          },
          "metadata": {},
          "execution_count": 107
        }
      ]
    },
    {
      "cell_type": "code",
      "source": [
        "label_list = train_dataset.features[\"labels\"].feature.names\n",
        "num_labels = len(label_list)\n",
        "label2id, id2label = dict(), dict()\n",
        "for i, label in enumerate(label_list):\n",
        "    label2id[label] = i\n",
        "    id2label[i] = label"
      ],
      "metadata": {
        "id": "azNdHQ1R_oMs"
      },
      "execution_count": 108,
      "outputs": []
    },
    {
      "cell_type": "code",
      "source": [
        "from transformers import LiltForTokenClassification\n",
        "\n",
        "# huggingface hub model id\n",
        "model_id = \"SCUT-DLVCLab/lilt-roberta-en-base\"\n",
        "\n",
        "# load model with correct number of labels and mapping\n",
        "model = LiltForTokenClassification.from_pretrained(\n",
        "    model_id, num_labels=len(label_list), label2id=label2id, id2label=id2label\n",
        ")"
      ],
      "metadata": {
        "id": "Z84Jsu1J_teG",
        "outputId": "a095a037-89b2-4788-a34b-334302b2796d",
        "colab": {
          "base_uri": "https://localhost:8080/",
          "height": 240,
          "referenced_widgets": [
            "360bb3f7210a4618933215205c0c31cc",
            "f1d8795a47934c549ff6b978da5b8f78",
            "ed0c3ba6674b49f798826db1963dbf6b",
            "17e52771d4d145cd896f34d6bf343f17",
            "915a2c3808cc462aadf14a87983b7305",
            "51262b0a112543f38aa2df082eafa7cd",
            "0e59e40c967c47f2ad54ec8e039a0305",
            "5ee0d3bf62cd450590377b3264634a3d",
            "ed7dcb5c100d47e59a0405672a1bfcb8",
            "8150dffb294d4763a02236157b2518bd",
            "f0889a73e54e45f5a895541059ff2e94",
            "04a40dd9685a403cb61f2fabe5d0dfa0",
            "e6047c406d974612ab1aaa8bd380c055",
            "3cf5d4a0b3a7481581084bc2457baf9c",
            "8196d3cba5d74200892c28b7ad1c0bd1",
            "8703f02b71a344848b9154b596e8e115",
            "a6f68cc490334d98b90c5b4c4f72922a",
            "3699ac53521f4b19953dd9757130f4fa",
            "93bda1a4b52949be8bf2eec787891fd7",
            "f5502f940dfa413e83ea4ac78bb025ae",
            "2ef03d203ffb404199164ac865428427",
            "4a51a4b3b16c4a4ab1d61b729247f573"
          ]
        }
      },
      "execution_count": 109,
      "outputs": [
        {
          "output_type": "stream",
          "name": "stderr",
          "text": [
            "/usr/local/lib/python3.10/dist-packages/huggingface_hub/utils/_token.py:88: UserWarning: \n",
            "The secret `HF_TOKEN` does not exist in your Colab secrets.\n",
            "To authenticate with the Hugging Face Hub, create a token in your settings tab (https://huggingface.co/settings/tokens), set it as secret in your Google Colab and restart your session.\n",
            "You will be able to reuse this secret in all of your notebooks.\n",
            "Please note that authentication is recommended but still optional to access public models or datasets.\n",
            "  warnings.warn(\n"
          ]
        },
        {
          "output_type": "display_data",
          "data": {
            "text/plain": [
              "config.json:   0%|          | 0.00/697 [00:00<?, ?B/s]"
            ],
            "application/vnd.jupyter.widget-view+json": {
              "version_major": 2,
              "version_minor": 0,
              "model_id": "360bb3f7210a4618933215205c0c31cc"
            }
          },
          "metadata": {}
        },
        {
          "output_type": "display_data",
          "data": {
            "text/plain": [
              "model.safetensors:   0%|          | 0.00/523M [00:00<?, ?B/s]"
            ],
            "application/vnd.jupyter.widget-view+json": {
              "version_major": 2,
              "version_minor": 0,
              "model_id": "04a40dd9685a403cb61f2fabe5d0dfa0"
            }
          },
          "metadata": {}
        },
        {
          "output_type": "stream",
          "name": "stderr",
          "text": [
            "Some weights of LiltForTokenClassification were not initialized from the model checkpoint at SCUT-DLVCLab/lilt-roberta-en-base and are newly initialized: ['classifier.bias', 'classifier.weight']\n",
            "You should probably TRAIN this model on a down-stream task to be able to use it for predictions and inference.\n"
          ]
        }
      ]
    },
    {
      "cell_type": "code",
      "source": [
        "print(model)"
      ],
      "metadata": {
        "id": "AaR7-CbfAKGu",
        "outputId": "e6df25a4-a40e-4d83-f1d7-c829d443d64b",
        "colab": {
          "base_uri": "https://localhost:8080/"
        }
      },
      "execution_count": 110,
      "outputs": [
        {
          "output_type": "stream",
          "name": "stdout",
          "text": [
            "LiltForTokenClassification(\n",
            "  (lilt): LiltModel(\n",
            "    (embeddings): LiltTextEmbeddings(\n",
            "      (word_embeddings): Embedding(50265, 768, padding_idx=1)\n",
            "      (position_embeddings): Embedding(514, 768, padding_idx=1)\n",
            "      (token_type_embeddings): Embedding(1, 768)\n",
            "      (LayerNorm): LayerNorm((768,), eps=1e-05, elementwise_affine=True)\n",
            "      (dropout): Dropout(p=0.1, inplace=False)\n",
            "    )\n",
            "    (layout_embeddings): LiltLayoutEmbeddings(\n",
            "      (x_position_embeddings): Embedding(1024, 128)\n",
            "      (y_position_embeddings): Embedding(1024, 128)\n",
            "      (h_position_embeddings): Embedding(1024, 128)\n",
            "      (w_position_embeddings): Embedding(1024, 128)\n",
            "      (box_position_embeddings): Embedding(514, 192, padding_idx=1)\n",
            "      (box_linear_embeddings): Linear(in_features=768, out_features=192, bias=True)\n",
            "      (LayerNorm): LayerNorm((192,), eps=1e-05, elementwise_affine=True)\n",
            "      (dropout): Dropout(p=0.1, inplace=False)\n",
            "    )\n",
            "    (encoder): LiltEncoder(\n",
            "      (layer): ModuleList(\n",
            "        (0-11): 12 x LiltLayer(\n",
            "          (attention): LiltAttention(\n",
            "            (self): LiltSelfAttention(\n",
            "              (query): Linear(in_features=768, out_features=768, bias=True)\n",
            "              (key): Linear(in_features=768, out_features=768, bias=True)\n",
            "              (value): Linear(in_features=768, out_features=768, bias=True)\n",
            "              (layout_query): Linear(in_features=192, out_features=192, bias=True)\n",
            "              (layout_key): Linear(in_features=192, out_features=192, bias=True)\n",
            "              (layout_value): Linear(in_features=192, out_features=192, bias=True)\n",
            "              (dropout): Dropout(p=0.1, inplace=False)\n",
            "            )\n",
            "            (output): LiltSelfOutput(\n",
            "              (dense): Linear(in_features=768, out_features=768, bias=True)\n",
            "              (LayerNorm): LayerNorm((768,), eps=1e-05, elementwise_affine=True)\n",
            "              (dropout): Dropout(p=0.1, inplace=False)\n",
            "            )\n",
            "            (layout_output): LiltSelfOutput(\n",
            "              (dense): Linear(in_features=192, out_features=192, bias=True)\n",
            "              (LayerNorm): LayerNorm((192,), eps=1e-05, elementwise_affine=True)\n",
            "              (dropout): Dropout(p=0.1, inplace=False)\n",
            "            )\n",
            "          )\n",
            "          (intermediate): LiltIntermediate(\n",
            "            (dense): Linear(in_features=768, out_features=3072, bias=True)\n",
            "            (intermediate_act_fn): GELUActivation()\n",
            "          )\n",
            "          (output): LiltOutput(\n",
            "            (dense): Linear(in_features=3072, out_features=768, bias=True)\n",
            "            (LayerNorm): LayerNorm((768,), eps=1e-05, elementwise_affine=True)\n",
            "            (dropout): Dropout(p=0.1, inplace=False)\n",
            "          )\n",
            "          (layout_intermediate): LiltIntermediate(\n",
            "            (dense): Linear(in_features=192, out_features=768, bias=True)\n",
            "            (intermediate_act_fn): GELUActivation()\n",
            "          )\n",
            "          (layout_output): LiltOutput(\n",
            "            (dense): Linear(in_features=768, out_features=192, bias=True)\n",
            "            (LayerNorm): LayerNorm((192,), eps=1e-05, elementwise_affine=True)\n",
            "            (dropout): Dropout(p=0.1, inplace=False)\n",
            "          )\n",
            "        )\n",
            "      )\n",
            "    )\n",
            "  )\n",
            "  (dropout): Dropout(p=0.1, inplace=False)\n",
            "  (classifier): Linear(in_features=768, out_features=17, bias=True)\n",
            ")\n"
          ]
        }
      ]
    },
    {
      "cell_type": "code",
      "source": [
        "metric = load_metric(\"seqeval\")\n",
        "import numpy as np\n",
        "\n",
        "return_entity_level_metrics = False\n",
        "\n",
        "def compute_metrics(p):\n",
        "    predictions, labels = p\n",
        "    predictions = np.argmax(predictions, axis=2)\n",
        "\n",
        "    # Remove ignored index (special tokens)\n",
        "    true_predictions = [\n",
        "        [label_list[p] for (p, l) in zip(prediction, label) if l != -100]\n",
        "        for prediction, label in zip(predictions, labels)\n",
        "    ]\n",
        "    true_labels = [\n",
        "        [label_list[l] for (p, l) in zip(prediction, label) if l != -100]\n",
        "        for prediction, label in zip(predictions, labels)\n",
        "    ]\n",
        "\n",
        "    results = metric.compute(predictions=true_predictions, references=true_labels,zero_division='0')\n",
        "    if return_entity_level_metrics:\n",
        "        # Unpack nested dictionaries\n",
        "        final_results = {}\n",
        "        for key, value in results.items():\n",
        "            if isinstance(value, dict):\n",
        "                for n, v in value.items():\n",
        "                    final_results[f\"{key}_{n}\"] = v\n",
        "            else:\n",
        "                final_results[key] = value\n",
        "        return final_results\n",
        "    else:\n",
        "        return {\n",
        "            \"precision\": results[\"overall_precision\"],\n",
        "            \"recall\": results[\"overall_recall\"],\n",
        "            \"f1\": results[\"overall_f1\"],\n",
        "            \"accuracy\": results[\"overall_accuracy\"],\n",
        "        }"
      ],
      "metadata": {
        "id": "vfTvqvr9AP8t",
        "outputId": "79aaaedf-2bea-4015-ed16-cf2faab20a0f",
        "colab": {
          "base_uri": "https://localhost:8080/",
          "height": 173,
          "referenced_widgets": [
            "75e75ed66dbf48fabd76f860f838c4c0",
            "b9f59a2a71fa43c9931848ed48710c49",
            "01daa3da7bae4bc0b5af3c5db90e4d2f",
            "dc843f8e5e55489fbe13c2fd409c13de",
            "fac403c20ad549af8dc493b8b9904f55",
            "84c70388862c4cbda8b8b7f81f2398b1",
            "e0fb5cda5475466e8c105d0477300dfd",
            "5833bb4408ca44f99dbed97ef590955f",
            "55fc45c679a44221b4bab9516625b78a",
            "d6f754f2cd904db28b7111dc94a23540",
            "718d3b10a0934fb49ce4fa7f7eed4a2e"
          ]
        }
      },
      "execution_count": 111,
      "outputs": [
        {
          "output_type": "stream",
          "name": "stderr",
          "text": [
            "<ipython-input-111-85fe06d7c113>:1: FutureWarning: load_metric is deprecated and will be removed in the next major version of datasets. Use 'evaluate.load' instead, from the new library 🤗 Evaluate: https://huggingface.co/docs/evaluate\n",
            "  metric = load_metric(\"seqeval\")\n",
            "/usr/local/lib/python3.10/dist-packages/datasets/load.py:756: FutureWarning: The repository for seqeval contains custom code which must be executed to correctly load the metric. You can inspect the repository content at https://raw.githubusercontent.com/huggingface/datasets/2.18.0/metrics/seqeval/seqeval.py\n",
            "You can avoid this message in future by passing the argument `trust_remote_code=True`.\n",
            "Passing `trust_remote_code=True` will be mandatory to load this metric from the next major release of `datasets`.\n",
            "  warnings.warn(\n"
          ]
        },
        {
          "output_type": "display_data",
          "data": {
            "text/plain": [
              "Downloading builder script:   0%|          | 0.00/2.47k [00:00<?, ?B/s]"
            ],
            "application/vnd.jupyter.widget-view+json": {
              "version_major": 2,
              "version_minor": 0,
              "model_id": "75e75ed66dbf48fabd76f860f838c4c0"
            }
          },
          "metadata": {}
        }
      ]
    },
    {
      "cell_type": "code",
      "source": [
        "from transformers import Trainer, TrainingArguments\n",
        "NUM_TRAIN_EPOCHS = 100\n",
        "PER_DEVICE_TRAIN_BATCH_SIZE = 2\n",
        "PER_DEVICE_EVAL_BATCH_SIZE = 2\n",
        "LEARNING_RATE = 4e-5\n",
        "training_args = TrainingArguments(output_dir=\"LiLT_INVOICE\",\n",
        "                                  # max_steps=1500,\n",
        "                                  num_train_epochs=NUM_TRAIN_EPOCHS,\n",
        "                                  logging_strategy=\"epoch\",\n",
        "                                  save_total_limit=1,\n",
        "                                  per_device_train_batch_size=PER_DEVICE_TRAIN_BATCH_SIZE,\n",
        "                                  per_device_eval_batch_size=PER_DEVICE_EVAL_BATCH_SIZE,\n",
        "                                  learning_rate=LEARNING_RATE,\n",
        "                                  evaluation_strategy=\"no\",\n",
        "                                  save_strategy=\"no\",\n",
        "                                  # eval_steps=100,\n",
        "                                  load_best_model_at_end=True,\n",
        "                                  metric_for_best_model=\"f1\")\n",
        "\n",
        "# Initialize our Trainer\n",
        "trainer = Trainer(\n",
        "    model=model,\n",
        "    args=training_args,\n",
        "    train_dataset=train_dataset,\n",
        "    eval_dataset=eval_dataset,\n",
        "    data_collator=default_data_collator,\n",
        "    compute_metrics=compute_metrics,\n",
        ")\n"
      ],
      "metadata": {
        "id": "FSM74LweAnnJ",
        "outputId": "53caf73d-9ab3-498e-890b-cdb411a38d35",
        "colab": {
          "base_uri": "https://localhost:8080/"
        }
      },
      "execution_count": 150,
      "outputs": [
        {
          "output_type": "stream",
          "name": "stderr",
          "text": [
            "/usr/local/lib/python3.10/dist-packages/accelerate/accelerator.py:432: FutureWarning: Passing the following arguments to `Accelerator` is deprecated and will be removed in version 1.0 of Accelerate: dict_keys(['dispatch_batches', 'split_batches', 'even_batches', 'use_seedable_sampler']). Please pass an `accelerate.DataLoaderConfiguration` instead: \n",
            "dataloader_config = DataLoaderConfiguration(dispatch_batches=None, split_batches=False, even_batches=True, use_seedable_sampler=True)\n",
            "  warnings.warn(\n"
          ]
        }
      ]
    },
    {
      "cell_type": "code",
      "source": [
        "import gc\n",
        "torch.cuda.empty_cache()\n",
        "gc.collect()"
      ],
      "metadata": {
        "id": "rBx80NdnA_FI",
        "outputId": "6dd9ad75-836c-468f-e866-02d795b7964e",
        "colab": {
          "base_uri": "https://localhost:8080/"
        }
      },
      "execution_count": 151,
      "outputs": [
        {
          "output_type": "execute_result",
          "data": {
            "text/plain": [
              "7681"
            ]
          },
          "metadata": {},
          "execution_count": 151
        }
      ]
    },
    {
      "cell_type": "code",
      "source": [
        "# Start training\n",
        "trainer.train()"
      ],
      "metadata": {
        "id": "3J4pNq9hBHKR",
        "outputId": "ec977b35-83f9-4c1d-ea40-6acbc53df64c",
        "colab": {
          "base_uri": "https://localhost:8080/",
          "height": 1000
        }
      },
      "execution_count": 152,
      "outputs": [
        {
          "output_type": "display_data",
          "data": {
            "text/plain": [
              "<IPython.core.display.HTML object>"
            ],
            "text/html": [
              "\n",
              "    <div>\n",
              "      \n",
              "      <progress value='100' max='100' style='width:300px; height:20px; vertical-align: middle;'></progress>\n",
              "      [100/100 28:50, Epoch 100/100]\n",
              "    </div>\n",
              "    <table border=\"1\" class=\"dataframe\">\n",
              "  <thead>\n",
              " <tr style=\"text-align: left;\">\n",
              "      <th>Step</th>\n",
              "      <th>Training Loss</th>\n",
              "    </tr>\n",
              "  </thead>\n",
              "  <tbody>\n",
              "    <tr>\n",
              "      <td>1</td>\n",
              "      <td>0.089100</td>\n",
              "    </tr>\n",
              "    <tr>\n",
              "      <td>2</td>\n",
              "      <td>0.187400</td>\n",
              "    </tr>\n",
              "    <tr>\n",
              "      <td>3</td>\n",
              "      <td>0.117000</td>\n",
              "    </tr>\n",
              "    <tr>\n",
              "      <td>4</td>\n",
              "      <td>0.097800</td>\n",
              "    </tr>\n",
              "    <tr>\n",
              "      <td>5</td>\n",
              "      <td>0.100300</td>\n",
              "    </tr>\n",
              "    <tr>\n",
              "      <td>6</td>\n",
              "      <td>0.077300</td>\n",
              "    </tr>\n",
              "    <tr>\n",
              "      <td>7</td>\n",
              "      <td>0.079000</td>\n",
              "    </tr>\n",
              "    <tr>\n",
              "      <td>8</td>\n",
              "      <td>0.069600</td>\n",
              "    </tr>\n",
              "    <tr>\n",
              "      <td>9</td>\n",
              "      <td>0.044600</td>\n",
              "    </tr>\n",
              "    <tr>\n",
              "      <td>10</td>\n",
              "      <td>0.046600</td>\n",
              "    </tr>\n",
              "    <tr>\n",
              "      <td>11</td>\n",
              "      <td>0.038600</td>\n",
              "    </tr>\n",
              "    <tr>\n",
              "      <td>12</td>\n",
              "      <td>0.033000</td>\n",
              "    </tr>\n",
              "    <tr>\n",
              "      <td>13</td>\n",
              "      <td>0.027600</td>\n",
              "    </tr>\n",
              "    <tr>\n",
              "      <td>14</td>\n",
              "      <td>0.024100</td>\n",
              "    </tr>\n",
              "    <tr>\n",
              "      <td>15</td>\n",
              "      <td>0.021600</td>\n",
              "    </tr>\n",
              "    <tr>\n",
              "      <td>16</td>\n",
              "      <td>0.017800</td>\n",
              "    </tr>\n",
              "    <tr>\n",
              "      <td>17</td>\n",
              "      <td>0.016300</td>\n",
              "    </tr>\n",
              "    <tr>\n",
              "      <td>18</td>\n",
              "      <td>0.013600</td>\n",
              "    </tr>\n",
              "    <tr>\n",
              "      <td>19</td>\n",
              "      <td>0.012200</td>\n",
              "    </tr>\n",
              "    <tr>\n",
              "      <td>20</td>\n",
              "      <td>0.011400</td>\n",
              "    </tr>\n",
              "    <tr>\n",
              "      <td>21</td>\n",
              "      <td>0.012600</td>\n",
              "    </tr>\n",
              "    <tr>\n",
              "      <td>22</td>\n",
              "      <td>0.009500</td>\n",
              "    </tr>\n",
              "    <tr>\n",
              "      <td>23</td>\n",
              "      <td>0.009700</td>\n",
              "    </tr>\n",
              "    <tr>\n",
              "      <td>24</td>\n",
              "      <td>0.007300</td>\n",
              "    </tr>\n",
              "    <tr>\n",
              "      <td>25</td>\n",
              "      <td>0.006900</td>\n",
              "    </tr>\n",
              "    <tr>\n",
              "      <td>26</td>\n",
              "      <td>0.006600</td>\n",
              "    </tr>\n",
              "    <tr>\n",
              "      <td>27</td>\n",
              "      <td>0.006700</td>\n",
              "    </tr>\n",
              "    <tr>\n",
              "      <td>28</td>\n",
              "      <td>0.005800</td>\n",
              "    </tr>\n",
              "    <tr>\n",
              "      <td>29</td>\n",
              "      <td>0.005200</td>\n",
              "    </tr>\n",
              "    <tr>\n",
              "      <td>30</td>\n",
              "      <td>0.005400</td>\n",
              "    </tr>\n",
              "    <tr>\n",
              "      <td>31</td>\n",
              "      <td>0.004800</td>\n",
              "    </tr>\n",
              "    <tr>\n",
              "      <td>32</td>\n",
              "      <td>0.004700</td>\n",
              "    </tr>\n",
              "    <tr>\n",
              "      <td>33</td>\n",
              "      <td>0.004300</td>\n",
              "    </tr>\n",
              "    <tr>\n",
              "      <td>34</td>\n",
              "      <td>0.005000</td>\n",
              "    </tr>\n",
              "    <tr>\n",
              "      <td>35</td>\n",
              "      <td>0.003500</td>\n",
              "    </tr>\n",
              "    <tr>\n",
              "      <td>36</td>\n",
              "      <td>0.003800</td>\n",
              "    </tr>\n",
              "    <tr>\n",
              "      <td>37</td>\n",
              "      <td>0.003300</td>\n",
              "    </tr>\n",
              "    <tr>\n",
              "      <td>38</td>\n",
              "      <td>0.003300</td>\n",
              "    </tr>\n",
              "    <tr>\n",
              "      <td>39</td>\n",
              "      <td>0.003600</td>\n",
              "    </tr>\n",
              "    <tr>\n",
              "      <td>40</td>\n",
              "      <td>0.003000</td>\n",
              "    </tr>\n",
              "    <tr>\n",
              "      <td>41</td>\n",
              "      <td>0.002500</td>\n",
              "    </tr>\n",
              "    <tr>\n",
              "      <td>42</td>\n",
              "      <td>0.002800</td>\n",
              "    </tr>\n",
              "    <tr>\n",
              "      <td>43</td>\n",
              "      <td>0.002900</td>\n",
              "    </tr>\n",
              "    <tr>\n",
              "      <td>44</td>\n",
              "      <td>0.002700</td>\n",
              "    </tr>\n",
              "    <tr>\n",
              "      <td>45</td>\n",
              "      <td>0.002700</td>\n",
              "    </tr>\n",
              "    <tr>\n",
              "      <td>46</td>\n",
              "      <td>0.002600</td>\n",
              "    </tr>\n",
              "    <tr>\n",
              "      <td>47</td>\n",
              "      <td>0.002500</td>\n",
              "    </tr>\n",
              "    <tr>\n",
              "      <td>48</td>\n",
              "      <td>0.002400</td>\n",
              "    </tr>\n",
              "    <tr>\n",
              "      <td>49</td>\n",
              "      <td>0.002000</td>\n",
              "    </tr>\n",
              "    <tr>\n",
              "      <td>50</td>\n",
              "      <td>0.002400</td>\n",
              "    </tr>\n",
              "    <tr>\n",
              "      <td>51</td>\n",
              "      <td>0.002300</td>\n",
              "    </tr>\n",
              "    <tr>\n",
              "      <td>52</td>\n",
              "      <td>0.002100</td>\n",
              "    </tr>\n",
              "    <tr>\n",
              "      <td>53</td>\n",
              "      <td>0.002100</td>\n",
              "    </tr>\n",
              "    <tr>\n",
              "      <td>54</td>\n",
              "      <td>0.002000</td>\n",
              "    </tr>\n",
              "    <tr>\n",
              "      <td>55</td>\n",
              "      <td>0.002100</td>\n",
              "    </tr>\n",
              "    <tr>\n",
              "      <td>56</td>\n",
              "      <td>0.002100</td>\n",
              "    </tr>\n",
              "    <tr>\n",
              "      <td>57</td>\n",
              "      <td>0.002100</td>\n",
              "    </tr>\n",
              "    <tr>\n",
              "      <td>58</td>\n",
              "      <td>0.002000</td>\n",
              "    </tr>\n",
              "    <tr>\n",
              "      <td>59</td>\n",
              "      <td>0.002000</td>\n",
              "    </tr>\n",
              "    <tr>\n",
              "      <td>60</td>\n",
              "      <td>0.001900</td>\n",
              "    </tr>\n",
              "    <tr>\n",
              "      <td>61</td>\n",
              "      <td>0.001800</td>\n",
              "    </tr>\n",
              "    <tr>\n",
              "      <td>62</td>\n",
              "      <td>0.001900</td>\n",
              "    </tr>\n",
              "    <tr>\n",
              "      <td>63</td>\n",
              "      <td>0.001800</td>\n",
              "    </tr>\n",
              "    <tr>\n",
              "      <td>64</td>\n",
              "      <td>0.001900</td>\n",
              "    </tr>\n",
              "    <tr>\n",
              "      <td>65</td>\n",
              "      <td>0.001800</td>\n",
              "    </tr>\n",
              "    <tr>\n",
              "      <td>66</td>\n",
              "      <td>0.001800</td>\n",
              "    </tr>\n",
              "    <tr>\n",
              "      <td>67</td>\n",
              "      <td>0.002000</td>\n",
              "    </tr>\n",
              "    <tr>\n",
              "      <td>68</td>\n",
              "      <td>0.001700</td>\n",
              "    </tr>\n",
              "    <tr>\n",
              "      <td>69</td>\n",
              "      <td>0.001800</td>\n",
              "    </tr>\n",
              "    <tr>\n",
              "      <td>70</td>\n",
              "      <td>0.001700</td>\n",
              "    </tr>\n",
              "    <tr>\n",
              "      <td>71</td>\n",
              "      <td>0.001800</td>\n",
              "    </tr>\n",
              "    <tr>\n",
              "      <td>72</td>\n",
              "      <td>0.001900</td>\n",
              "    </tr>\n",
              "    <tr>\n",
              "      <td>73</td>\n",
              "      <td>0.001800</td>\n",
              "    </tr>\n",
              "    <tr>\n",
              "      <td>74</td>\n",
              "      <td>0.001800</td>\n",
              "    </tr>\n",
              "    <tr>\n",
              "      <td>75</td>\n",
              "      <td>0.001800</td>\n",
              "    </tr>\n",
              "    <tr>\n",
              "      <td>76</td>\n",
              "      <td>0.001700</td>\n",
              "    </tr>\n",
              "    <tr>\n",
              "      <td>77</td>\n",
              "      <td>0.001700</td>\n",
              "    </tr>\n",
              "    <tr>\n",
              "      <td>78</td>\n",
              "      <td>0.001500</td>\n",
              "    </tr>\n",
              "    <tr>\n",
              "      <td>79</td>\n",
              "      <td>0.001800</td>\n",
              "    </tr>\n",
              "    <tr>\n",
              "      <td>80</td>\n",
              "      <td>0.001600</td>\n",
              "    </tr>\n",
              "    <tr>\n",
              "      <td>81</td>\n",
              "      <td>0.001700</td>\n",
              "    </tr>\n",
              "    <tr>\n",
              "      <td>82</td>\n",
              "      <td>0.001500</td>\n",
              "    </tr>\n",
              "    <tr>\n",
              "      <td>83</td>\n",
              "      <td>0.001500</td>\n",
              "    </tr>\n",
              "    <tr>\n",
              "      <td>84</td>\n",
              "      <td>0.001800</td>\n",
              "    </tr>\n",
              "    <tr>\n",
              "      <td>85</td>\n",
              "      <td>0.001500</td>\n",
              "    </tr>\n",
              "    <tr>\n",
              "      <td>86</td>\n",
              "      <td>0.001600</td>\n",
              "    </tr>\n",
              "    <tr>\n",
              "      <td>87</td>\n",
              "      <td>0.001500</td>\n",
              "    </tr>\n",
              "    <tr>\n",
              "      <td>88</td>\n",
              "      <td>0.001400</td>\n",
              "    </tr>\n",
              "    <tr>\n",
              "      <td>89</td>\n",
              "      <td>0.001500</td>\n",
              "    </tr>\n",
              "    <tr>\n",
              "      <td>90</td>\n",
              "      <td>0.001500</td>\n",
              "    </tr>\n",
              "    <tr>\n",
              "      <td>91</td>\n",
              "      <td>0.001600</td>\n",
              "    </tr>\n",
              "    <tr>\n",
              "      <td>92</td>\n",
              "      <td>0.001600</td>\n",
              "    </tr>\n",
              "    <tr>\n",
              "      <td>93</td>\n",
              "      <td>0.001400</td>\n",
              "    </tr>\n",
              "    <tr>\n",
              "      <td>94</td>\n",
              "      <td>0.001500</td>\n",
              "    </tr>\n",
              "    <tr>\n",
              "      <td>95</td>\n",
              "      <td>0.001700</td>\n",
              "    </tr>\n",
              "    <tr>\n",
              "      <td>96</td>\n",
              "      <td>0.001400</td>\n",
              "    </tr>\n",
              "    <tr>\n",
              "      <td>97</td>\n",
              "      <td>0.001500</td>\n",
              "    </tr>\n",
              "    <tr>\n",
              "      <td>98</td>\n",
              "      <td>0.001700</td>\n",
              "    </tr>\n",
              "    <tr>\n",
              "      <td>99</td>\n",
              "      <td>0.001500</td>\n",
              "    </tr>\n",
              "    <tr>\n",
              "      <td>100</td>\n",
              "      <td>0.001500</td>\n",
              "    </tr>\n",
              "  </tbody>\n",
              "</table><p>"
            ]
          },
          "metadata": {}
        },
        {
          "output_type": "execute_result",
          "data": {
            "text/plain": [
              "TrainOutput(global_step=100, training_loss=0.013530005952343344, metrics={'train_runtime': 1751.1886, 'train_samples_per_second': 0.114, 'train_steps_per_second': 0.057, 'total_flos': 55637282611200.0, 'train_loss': 0.013530005952343344, 'epoch': 100.0})"
            ]
          },
          "metadata": {},
          "execution_count": 152
        }
      ]
    },
    {
      "cell_type": "code",
      "source": [
        "trainer.evaluate()"
      ],
      "metadata": {
        "id": "O8iet5ybE53j",
        "outputId": "6da8899d-8c15-4110-e365-316d235ae7cc",
        "colab": {
          "base_uri": "https://localhost:8080/",
          "height": 193
        }
      },
      "execution_count": 153,
      "outputs": [
        {
          "output_type": "display_data",
          "data": {
            "text/plain": [
              "<IPython.core.display.HTML object>"
            ],
            "text/html": [
              "\n",
              "    <div>\n",
              "      \n",
              "      <progress value='1' max='1' style='width:300px; height:20px; vertical-align: middle;'></progress>\n",
              "      [1/1 : < :]\n",
              "    </div>\n",
              "    "
            ]
          },
          "metadata": {}
        },
        {
          "output_type": "execute_result",
          "data": {
            "text/plain": [
              "{'eval_loss': 1.948758602142334,\n",
              " 'eval_precision': 0.125,\n",
              " 'eval_recall': 0.15384615384615385,\n",
              " 'eval_f1': 0.13793103448275862,\n",
              " 'eval_accuracy': 0.7536231884057971,\n",
              " 'eval_runtime': 2.5192,\n",
              " 'eval_samples_per_second': 0.397,\n",
              " 'eval_steps_per_second': 0.397,\n",
              " 'epoch': 100.0}"
            ]
          },
          "metadata": {},
          "execution_count": 153
        }
      ]
    },
    {
      "cell_type": "code",
      "source": [
        "trainer.save_model('/content/LiLTmodel1/')"
      ],
      "metadata": {
        "id": "HQQBwRXeE_s7"
      },
      "execution_count": 154,
      "outputs": []
    },
    {
      "cell_type": "code",
      "source": [
        "from transformers import LiltForTokenClassification, LayoutLMv3Processor\n",
        "from transformers import LayoutLMv3FeatureExtractor, AutoTokenizer, LayoutLMv3Processor\n",
        "from PIL import Image, ImageDraw, ImageFont\n",
        "import torch\n",
        "\n",
        "# load model and processor from huggingface hub\n",
        "model = LiltForTokenClassification.from_pretrained(\"/content/LiLTmodel1\")\n",
        "\n",
        "\n",
        "model_id=\"SCUT-DLVCLab/lilt-roberta-en-base\"\n",
        "\n",
        "# use LayoutLMv3 processor without ocr since the dataset already includes the ocr text\n",
        "feature_extractor = LayoutLMv3FeatureExtractor(apply_ocr=True) # set\n",
        "tokenizer = AutoTokenizer.from_pretrained(model_id)\n",
        "# cannot use from_pretrained since the processor is not saved in the base model\n",
        "processor = LayoutLMv3Processor(feature_extractor, tokenizer)\n",
        "\n",
        "\n",
        "\n",
        "# helper function to unnormalize bboxes for drawing onto the image\n",
        "def unnormalize_box(bbox, width, height):\n",
        "    return [\n",
        "        width * (bbox[0] / 1000),\n",
        "        height * (bbox[1] / 1000),\n",
        "        width * (bbox[2] / 1000),\n",
        "        height * (bbox[3] / 1000),\n",
        "    ]\n",
        "\n",
        "\n",
        "label2color = {\n",
        "'B-SHIP TO ADDRESS' :\"blue\",\n",
        " 'B-SHIP TO NAME':\"orange\",\n",
        " 'B-SOLD TO ADDRESS':\"green\",\n",
        " 'B-SOLD TO NAME':\"violet\",\n",
        " 'E-SHIP TO ADDRESS':\"blue\",\n",
        " 'E-SHIP TO NAME':\"orange\",\n",
        " 'E-SOLD TO ADDRESS':\"green\",\n",
        " 'E-SOLD TO NAME':\"violet\",\n",
        " 'I-SHIP TO ADDRESS':\"blue\",\n",
        " 'I-SHIP TO NAME':\"orange\",\n",
        " 'I-SOLD TO ADDRESS':\"green\",\n",
        " 'I-SOLD TO NAME':\"violet\",\n",
        " 'S-INVOICE DATE':\"yellow\",\n",
        " 'S-INVOICE NUMBER':\"cyan\",\n",
        " 'S-SOLD TO ADDRESS':\"green\",\n",
        " 'S-SOLD TO NAME':\"violet\",\n",
        " 'S-TOTAL AMOUNT':\"purple\",\n",
        " 'O':\"red\"}\n",
        "\n",
        "# draw results onto the image\n",
        "def draw_boxes(image, boxes, predictions):\n",
        "    width, height = image.size\n",
        "    normalizes_boxes = [unnormalize_box(box, width, height) for box in boxes]\n",
        "\n",
        "    # draw predictions over the image\n",
        "    draw = ImageDraw.Draw(image)\n",
        "    font = ImageFont.load_default()\n",
        "    for prediction, box in zip(predictions, normalizes_boxes):\n",
        "        if prediction == \"O\":\n",
        "            continue\n",
        "        draw.rectangle(box, outline=\"black\")\n",
        "        draw.rectangle(box, outline=label2color[prediction])\n",
        "        draw.text((box[0] + 10, box[1] - 10), text=prediction, fill=label2color[prediction], font=font)\n",
        "    return image\n",
        "\n",
        "\n",
        "# run inference\n",
        "def run_inference(image, model=model, processor=processor, output_image=True):\n",
        "    # create model input\n",
        "    encoding = processor(image, return_tensors=\"pt\")\n",
        "    del encoding[\"pixel_values\"]\n",
        "    # run inference\n",
        "    outputs = model(**encoding)\n",
        "    predictions = outputs.logits.argmax(-1).squeeze().tolist()\n",
        "    # get labels\n",
        "    labels = [model.config.id2label[prediction] for prediction in predictions]\n",
        "    if output_image:\n",
        "        return draw_boxes(image, encoding[\"bbox\"][0], labels)\n",
        "    else:\n",
        "        return labels\n",
        "\n",
        "\n",
        "\n",
        "\n"
      ],
      "metadata": {
        "id": "KOgUlR1SFJMw"
      },
      "execution_count": 156,
      "outputs": []
    },
    {
      "cell_type": "code",
      "source": [
        "from PIL import Image, ImageDraw, ImageFont\n",
        "\n",
        "image = Image.open(\"/content/test_images/1_test.png\")\n",
        "image = image.convert(\"RGB\")\n",
        "newimg1=image.resize((350,450))\n",
        "run_inference(newimg1)"
      ],
      "metadata": {
        "id": "QS1z_XrMJJlP",
        "outputId": "bd8f155b-66f0-4302-94cc-12a7415e58bc",
        "colab": {
          "base_uri": "https://localhost:8080/",
          "height": 467
        }
      },
      "execution_count": 157,
      "outputs": [
        {
          "output_type": "execute_result",
          "data": {
            "text/plain": [
              "<PIL.Image.Image image mode=RGB size=350x450>"
            ],
            "image/png": "[encoded data removed]"
          },
          "metadata": {},
          "execution_count": 157
        }
      ]
    }
  ]
}